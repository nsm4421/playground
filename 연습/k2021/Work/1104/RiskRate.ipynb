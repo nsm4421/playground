{
 "cells": [
  {
   "cell_type": "code",
   "execution_count": null,
   "metadata": {},
   "outputs": [],
   "source": [
    "import pandas as pd\n",
    "import numpy as np\n",
    "from tqdm import tqdm"
   ]
  },
  {
   "cell_type": "markdown",
   "metadata": {},
   "source": [
    "## Excel 파일 읽기"
   ]
  },
  {
   "cell_type": "code",
   "execution_count": null,
   "metadata": {},
   "outputs": [],
   "source": [
    "df = pd.read_excel('./RiskRate.xlsx', sheet_name='위험률조회').fillna(0.)\n",
    "print(df.shape)\n",
    "df.head()"
   ]
  },
  {
   "cell_type": "code",
   "execution_count": null,
   "metadata": {},
   "outputs": [],
   "source": [
    "raw_df = df.copy(deep=True)"
   ]
  },
  {
   "cell_type": "markdown",
   "metadata": {},
   "source": [
    "## 필요한 컬럼만 발라내기"
   ]
  },
  {
   "cell_type": "code",
   "execution_count": null,
   "metadata": {},
   "outputs": [],
   "source": [
    "print(df.columns)"
   ]
  },
  {
   "cell_type": "markdown",
   "metadata": {},
   "source": [
    "구분자는 1~4만 사용"
   ]
  },
  {
   "cell_type": "code",
   "execution_count": null,
   "metadata": {},
   "outputs": [],
   "source": [
    "df = df[['위험률명칭', '성별', '등급', '분류옵션',] \\\n",
    "    + [f\"구분{i}\" for i in range(1, 5)] +\\\n",
    "        [f'q{j}' for j in range(151)]]\n",
    "print(df.shape)\n",
    "df.head()"
   ]
  },
  {
   "cell_type": "markdown",
   "metadata": {},
   "source": [
    "분류 옵션\n",
    "\n",
    "    - 1차원 : 전처리하려는 내용\n",
    "    - 2차원 : 이차위험률 (ex.재진단암)\n",
    "    - 전체0 : 왜 있는지 모르겠음"
   ]
  },
  {
   "cell_type": "code",
   "execution_count": null,
   "metadata": {},
   "outputs": [],
   "source": [
    "np.unique(df['분류옵션'].values)"
   ]
  },
  {
   "cell_type": "code",
   "execution_count": null,
   "metadata": {},
   "outputs": [],
   "source": [
    "df.loc[df['분류옵션'] == '전체0']"
   ]
  },
  {
   "cell_type": "code",
   "execution_count": null,
   "metadata": {},
   "outputs": [],
   "source": [
    "# 분류옵션이 1차원인 건만 대상건으로 하자.\n",
    "\n",
    "df = df.loc[df['분류옵션'] == '1차원']\n",
    "df = df.drop(['분류옵션'], axis = 1)\n",
    "print(df.shape)\n",
    "df.head()"
   ]
  },
  {
   "cell_type": "markdown",
   "metadata": {},
   "source": [
    "위험률명칭 컬럼\n",
    "\n",
    "    위험률명만 뽑아내기"
   ]
  },
  {
   "cell_type": "code",
   "execution_count": null,
   "metadata": {},
   "outputs": [],
   "source": [
    "df['위험률명칭'] = df['위험률명칭'].apply(lambda x:x.split('_')[-1])\n",
    "df.head()"
   ]
  },
  {
   "cell_type": "markdown",
   "metadata": {},
   "source": [
    "위험률명에 > 들어간 경우 제거"
   ]
  },
  {
   "cell_type": "code",
   "execution_count": null,
   "metadata": {},
   "outputs": [],
   "source": [
    "df = df.loc[[(\">\" not in v) for v in df['위험률명칭'].values]]\n",
    "print(df.shape)\n",
    "df.sample(5)"
   ]
  },
  {
   "cell_type": "code",
   "execution_count": null,
   "metadata": {},
   "outputs": [],
   "source": [
    "df.loc[df['위험률명칭'] == \"상해중환자실입원율(1-10일)\"]"
   ]
  },
  {
   "cell_type": "markdown",
   "metadata": {},
   "source": [
    "성별 컬럼\n",
    "\n",
    "    성별컬럼이 ALL인경우 1, 2로 넣기"
   ]
  },
  {
   "cell_type": "code",
   "execution_count": null,
   "metadata": {},
   "outputs": [],
   "source": [
    "np.unique(df['성별'].values)"
   ]
  },
  {
   "cell_type": "code",
   "execution_count": null,
   "metadata": {},
   "outputs": [],
   "source": [
    "df2 = df.loc[df['성별'] == 'ALL'].copy(deep=True)\n",
    "print(df2.shape)\n",
    "df2 = df2.append(df2)\n",
    "df2.index = range(df2.shape[0])\n",
    "for i in range(df2.shape[0]):\n",
    "    df2.iloc[i, 1] = '1' if i<df2.shape[0]/2 else '2'\n",
    "print(df2.shape)\n",
    "df2.head()"
   ]
  },
  {
   "cell_type": "code",
   "execution_count": null,
   "metadata": {},
   "outputs": [],
   "source": [
    "df = df.loc[df['성별'] != 'ALL']\n",
    "print(df.shape)\n",
    "df = df.append(df2)\n",
    "\n",
    "print(df.shape)\n",
    "df.head()"
   ]
  },
  {
   "cell_type": "code",
   "execution_count": null,
   "metadata": {},
   "outputs": [],
   "source": [
    "single = []\n",
    "for row in df.values:\n",
    "    s = True\n",
    "    q0 = row[7]\n",
    "    for q_ in row[8:]:\n",
    "        if q_ != q0:\n",
    "            s = False\n",
    "    single.append(s)\n",
    "df['단일률여부'] = single"
   ]
  },
  {
   "cell_type": "markdown",
   "metadata": {},
   "source": [
    "위험률키 "
   ]
  },
  {
   "cell_type": "code",
   "execution_count": null,
   "metadata": {},
   "outputs": [],
   "source": [
    "print('구분1 ---> ', np.unique(df['구분1'].values))\n",
    "print('구분2 ---> ', np.unique(df['구분2'].values))\n",
    "print('구분3 ---> ', np.unique(df['구분3'].values))\n",
    "print('구분4 ---> ', np.unique(df['구분4'].values))"
   ]
  },
  {
   "cell_type": "code",
   "execution_count": null,
   "metadata": {},
   "outputs": [],
   "source": [
    "riskKeys = []\n",
    "for row in df.values:\n",
    "    riskName, sex, degree, sub1, sub2, sub3, sub4 = row[:7]\n",
    "    riskKeys.append(f\"{riskName}|{degree}|{sub1}|{sub2}|{sub3}|{sub4}\")\n",
    "df['위험률키'] = riskKeys"
   ]
  },
  {
   "cell_type": "code",
   "execution_count": null,
   "metadata": {},
   "outputs": [],
   "source": [
    "df.head()"
   ]
  },
  {
   "cell_type": "code",
   "execution_count": null,
   "metadata": {},
   "outputs": [],
   "source": [
    "df = df.sort_values(by='위험률키')\n",
    "df.index = range(df.shape[0])"
   ]
  },
  {
   "cell_type": "code",
   "execution_count": null,
   "metadata": {},
   "outputs": [],
   "source": [
    "df.head()"
   ]
  },
  {
   "cell_type": "code",
   "execution_count": null,
   "metadata": {},
   "outputs": [],
   "source": [
    "cols = ['위험률명칭','성별', '등급', '구분1', '구분2', '구분3', '구분4']\n",
    "result_male = {}\n",
    "result_female = {}\n",
    "\n",
    "for row in df[cols + ['단일률여부'] +[f\"q{i}\" for i in range(121)]].values:\n",
    "   \n",
    "    riskName, sex, degree, sub1, sub2, sub3, sub4, isSingle = row[:8]\n",
    "    \n",
    "    key = f\"{riskName}|{degree}|{sub1}|{sub2}|{sub3}|{sub4}\"\n",
    "\n",
    "    qx = row[8:]\n",
    "    \n",
    "    if int(sex)==1:\n",
    "        result_male[key] = {'qx' : qx[:121], 'isSingle' : isSingle}\n",
    "    else:\n",
    "        result_female[key] = {'qx' : qx[:121], 'isSingle' : isSingle}"
   ]
  },
  {
   "cell_type": "code",
   "execution_count": null,
   "metadata": {},
   "outputs": [],
   "source": [
    "with open('result.csv', 'w') as f:\n",
    "    f.write(\"위험률명칭|등급| 구분1| 구분2|구분3|구분4|연령|남자|여자 \\n\")\n",
    "    for key in riskKeys:\n",
    "        try:\n",
    "            qx_male = result_male[key]['qx']\n",
    "        except:\n",
    "            qx_male = [0.]*121\n",
    "        try:\n",
    "            qx_female = result_female[key]['qx']\n",
    "        except:\n",
    "            qx_female = [0.]*121\n",
    "        try:\n",
    "            isSingle = result_male[key]['isSingle']\n",
    "        except:\n",
    "            isSingle = result_female[key]['isSingle']\n",
    "    \n",
    "        if isSingle:\n",
    "            f.write(key + f'|ZZ|{qx_male[0]}|{qx_female[0]} \\n')       \n",
    "        else:\n",
    "            for s in range(121):\n",
    "                f.write(key + f'|{s}|{qx_male[0]}|{qx_female[0]} \\n')        \n"
   ]
  }
 ],
 "metadata": {
  "interpreter": {
   "hash": "b44fe91c69e2b1abd0452e0c146ded48aef6cb91493b6eec5e5837f19ea85410"
  },
  "kernelspec": {
   "display_name": "Python 3.9.6 64-bit",
   "name": "python3"
  },
  "language_info": {
   "codemirror_mode": {
    "name": "ipython",
    "version": 3
   },
   "file_extension": ".py",
   "mimetype": "text/x-python",
   "name": "python",
   "nbconvert_exporter": "python",
   "pygments_lexer": "ipython3",
   "version": "3.9.6"
  },
  "orig_nbformat": 4
 },
 "nbformat": 4,
 "nbformat_minor": 2
}

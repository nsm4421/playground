{
 "cells": [
  {
   "cell_type": "markdown",
   "source": [
    "# PV"
   ],
   "metadata": {}
  },
  {
   "cell_type": "markdown",
   "source": [
    "## Load modules"
   ],
   "metadata": {}
  },
  {
   "cell_type": "code",
   "execution_count": null,
   "source": [
    "import numpy as np\r\n",
    "import pandas as pd\r\n",
    "from datetime import datetime\r\n",
    "from MyPV import MyPV"
   ],
   "outputs": [],
   "metadata": {}
  },
  {
   "cell_type": "markdown",
   "source": [
    "## PV"
   ],
   "metadata": {}
  },
  {
   "cell_type": "code",
   "execution_count": null,
   "source": [
    "pv = MyPV()"
   ],
   "outputs": [],
   "metadata": {}
  },
  {
   "cell_type": "code",
   "execution_count": null,
   "source": [
    "pv.sht_rate.head()"
   ],
   "outputs": [],
   "metadata": {}
  },
  {
   "cell_type": "code",
   "execution_count": null,
   "source": [
    "pv.sht_expense.head()"
   ],
   "outputs": [],
   "metadata": {}
  },
  {
   "cell_type": "code",
   "execution_count": null,
   "source": [
    "pv.sht_code.head()"
   ],
   "outputs": [],
   "metadata": {}
  },
  {
   "cell_type": "code",
   "execution_count": null,
   "source": [
    "pv.setArgsIthRow(0)\r\n",
    "pv.Calc(returnSample=True).head(10)"
   ],
   "outputs": [],
   "metadata": {}
  },
  {
   "cell_type": "code",
   "execution_count": null,
   "source": [
    "rows = []\r\n",
    "for i in range(pv.sht_expense.shape[0]):\r\n",
    "    row = []\r\n",
    "    pv.setArgsIthRow(i)\r\n",
    "\r\n",
    "    calc = pv.Calc()\r\n",
    "    NP_beta = calc['NP_beta']\r\n",
    "    G = calc['G']\r\n",
    "    tVx = calc['tVx']\r\n",
    "    tWx = calc['tWx']\r\n",
    "\r\n",
    "    if len(tVx)<11:\r\n",
    "        tVx = tVx + [0.]*(11-len(tVx))\r\n",
    "        tWx = tWx + [0.]*(11-len(tWx))\r\n",
    "    row.append(round(G*100000, 0))\r\n",
    "    row.append(round(NP_beta*100000, 0))\r\n",
    "\r\n",
    "    row.append(round(tVx[1]*100000, 0))\r\n",
    "    row.append(round(tVx[3]*100000, 0))\r\n",
    "    row.append(round(tVx[5]*100000, 0))\r\n",
    "    row.append(round(tVx[7]*100000, 0))\r\n",
    "    row.append(round(tVx[10]*100000, 0))\r\n",
    "\r\n",
    "    row.append(round(tWx[1]*100000, 0))\r\n",
    "    row.append(round(tWx[3]*100000, 0))\r\n",
    "    row.append(round(tWx[5]*100000, 0))\r\n",
    "    row.append(round(tWx[7]*100000, 0))\r\n",
    "    row.append(round(tWx[10]*100000, 0))\r\n",
    "    rows.append(row)\r\n",
    "\r\n",
    "result = pd.DataFrame(rows, columns=['G', 'NP_beta', 'V1', 'V3', 'V5', 'V7', 'V10', 'W1', 'W3', 'W5', 'W7', 'W10'])\r\n",
    "result.head()"
   ],
   "outputs": [],
   "metadata": {}
  }
 ],
 "metadata": {
  "orig_nbformat": 4,
  "language_info": {
   "name": "python",
   "version": "3.9.5",
   "mimetype": "text/x-python",
   "codemirror_mode": {
    "name": "ipython",
    "version": 3
   },
   "pygments_lexer": "ipython3",
   "nbconvert_exporter": "python",
   "file_extension": ".py"
  },
  "kernelspec": {
   "name": "python3",
   "display_name": "Python 3.9.5 64-bit"
  },
  "interpreter": {
   "hash": "51902d065fd6e660be0379b1baf3c7c6b11efc2d50f5e5f8e7ba9613741f3e85"
  }
 },
 "nbformat": 4,
 "nbformat_minor": 2
}
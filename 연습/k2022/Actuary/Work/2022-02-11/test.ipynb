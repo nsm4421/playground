{
 "cells": [
  {
   "cell_type": "markdown",
   "metadata": {},
   "source": [
    "# 전처리 예시파일"
   ]
  },
  {
   "cell_type": "markdown",
   "metadata": {},
   "source": [
    "필요한 패키지를 로드합니다"
   ]
  },
  {
   "cell_type": "code",
   "execution_count": 1,
   "metadata": {},
   "outputs": [],
   "source": [
    "import os\n",
    "from glob import glob"
   ]
  },
  {
   "cell_type": "markdown",
   "metadata": {},
   "source": [
    "PV 테이블 대신 사용할 샘플 데이터를 만들었습니다"
   ]
  },
  {
   "cell_type": "code",
   "execution_count": 2,
   "metadata": {},
   "outputs": [],
   "source": [
    "# seperator : comma\n",
    "with open('test/test1.txt', 'w') as f:\n",
    "    for _ in range(10000):    \n",
    "        f.write(\"1  2   3   4   5   6   7   8   9   10\\n\")\n",
    "\n",
    "with open('test/test2.txt', 'w') as f:\n",
    "    for _ in range(20000):    \n",
    "        f.write(\"11 12  13  14  15  16  17\\n\")\n",
    "\n",
    "with open('test/test3.txt', 'w') as f:\n",
    "    for _ in range(10000):    \n",
    "        f.write(\"a  b   c   d   e   f   g   h   i   j   k   l   m   n   o   p\\n\")\n",
    "\n",
    "with open('test/test4.txt', 'w') as f:\n",
    "    for _ in range(100000):    \n",
    "        f.write(\"q  r   s   t   u   v   w   x   y   z\\n\")"
   ]
  },
  {
   "cell_type": "markdown",
   "metadata": {},
   "source": [
    "glob 모듈을 사용해서 텍스트 파일 list up 할 수 있습니다"
   ]
  },
  {
   "cell_type": "code",
   "execution_count": 3,
   "metadata": {},
   "outputs": [
    {
     "name": "stdout",
     "output_type": "stream",
     "text": [
      "1th file : ./test\\test1.txt\n",
      "2th file : ./test\\test2.txt\n",
      "3th file : ./test\\test3.txt\n",
      "4th file : ./test\\test4.txt\n"
     ]
    }
   ],
   "source": [
    "path_data = \"./test\"                            # 데이터가 있는 경로\n",
    "txt_path_list = glob(f\"{path_data}/*.txt\")      # txt 파일 경로 list\n",
    "\n",
    "for i, file_path in enumerate(txt_path_list):\n",
    "    print(f\"{i+1}th file : {file_path}\")"
   ]
  },
  {
   "cell_type": "markdown",
   "metadata": {},
   "source": [
    "새로운 파일 경로는 현재경로\n",
    "\n",
    "separtor는 tab를 적용합니다"
   ]
  },
  {
   "cell_type": "code",
   "execution_count": 4,
   "metadata": {},
   "outputs": [
    {
     "name": "stdout",
     "output_type": "stream",
     "text": [
      "저장 파일 경로 : c:\\Users\\N\\Desktop\\Karma\\Actuary\\Work\\2022-02-11\\result.txt\n",
      "Seperator : tab\n"
     ]
    }
   ],
   "source": [
    "save_path = os.path.join(os.getcwd(), \"result.txt\")\n",
    "sep = \"\\t\"\n",
    "\n",
    "print(f\"저장 파일 경로 : {save_path}\")\n",
    "print(f\"Seperator : {'comma' if sep==',' else 'tab'}\")"
   ]
  },
  {
   "cell_type": "markdown",
   "metadata": {},
   "source": [
    "txt 파일 경로를 loop 돌면서 파일을 합칩니다"
   ]
  },
  {
   "cell_type": "code",
   "execution_count": 5,
   "metadata": {},
   "outputs": [
    {
     "name": "stdout",
     "output_type": "stream",
     "text": [
      "SUCCED - test1\n",
      "SUCCED - test2\n",
      "SUCCED - test3\n",
      "SUCCED - test4\n"
     ]
    }
   ],
   "source": [
    "# 저장할 파일을 엽니다.\n",
    "with open(save_path, 'w') as g:\n",
    "\n",
    "    # txt 파일에 대해 iteration을 돕니다.\n",
    "    for txt_path in txt_path_list:\n",
    "\n",
    "        try:\n",
    "            # txt 파일명\n",
    "            txt_file_name = txt_path.split(\"\\\\\")[-1].replace('.txt', '')\n",
    "\n",
    "            # txt 파일을 엽니다.\n",
    "            with open(txt_path, 'r') as f:  \n",
    "                # 파일을 다 읽을 때까지 무한루프롤 돕니다\n",
    "                \n",
    "                while True:          \n",
    "                    # 파일을 한줄 읽습니다\n",
    "                    line = f.readline().strip()\n",
    "                    # 파일 뒤에 파일명을 붙입니다\n",
    "\n",
    "                    new_line = line.replace(\"\\n\", \"\") + sep + txt_file_name + sep + \"\\n\"\n",
    "\n",
    "                    g.write(new_line)\n",
    "                    \n",
    "                    # 파일을 다 읽으면 루프를 탈출합니다\n",
    "                    if not line:\n",
    "                        break\n",
    "            \n",
    "            print(f\"SUCCED - {txt_file_name}\")\n",
    "        except:\n",
    "            print(f\"FAILURE - {txt_file_name}\")\n",
    "            pass"
   ]
  },
  {
   "cell_type": "code",
   "execution_count": null,
   "metadata": {},
   "outputs": [],
   "source": []
  }
 ],
 "metadata": {
  "interpreter": {
   "hash": "c82d94a48fd9619577fe9dd8e53e417893df5dc2bb0ea967f6feabc6bcdf8f2e"
  },
  "kernelspec": {
   "display_name": "Python 3.10.1 64-bit",
   "language": "python",
   "name": "python3"
  },
  "language_info": {
   "codemirror_mode": {
    "name": "ipython",
    "version": 3
   },
   "file_extension": ".py",
   "mimetype": "text/x-python",
   "name": "python",
   "nbconvert_exporter": "python",
   "pygments_lexer": "ipython3",
   "version": "3.10.1"
  },
  "orig_nbformat": 4
 },
 "nbformat": 4,
 "nbformat_minor": 2
}

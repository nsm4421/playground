{
 "cells": [
  {
   "cell_type": "markdown",
   "metadata": {},
   "source": [
    "## Sending Email"
   ]
  },
  {
   "cell_type": "markdown",
   "metadata": {},
   "source": [
    "#### Basic Usage"
   ]
  },
  {
   "cell_type": "code",
   "execution_count": 1,
   "metadata": {},
   "outputs": [],
   "source": [
    "import smtplib\n",
    "from email import encoders\n",
    "from email.mime.text import MIMEText\n",
    "from email.mime.multipart import MIMEMultipart\n",
    "from email.mime.base import MIMEBase\n",
    "import os"
   ]
  },
  {
   "cell_type": "markdown",
   "metadata": {},
   "source": [
    "Settings"
   ]
  },
  {
   "cell_type": "code",
   "execution_count": 2,
   "metadata": {},
   "outputs": [],
   "source": [
    "smtp = smtplib.SMTP(host='smtp.gmail.com', port=587)\n",
    "smtp.ehlo()         \n",
    "smtp.starttls()   \n",
    "smtp.login(user='nsm4421@gmail.com', password='비밀번호')\n",
    "message = MIMEMultipart()                                          # TLS보안모드 설정"
   ]
  },
  {
   "cell_type": "markdown",
   "metadata": {},
   "source": [
    "Title"
   ]
  },
  {
   "cell_type": "code",
   "execution_count": 3,
   "metadata": {},
   "outputs": [],
   "source": [
    "message['Subject'] = '제목'"
   ]
  },
  {
   "cell_type": "markdown",
   "metadata": {},
   "source": [
    "Body"
   ]
  },
  {
   "cell_type": "code",
   "execution_count": 4,
   "metadata": {},
   "outputs": [],
   "source": [
    "body = MIMEText(\"본문입니다\", _charset='utf-8')\n",
    "message.attach(body)"
   ]
  },
  {
   "cell_type": "markdown",
   "metadata": {},
   "source": [
    "Attachment"
   ]
  },
  {
   "cell_type": "code",
   "execution_count": 5,
   "metadata": {},
   "outputs": [],
   "source": [
    "# 첨부파일 경로\n",
    "file_paths = ['./test.jpg', './test2.jfif'] \n",
    "\n",
    "for file_path in file_paths:\n",
    "    part = MIMEBase('application', 'octet-stream')\n",
    "    \n",
    "    with open(file_path, 'rb') as f:      \n",
    "        part.set_payload(f.read())\n",
    "        # 인코딩\n",
    "        encoders.encode_base64(part)    \n",
    "        # Header 추가            \n",
    "        part.add_header(                    \n",
    "            'Content-Disposition', 'attachment; filename=\"%s\"' % file_path\n",
    "        )\n",
    "        message.attach(part)"
   ]
  },
  {
   "cell_type": "markdown",
   "metadata": {},
   "source": [
    "Send"
   ]
  },
  {
   "cell_type": "code",
   "execution_count": 6,
   "metadata": {},
   "outputs": [
    {
     "data": {
      "text/plain": [
       "{}"
      ]
     },
     "execution_count": 6,
     "metadata": {},
     "output_type": "execute_result"
    }
   ],
   "source": [
    "smtp.sendmail(\n",
    "    from_addr='nsm4421@gmail.com', \n",
    "    to_addrs='nsm4421@naver.com',\n",
    "    msg=message.as_string()\n",
    ")"
   ]
  },
  {
   "cell_type": "markdown",
   "metadata": {},
   "source": [
    "Quit"
   ]
  },
  {
   "cell_type": "code",
   "execution_count": 7,
   "metadata": {},
   "outputs": [
    {
     "data": {
      "text/plain": [
       "(221,\n",
       " b'2.0.0 closing connection jh5-20020a170903328500b0015e8d4eb2b4sm4742044plb.254 - gsmtp')"
      ]
     },
     "execution_count": 7,
     "metadata": {},
     "output_type": "execute_result"
    }
   ],
   "source": [
    "smtp.quit()"
   ]
  },
  {
   "cell_type": "markdown",
   "metadata": {},
   "source": [
    "### 예제"
   ]
  },
  {
   "cell_type": "code",
   "execution_count": 8,
   "metadata": {},
   "outputs": [
    {
     "data": {
      "text/html": [
       "<div>\n",
       "<style scoped>\n",
       "    .dataframe tbody tr th:only-of-type {\n",
       "        vertical-align: middle;\n",
       "    }\n",
       "\n",
       "    .dataframe tbody tr th {\n",
       "        vertical-align: top;\n",
       "    }\n",
       "\n",
       "    .dataframe thead th {\n",
       "        text-align: right;\n",
       "    }\n",
       "</style>\n",
       "<table border=\"1\" class=\"dataframe\">\n",
       "  <thead>\n",
       "    <tr style=\"text-align: right;\">\n",
       "      <th></th>\n",
       "      <th>이름</th>\n",
       "      <th>메일주소</th>\n",
       "      <th>제목</th>\n",
       "      <th>본문</th>\n",
       "    </tr>\n",
       "  </thead>\n",
       "  <tbody>\n",
       "    <tr>\n",
       "      <th>0</th>\n",
       "      <td>카르마</td>\n",
       "      <td>nsm4421@naver.com</td>\n",
       "      <td>카르마에게</td>\n",
       "      <td>안녕하세요카르마님</td>\n",
       "    </tr>\n",
       "    <tr>\n",
       "      <th>1</th>\n",
       "      <td>질리언</td>\n",
       "      <td>nsm4421@daum.net</td>\n",
       "      <td>질리언에게</td>\n",
       "      <td>안녕하세요질리언님</td>\n",
       "    </tr>\n",
       "  </tbody>\n",
       "</table>\n",
       "</div>"
      ],
      "text/plain": [
       "    이름               메일주소     제목         본문\n",
       "0  카르마  nsm4421@naver.com  카르마에게  안녕하세요카르마님\n",
       "1  질리언   nsm4421@daum.net  질리언에게  안녕하세요질리언님"
      ]
     },
     "execution_count": 8,
     "metadata": {},
     "output_type": "execute_result"
    }
   ],
   "source": [
    "import pandas as pd\n",
    "mail_info = pd.read_excel('mail.xlsx')\n",
    "mail_info.head()"
   ]
  },
  {
   "cell_type": "code",
   "execution_count": 9,
   "metadata": {},
   "outputs": [],
   "source": [
    "smtp = smtplib.SMTP(host='smtp.gmail.com', port=587)\n",
    "smtp.ehlo()         \n",
    "smtp.starttls()   \n",
    "smtp.login(user='nsm4421@gmail.com', password='비밀번호')\n",
    "                                       # TLS보안모드 설정\n",
    "file_paths = ['./test.jpg', './test2.jfif']                        # 첨부파일 경로"
   ]
  },
  {
   "cell_type": "code",
   "execution_count": 10,
   "metadata": {},
   "outputs": [],
   "source": [
    "for row in mail_info.values:\n",
    "    \n",
    "    message = MIMEMultipart()   \n",
    "    \n",
    "    # 제목\n",
    "    message['Subject'] = row[2] \n",
    "\n",
    "    # 본문\n",
    "    body = MIMEText(row[3], _charset='utf-8')   \n",
    "    message.attach(body)\n",
    "\n",
    "    # 첨부파일\n",
    "    for file_path in file_paths:\n",
    "        part = MIMEBase('application', 'octet-stream')        \n",
    "        with open(file_path, 'rb') as f:      \n",
    "            part.set_payload(f.read())\n",
    "            # 인코딩\n",
    "            encoders.encode_base64(part)    \n",
    "            # Header 추가            \n",
    "            part.add_header(                    \n",
    "                'Content-Disposition', 'attachment; filename=\"%s\"' % os.path.basename(file_path)\n",
    "            )\n",
    "            message.attach(part)\n",
    "\n",
    "    # 전송\n",
    "    smtp.sendmail(\n",
    "        from_addr='nsm4421@gmail.com', \n",
    "        to_addrs=row[1],                \n",
    "        msg=message.as_string()\n",
    "    )   \n",
    "smtp.quit()"
   ]
  }
 ],
 "metadata": {
  "kernelspec": {
   "display_name": "Python 3.10.1 64-bit",
   "language": "python",
   "name": "python3"
  },
  "language_info": {
   "codemirror_mode": {
    "name": "ipython",
    "version": 3
   },
   "file_extension": ".py",
   "mimetype": "text/x-python",
   "name": "python",
   "nbconvert_exporter": "python",
   "pygments_lexer": "ipython3",
   "version": "3.10.1"
  },
  "orig_nbformat": 4,
  "vscode": {
   "interpreter": {
    "hash": "db62b982d770fbbb238736d52661e6c8992a187d6ada533c1e14407ba82b5d74"
   }
  }
 },
 "nbformat": 4,
 "nbformat_minor": 2
}

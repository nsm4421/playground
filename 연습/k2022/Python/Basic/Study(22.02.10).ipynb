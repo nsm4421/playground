{
 "cells": [
  {
   "cell_type": "markdown",
   "metadata": {},
   "source": [
    "### Assert"
   ]
  },
  {
   "cell_type": "markdown",
   "metadata": {},
   "source": [
    "Usage\n",
    "\n",
    "    assert [조건식], [에러메세지]"
   ]
  },
  {
   "cell_type": "code",
   "execution_count": 1,
   "metadata": {},
   "outputs": [
    {
     "ename": "AssertionError",
     "evalue": "",
     "output_type": "error",
     "traceback": [
      "\u001b[1;31m---------------------------------------------------------------------------\u001b[0m",
      "\u001b[1;31mAssertionError\u001b[0m                            Traceback (most recent call last)",
      "\u001b[1;32m~\\AppData\\Local\\Temp/ipykernel_19208/2358989623.py\u001b[0m in \u001b[0;36m<module>\u001b[1;34m\u001b[0m\n\u001b[1;32m----> 1\u001b[1;33m \u001b[1;32massert\u001b[0m \u001b[1;36m1\u001b[0m\u001b[1;33m==\u001b[0m\u001b[1;36m2\u001b[0m\u001b[1;33m\u001b[0m\u001b[1;33m\u001b[0m\u001b[0m\n\u001b[0m",
      "\u001b[1;31mAssertionError\u001b[0m: "
     ]
    }
   ],
   "source": [
    "assert 1==2"
   ]
  },
  {
   "cell_type": "code",
   "execution_count": null,
   "metadata": {},
   "outputs": [
    {
     "ename": "AssertionError",
     "evalue": "Not match",
     "output_type": "error",
     "traceback": [
      "\u001b[1;31m---------------------------------------------------------------------------\u001b[0m",
      "\u001b[1;31mAssertionError\u001b[0m                            Traceback (most recent call last)",
      "\u001b[1;32m~\\AppData\\Local\\Temp/ipykernel_6496/4108515628.py\u001b[0m in \u001b[0;36m<module>\u001b[1;34m\u001b[0m\n\u001b[1;32m----> 1\u001b[1;33m \u001b[1;32massert\u001b[0m \u001b[1;36m1\u001b[0m\u001b[1;33m==\u001b[0m\u001b[1;36m2\u001b[0m\u001b[1;33m,\u001b[0m \u001b[1;34m'Not match'\u001b[0m\u001b[1;33m\u001b[0m\u001b[1;33m\u001b[0m\u001b[0m\n\u001b[0m",
      "\u001b[1;31mAssertionError\u001b[0m: Not match"
     ]
    }
   ],
   "source": [
    "assert 1==2, 'Not match'"
   ]
  },
  {
   "cell_type": "markdown",
   "metadata": {},
   "source": [
    "### Hiding"
   ]
  },
  {
   "cell_type": "markdown",
   "metadata": {},
   "source": [
    "Usage\n",
    "\n",
    "    매써드나 변수 앞에 __ 를 붙이면 은닉 기능 사용 가능"
   ]
  },
  {
   "cell_type": "code",
   "execution_count": 2,
   "metadata": {},
   "outputs": [
    {
     "data": {
      "text/plain": [
       "'Hi Karma'"
      ]
     },
     "execution_count": 2,
     "metadata": {},
     "output_type": "execute_result"
    }
   ],
   "source": [
    "# 은닉기능을 사용하지 않는 경우\n",
    "\n",
    "class example1:\n",
    "\n",
    "    @classmethod\n",
    "    def greet(this, name : str)->str:\n",
    "        return f\"Hi {name}\"\n",
    "\n",
    "ex1 = example1()\n",
    "ex1.greet(\"Karma\")"
   ]
  },
  {
   "cell_type": "code",
   "execution_count": 3,
   "metadata": {},
   "outputs": [
    {
     "ename": "AttributeError",
     "evalue": "'example2' object has no attribute '__greet'",
     "output_type": "error",
     "traceback": [
      "\u001b[1;31m---------------------------------------------------------------------------\u001b[0m",
      "\u001b[1;31mAttributeError\u001b[0m                            Traceback (most recent call last)",
      "\u001b[1;32m~\\AppData\\Local\\Temp/ipykernel_19208/2193967345.py\u001b[0m in \u001b[0;36m<module>\u001b[1;34m\u001b[0m\n\u001b[0;32m      8\u001b[0m \u001b[1;33m\u001b[0m\u001b[0m\n\u001b[0;32m      9\u001b[0m \u001b[0mex2\u001b[0m \u001b[1;33m=\u001b[0m \u001b[0mexample2\u001b[0m\u001b[1;33m(\u001b[0m\u001b[1;33m)\u001b[0m\u001b[1;33m\u001b[0m\u001b[1;33m\u001b[0m\u001b[0m\n\u001b[1;32m---> 10\u001b[1;33m \u001b[0mex2\u001b[0m\u001b[1;33m.\u001b[0m\u001b[0m__greet\u001b[0m\u001b[1;33m(\u001b[0m\u001b[1;34m\"Karma\"\u001b[0m\u001b[1;33m)\u001b[0m     \u001b[1;31m# <--- __greet 매써드에 접근 불가\u001b[0m\u001b[1;33m\u001b[0m\u001b[1;33m\u001b[0m\u001b[0m\n\u001b[0m",
      "\u001b[1;31mAttributeError\u001b[0m: 'example2' object has no attribute '__greet'"
     ]
    }
   ],
   "source": [
    "# 은닉기능을 사용한 경우\n",
    "\n",
    "class example2:\n",
    "\n",
    "    @classmethod\n",
    "    def __greet(this, name : str)->str:\n",
    "        return f\"Hi {name}\"\n",
    "\n",
    "ex2 = example2()\n",
    "ex2.__greet(\"Karma\")     # <--- __greet 매써드에 접근 불가하므로 에러 남"
   ]
  },
  {
   "cell_type": "markdown",
   "metadata": {},
   "source": [
    "getters and setters\n",
    "\n",
    "    getters : @property\n",
    "\n",
    "    setters : @[메써드명].setter"
   ]
  },
  {
   "cell_type": "code",
   "execution_count": 4,
   "metadata": {},
   "outputs": [],
   "source": [
    "class example3:\n",
    "\n",
    "    def __init__(self, initialName : str):\n",
    "        self.__myName = initialName\n",
    "    \n",
    "    # getter -> 은닉 키워드(__myName)을 return\n",
    "    @property\n",
    "    def myName(self)->str:\n",
    "        return self.__myName\n",
    "\n",
    "    @myName.setter\n",
    "    def myName(self, newName : str):\n",
    "        self.__myName = newName"
   ]
  },
  {
   "cell_type": "code",
   "execution_count": 5,
   "metadata": {},
   "outputs": [
    {
     "name": "stdout",
     "output_type": "stream",
     "text": [
      "My Name is karma\n",
      "My Name is Vegia\n"
     ]
    }
   ],
   "source": [
    "ex3 = example3(\"karma\")\n",
    "\n",
    "# getter test\n",
    "print(f\"My Name is {ex3.myName}\")\n",
    "\n",
    "# setter test\n",
    "newName = \"Vegia\"\n",
    "ex3.myName = newName\n",
    "print(f\"My Name is {ex3.myName}\")"
   ]
  },
  {
   "cell_type": "markdown",
   "metadata": {},
   "source": [
    "### Decorator"
   ]
  },
  {
   "cell_type": "markdown",
   "metadata": {},
   "source": [
    "Example) Basic"
   ]
  },
  {
   "cell_type": "code",
   "execution_count": 6,
   "metadata": {},
   "outputs": [],
   "source": [
    "def example4(func):\n",
    "\n",
    "    def wrapper(*args, **kwargs):\n",
    "        \n",
    "        print(\"-\"*10, \"Deco Func\", \"-\"*10)\n",
    "        func(*args, **kwargs)\n",
    "        print(\"-\"*20)\n",
    "\n",
    "    return wrapper"
   ]
  },
  {
   "cell_type": "code",
   "execution_count": 7,
   "metadata": {},
   "outputs": [],
   "source": [
    "@example4\n",
    "def greet(name : str):\n",
    "    print(f\"HI {name}~!\")"
   ]
  },
  {
   "cell_type": "code",
   "execution_count": 8,
   "metadata": {},
   "outputs": [
    {
     "name": "stdout",
     "output_type": "stream",
     "text": [
      "---------- Deco Func ----------\n",
      "HI karma~!\n",
      "--------------------\n"
     ]
    }
   ],
   "source": [
    "greet(\"karma\")"
   ]
  },
  {
   "cell_type": "markdown",
   "metadata": {},
   "source": [
    "Example 2) Timer"
   ]
  },
  {
   "cell_type": "code",
   "execution_count": 9,
   "metadata": {},
   "outputs": [],
   "source": [
    "import time\n",
    "\n",
    "def myTimer(f):\n",
    "    \n",
    "    def wrapper(*args, **kwargs):\n",
    "        s = time.time()\n",
    "        f()\n",
    "        e = time.time()\n",
    "        print(f\"Time Passed : {e-s} sec\")\n",
    "        \n",
    "    return wrapper"
   ]
  },
  {
   "cell_type": "code",
   "execution_count": 10,
   "metadata": {},
   "outputs": [
    {
     "name": "stdout",
     "output_type": "stream",
     "text": [
      "Time Passed : 3.000293016433716 sec\n"
     ]
    }
   ],
   "source": [
    "@myTimer\n",
    "def test():\n",
    "    time.sleep(3)\n",
    "\n",
    "test()"
   ]
  },
  {
   "cell_type": "markdown",
   "metadata": {},
   "source": [
    "Example 3) 피보나치 수열"
   ]
  },
  {
   "cell_type": "code",
   "execution_count": 14,
   "metadata": {},
   "outputs": [
    {
     "name": "stdout",
     "output_type": "stream",
     "text": [
      "F(0) = 0\t ---> \tF(1) = 1\t ---> \tF(2) = 1\t ---> \tF(3) = 2\t ---> \tF(4) = 3\t ---> \tF(5) = 5\t ---> \tF(6) = 8\t ---> \tF(7) = 13\t ---> \tF(8) = 21\t ---> \tF(9) = 34\t ---> \tF(10) = 55\t ---> \tF(11) = 89\t ---> \tF(12) = 144\t ---> \tF(13) = 233\t ---> \tF(14) = 377\t ---> \tF(15) = 610\t ---> \tF(16) = 987\t ---> \tF(17) = 1597\t ---> \tF(18) = 2584\t ---> \tF(19) = 4181\t ---> \tF(20) = 6765\t ---> \tF(21) = 10946\t ---> \tF(22) = 17711\t ---> \tF(23) = 28657\t ---> \tF(24) = 46368\t ---> \tF(25) = 75025\t ---> \tF(26) = 121393\t ---> \tF(27) = 196418\t ---> \tF(28) = 317811\t ---> \tF(29) = 514229\t ---> \tF(30) = 832040\t ---> \tF(31) = 1346269\t ---> \tF(32) = 2178309\t ---> \tF(33) = 3524578\t ---> \tF(34) = 5702887\t ---> \t\n",
      "Time passed 3.728428840637207\n"
     ]
    }
   ],
   "source": [
    "import time\n",
    "\n",
    "def fib(n : int):\n",
    "    if n<=1:\n",
    "        return n\n",
    "    else:\n",
    "        return fib(n-1)+fib(n-2)\n",
    "\n",
    "s = time.time()\n",
    "\n",
    "for i in range(35):\n",
    "    print(f\"F({i}) = {fib(i)}\", end=\"\\t ---> \\t\")\n",
    "\n",
    "print(f\"\\nTime passed {time.time()-s}\")"
   ]
  },
  {
   "cell_type": "code",
   "execution_count": 15,
   "metadata": {},
   "outputs": [
    {
     "name": "stdout",
     "output_type": "stream",
     "text": [
      "F(0) = 0\t ---> \tF(1) = 1\t ---> \tF(2) = 1\t ---> \tF(3) = 2\t ---> \tF(4) = 3\t ---> \tF(5) = 5\t ---> \tF(6) = 8\t ---> \tF(7) = 13\t ---> \tF(8) = 21\t ---> \tF(9) = 34\t ---> \tF(10) = 55\t ---> \tF(11) = 89\t ---> \tF(12) = 144\t ---> \tF(13) = 233\t ---> \tF(14) = 377\t ---> \tF(15) = 610\t ---> \tF(16) = 987\t ---> \tF(17) = 1597\t ---> \tF(18) = 2584\t ---> \tF(19) = 4181\t ---> \tF(20) = 6765\t ---> \tF(21) = 10946\t ---> \tF(22) = 17711\t ---> \tF(23) = 28657\t ---> \tF(24) = 46368\t ---> \tF(25) = 75025\t ---> \tF(26) = 121393\t ---> \tF(27) = 196418\t ---> \tF(28) = 317811\t ---> \tF(29) = 514229\t ---> \tF(30) = 832040\t ---> \tF(31) = 1346269\t ---> \tF(32) = 2178309\t ---> \tF(33) = 3524578\t ---> \tF(34) = 5702887\t ---> \t\n",
      "Time passed 0.003009319305419922\n"
     ]
    }
   ],
   "source": [
    "from functools import cache\n",
    "\n",
    "@cache\n",
    "def fib(n : int):\n",
    "    if n<=1:\n",
    "        return n\n",
    "    else:\n",
    "        return fib(n-1)+fib(n-2)\n",
    "\n",
    "s = time.time()\n",
    "\n",
    "for i in range(35):\n",
    "    print(f\"F({i}) = {fib(i)}\", end=\"\\t ---> \\t\")\n",
    "\n",
    "print(f\"\\nTime passed {time.time()-s}\")"
   ]
  },
  {
   "cell_type": "code",
   "execution_count": 16,
   "metadata": {},
   "outputs": [
    {
     "name": "stdout",
     "output_type": "stream",
     "text": [
      "F(0) = 0\t ---> \tF(1) = 1\t ---> \tF(2) = 1\t ---> \tF(3) = 2\t ---> \tF(4) = 3\t ---> \tF(5) = 5\t ---> \tF(6) = 8\t ---> \tF(7) = 13\t ---> \tF(8) = 21\t ---> \tF(9) = 34\t ---> \tF(10) = 55\t ---> \tF(11) = 89\t ---> \tF(12) = 144\t ---> \tF(13) = 233\t ---> \tF(14) = 377\t ---> \tF(15) = 610\t ---> \tF(16) = 987\t ---> \tF(17) = 1597\t ---> \tF(18) = 2584\t ---> \tF(19) = 4181\t ---> \tF(20) = 6765\t ---> \tF(21) = 10946\t ---> \tF(22) = 17711\t ---> \tF(23) = 28657\t ---> \tF(24) = 46368\t ---> \tF(25) = 75025\t ---> \tF(26) = 121393\t ---> \tF(27) = 196418\t ---> \tF(28) = 317811\t ---> \tF(29) = 514229\t ---> \tF(30) = 832040\t ---> \tF(31) = 1346269\t ---> \tF(32) = 2178309\t ---> \tF(33) = 3524578\t ---> \tF(34) = 5702887\t ---> \t\n",
      "Time passed 0.0009951591491699219\n"
     ]
    }
   ],
   "source": [
    "from functools import cache, lru_cache\n",
    "\n",
    "@lru_cache(maxsize=3)\n",
    "def fib(n : int):\n",
    "    if n<=1:\n",
    "        return n\n",
    "    else:\n",
    "        return fib(n-1)+fib(n-2)\n",
    "\n",
    "s = time.time()\n",
    "\n",
    "for i in range(35):\n",
    "    print(f\"F({i}) = {fib(i)}\", end=\"\\t ---> \\t\")\n",
    "\n",
    "print(f\"\\nTime passed {time.time()-s}\")"
   ]
  }
 ],
 "metadata": {
  "interpreter": {
   "hash": "c82d94a48fd9619577fe9dd8e53e417893df5dc2bb0ea967f6feabc6bcdf8f2e"
  },
  "kernelspec": {
   "display_name": "Python 3.10.1 64-bit",
   "language": "python",
   "name": "python3"
  },
  "language_info": {
   "codemirror_mode": {
    "name": "ipython",
    "version": 3
   },
   "file_extension": ".py",
   "mimetype": "text/x-python",
   "name": "python",
   "nbconvert_exporter": "python",
   "pygments_lexer": "ipython3",
   "version": "3.10.1"
  },
  "orig_nbformat": 4
 },
 "nbformat": 4,
 "nbformat_minor": 2
}

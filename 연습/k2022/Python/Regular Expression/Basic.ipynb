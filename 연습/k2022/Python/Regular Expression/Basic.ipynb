{
 "cells": [
  {
   "cell_type": "markdown",
   "metadata": {},
   "source": [
    "# Regex\n",
    "\n",
    "    reference : https://wikidocs.net/1669"
   ]
  },
  {
   "cell_type": "markdown",
   "metadata": {},
   "source": [
    "### Re module"
   ]
  },
  {
   "cell_type": "code",
   "execution_count": 1,
   "metadata": {},
   "outputs": [],
   "source": [
    "import re"
   ]
  },
  {
   "cell_type": "markdown",
   "metadata": {},
   "source": [
    "> re.match\n",
    "\n",
    "    문자열과 처음부터 정규식과 매치되는지 조사\n",
    "    -> 한번만 찾음\n",
    "\n",
    "> re.search\n",
    "\n",
    "    문자열 전체를 검색해 정규식과 매치되는지 조사\n",
    "\n",
    "> re.findall\n",
    "\n",
    "    정규식과 매치되는 모든 문자열을 list 형태로 return\n",
    "\n",
    "> re.finditer\n",
    "\n",
    "    정규식과 매치되는 모든 문자열을 iterator 형태로 return"
   ]
  },
  {
   "cell_type": "markdown",
   "metadata": {},
   "source": [
    "#### Usage\n",
    "pattern = re.compile(패턴)\n",
    "matched = pattern.search(문자열)\n",
    "\n",
    "> matched.group\n",
    "    \n",
    "    매치된 문자열 return\n",
    "\n",
    "> start\n",
    "    \n",
    "    매치된 문자열의 first index\n",
    "\n",
    "> end\n",
    "    \n",
    "    매치된 문자열의 last index\n",
    "\n",
    "> span\n",
    "    \n",
    "    (first index, last index)"
   ]
  },
  {
   "cell_type": "markdown",
   "metadata": {},
   "source": [
    "### Meta characters\n",
    "\n",
    "    . ^ $ * + ? { } [ ] \\ | ( )"
   ]
  },
  {
   "cell_type": "code",
   "execution_count": 2,
   "metadata": {},
   "outputs": [],
   "source": [
    "def util(p, m):\n",
    "    if m == None:\n",
    "        print(\"Nothing matched\")\n",
    "    else:\n",
    "        print(f\"Pattern : {p.pattern}\")\n",
    "        print(f\"Original String : {m.string}\")\n",
    "        print(f\"Matched : {m.group()}\")\n",
    "        print(f\"Start Index : {m.start()}\")\n",
    "        print(f\"End Index : {m.end()}\")"
   ]
  },
  {
   "cell_type": "markdown",
   "metadata": {},
   "source": [
    "> Dot(.)\n",
    "\n",
    "    개행문자(\\n)을 제외한 모든 문자열과 매치"
   ]
  },
  {
   "cell_type": "code",
   "execution_count": 3,
   "metadata": {},
   "outputs": [
    {
     "name": "stdout",
     "output_type": "stream",
     "text": [
      "Pattern : k.r\n",
      "Original String : karma\n",
      "Matched : kar\n",
      "Start Index : 0\n",
      "End Index : 3\n"
     ]
    }
   ],
   "source": [
    "pattern = re.compile('k.r')\n",
    "matched = pattern.search(\"karma\")\n",
    "\n",
    "util(pattern, matched)"
   ]
  },
  {
   "cell_type": "code",
   "execution_count": 4,
   "metadata": {},
   "outputs": [
    {
     "name": "stdout",
     "output_type": "stream",
     "text": [
      "Nothing matched\n"
     ]
    }
   ],
   "source": [
    "pattern = re.compile('k.a')\n",
    "matched = pattern.search(\"karma\")\n",
    "\n",
    "util(pattern, matched)"
   ]
  },
  {
   "cell_type": "markdown",
   "metadata": {},
   "source": [
    "> character class []\n",
    "\n",
    "    대괄호 내부의 모든 문자열과 매치"
   ]
  },
  {
   "cell_type": "code",
   "execution_count": 5,
   "metadata": {},
   "outputs": [
    {
     "name": "stdout",
     "output_type": "stream",
     "text": [
      "Pattern : k[a,b,c,d]r\n",
      "Original String : karma\n",
      "Matched : kar\n",
      "Start Index : 0\n",
      "End Index : 3\n"
     ]
    }
   ],
   "source": [
    "pattern = re.compile('k[a,b,c,d]r')\n",
    "matched = pattern.search(\"karma\")\n",
    "\n",
    "util(pattern, matched)"
   ]
  },
  {
   "cell_type": "markdown",
   "metadata": {},
   "source": [
    "-을 사용해서 a-z, A-Z, 0-9와 같은 식으로 여러 문자를 표현할 수 있음"
   ]
  },
  {
   "cell_type": "code",
   "execution_count": 6,
   "metadata": {},
   "outputs": [
    {
     "name": "stdout",
     "output_type": "stream",
     "text": [
      "Pattern : k[a-z, A-Z, 0-9]r\n",
      "Original String : karma\n",
      "Matched : kar\n",
      "Start Index : 0\n",
      "End Index : 3\n"
     ]
    }
   ],
   "source": [
    "pattern = re.compile('k[a-z, A-Z, 0-9]r')\n",
    "matched = pattern.search(\"karma\")\n",
    "\n",
    "util(pattern, matched)"
   ]
  },
  {
   "cell_type": "code",
   "execution_count": 7,
   "metadata": {},
   "outputs": [
    {
     "name": "stdout",
     "output_type": "stream",
     "text": [
      "Nothing matched\n"
     ]
    }
   ],
   "source": [
    "pattern = re.compile('k[b,c,d]r')\n",
    "matched = pattern.search(\"karma\")\n",
    "\n",
    "util(pattern, matched)"
   ]
  },
  {
   "cell_type": "markdown",
   "metadata": {},
   "source": [
    "> [.]\n",
    "\n",
    "    pattern : a[.]b \n",
    "        acb ---> match\n",
    "        a0b ---> not match"
   ]
  },
  {
   "cell_type": "code",
   "execution_count": 8,
   "metadata": {},
   "outputs": [
    {
     "name": "stdout",
     "output_type": "stream",
     "text": [
      "Nothing matched\n"
     ]
    }
   ],
   "source": [
    "pattern = re.compile('a[.]')\n",
    "matched = pattern.search(\"karma1221\")\n",
    "\n",
    "util(pattern, matched)"
   ]
  },
  {
   "cell_type": "markdown",
   "metadata": {},
   "source": [
    "> 반복\n",
    "\n",
    "    + : 1번이상 반복되는 문자열과 매치됨\n",
    "    * : 0번이상 반복되는 문자열과 매치됨\n",
    "    {m, n} : m번이상 n번 이하 반복되는 문자열과 매치됨"
   ]
  },
  {
   "cell_type": "code",
   "execution_count": 9,
   "metadata": {},
   "outputs": [
    {
     "name": "stdout",
     "output_type": "stream",
     "text": [
      "Pattern : ab+c\n",
      "Original String : aaabbbccc\n",
      "Matched : abbbc\n",
      "Start Index : 2\n",
      "End Index : 7\n"
     ]
    }
   ],
   "source": [
    "pattern = re.compile('ab+c')\n",
    "matched = pattern.search(\"aaabbbccc\")\n",
    "\n",
    "util(pattern, matched)"
   ]
  },
  {
   "cell_type": "code",
   "execution_count": 10,
   "metadata": {},
   "outputs": [
    {
     "name": "stdout",
     "output_type": "stream",
     "text": [
      "Pattern : ab*c\n",
      "Original String : aaabbbccc\n",
      "Matched : abbbc\n",
      "Start Index : 2\n",
      "End Index : 7\n"
     ]
    }
   ],
   "source": [
    "pattern = re.compile('ab*c')\n",
    "matched = pattern.search(\"aaabbbccc\")\n",
    "\n",
    "util(pattern, matched)"
   ]
  },
  {
   "cell_type": "code",
   "execution_count": 11,
   "metadata": {},
   "outputs": [
    {
     "name": "stdout",
     "output_type": "stream",
     "text": [
      "Pattern : ab{1,3}c\n",
      "Original String : aaabbbccc\n",
      "Matched : abbbc\n",
      "Start Index : 2\n",
      "End Index : 7\n"
     ]
    }
   ],
   "source": [
    "pattern = re.compile('ab{1,3}c')\n",
    "matched = pattern.search(\"aaabbbccc\")\n",
    "\n",
    "util(pattern, matched)"
   ]
  },
  {
   "cell_type": "code",
   "execution_count": 12,
   "metadata": {},
   "outputs": [
    {
     "name": "stdout",
     "output_type": "stream",
     "text": [
      "Nothing matched\n"
     ]
    }
   ],
   "source": [
    "pattern = re.compile('ab{4,5}c')\n",
    "matched = pattern.search(\"aaabbbccc\")\n",
    "\n",
    "util(pattern, matched)"
   ]
  },
  {
   "cell_type": "markdown",
   "metadata": {},
   "source": [
    "> ?\n",
    "\n",
    "    {0, 1}과 동일한 의미 (0번이상 1번 이하 반복)"
   ]
  },
  {
   "cell_type": "code",
   "execution_count": 13,
   "metadata": {},
   "outputs": [
    {
     "name": "stdout",
     "output_type": "stream",
     "text": [
      "Pattern : b?c\n",
      "Original String : aaabbbccc\n",
      "Matched : bc\n",
      "Start Index : 5\n",
      "End Index : 7\n"
     ]
    }
   ],
   "source": [
    "pattern = re.compile('b?c')\n",
    "matched = pattern.search(\"aaabbbccc\")\n",
    "\n",
    "util(pattern, matched)"
   ]
  },
  {
   "cell_type": "code",
   "execution_count": 14,
   "metadata": {},
   "outputs": [
    {
     "name": "stdout",
     "output_type": "stream",
     "text": [
      "Pattern : a?c\n",
      "Original String : aaabbbccc\n",
      "Matched : c\n",
      "Start Index : 6\n",
      "End Index : 7\n"
     ]
    }
   ],
   "source": [
    "pattern = re.compile('a?c')\n",
    "matched = pattern.search(\"aaabbbccc\")\n",
    "\n",
    "util(pattern, matched)"
   ]
  },
  {
   "cell_type": "markdown",
   "metadata": {},
   "source": [
    "> or(|)"
   ]
  },
  {
   "cell_type": "code",
   "execution_count": 15,
   "metadata": {},
   "outputs": [
    {
     "name": "stdout",
     "output_type": "stream",
     "text": [
      "Pattern : karma|veiga\n",
      "Original String : My Favorite Champion : veiga\n",
      "Matched : veiga\n",
      "Start Index : 23\n",
      "End Index : 28\n"
     ]
    }
   ],
   "source": [
    "pattern = re.compile('karma|veiga')\n",
    "matched = pattern.search(\"My Favorite Champion : veiga\")\n",
    "\n",
    "util(pattern, matched)"
   ]
  },
  {
   "cell_type": "markdown",
   "metadata": {},
   "source": [
    "^\n",
    "\n",
    "    처음부터 일치하는 경우"
   ]
  },
  {
   "cell_type": "code",
   "execution_count": 16,
   "metadata": {},
   "outputs": [
    {
     "name": "stdout",
     "output_type": "stream",
     "text": [
      "Pattern : ^010\n",
      "Original String : 010-1234-5678\n",
      "Matched : 010\n",
      "Start Index : 0\n",
      "End Index : 3\n"
     ]
    }
   ],
   "source": [
    "pattern = re.compile('^010')\n",
    "matched = pattern.search(\"010-1234-5678\")\n",
    "\n",
    "util(pattern, matched)"
   ]
  },
  {
   "cell_type": "code",
   "execution_count": 17,
   "metadata": {},
   "outputs": [
    {
     "name": "stdout",
     "output_type": "stream",
     "text": [
      "Nothing matched\n"
     ]
    }
   ],
   "source": [
    "pattern = re.compile('^1234')\n",
    "matched = pattern.search(\"010-1234-5678\")\n",
    "\n",
    "util(pattern, matched)"
   ]
  },
  {
   "cell_type": "markdown",
   "metadata": {},
   "source": [
    "> $\n",
    "\n",
    "    마지막부터 매치"
   ]
  },
  {
   "cell_type": "code",
   "execution_count": 18,
   "metadata": {},
   "outputs": [
    {
     "name": "stdout",
     "output_type": "stream",
     "text": [
      "Pattern : 5678$\n",
      "Original String : 010-1234-5678\n",
      "Matched : 5678\n",
      "Start Index : 9\n",
      "End Index : 13\n"
     ]
    }
   ],
   "source": [
    "pattern = re.compile('5678$')\n",
    "matched = pattern.search(\"010-1234-5678\")\n",
    "\n",
    "util(pattern, matched)"
   ]
  },
  {
   "cell_type": "markdown",
   "metadata": {},
   "source": [
    "> Word Boundary(\\b)"
   ]
  },
  {
   "cell_type": "code",
   "execution_count": 19,
   "metadata": {},
   "outputs": [
    {
     "name": "stdout",
     "output_type": "stream",
     "text": [
      "Pattern : \\bName\\b\n",
      "Original String : My Name Is Karma\n",
      "Matched : Name\n",
      "Start Index : 3\n",
      "End Index : 7\n"
     ]
    }
   ],
   "source": [
    "pattern = re.compile(r'\\bName\\b')\n",
    "matched = pattern.search(\"My Name Is Karma\")\n",
    "\n",
    "util(pattern, matched)"
   ]
  },
  {
   "cell_type": "code",
   "execution_count": 20,
   "metadata": {},
   "outputs": [
    {
     "name": "stdout",
     "output_type": "stream",
     "text": [
      "Nothing matched\n"
     ]
    }
   ],
   "source": [
    "pattern = re.compile(r'\\bName\\b')\n",
    "matched = pattern.search(\"MyNameIs Karma\")\n",
    "\n",
    "util(pattern, matched)"
   ]
  },
  {
   "cell_type": "markdown",
   "metadata": {},
   "source": [
    "> Grouping()"
   ]
  },
  {
   "cell_type": "code",
   "execution_count": 21,
   "metadata": {},
   "outputs": [
    {
     "name": "stdout",
     "output_type": "stream",
     "text": [
      "Pattern : (1234)\n",
      "Original String : 010-1234-1234\n",
      "Matched : 1234\n",
      "Start Index : 4\n",
      "End Index : 8\n"
     ]
    }
   ],
   "source": [
    "pattern = re.compile('(1234)')\n",
    "matched = pattern.search(\"010-1234-1234\")\n",
    "\n",
    "util(pattern, matched)"
   ]
  },
  {
   "cell_type": "code",
   "execution_count": null,
   "metadata": {},
   "outputs": [],
   "source": []
  }
 ],
 "metadata": {
  "interpreter": {
   "hash": "c82d94a48fd9619577fe9dd8e53e417893df5dc2bb0ea967f6feabc6bcdf8f2e"
  },
  "kernelspec": {
   "display_name": "Python 3.10.1 64-bit",
   "language": "python",
   "name": "python3"
  },
  "language_info": {
   "codemirror_mode": {
    "name": "ipython",
    "version": 3
   },
   "file_extension": ".py",
   "mimetype": "text/x-python",
   "name": "python",
   "nbconvert_exporter": "python",
   "pygments_lexer": "ipython3",
   "version": "3.10.1"
  },
  "orig_nbformat": 4
 },
 "nbformat": 4,
 "nbformat_minor": 2
}

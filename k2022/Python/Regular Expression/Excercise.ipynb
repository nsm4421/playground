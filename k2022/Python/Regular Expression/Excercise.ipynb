{
 "cells": [
  {
   "cell_type": "code",
   "execution_count": 1,
   "metadata": {},
   "outputs": [],
   "source": [
    "import re\n"
   ]
  },
  {
   "cell_type": "markdown",
   "metadata": {},
   "source": [
    "아이디 체크"
   ]
  },
  {
   "cell_type": "code",
   "execution_count": 15,
   "metadata": {},
   "outputs": [
    {
     "name": "stdout",
     "output_type": "stream",
     "text": [
      "Matched : nsm4421\n"
     ]
    }
   ],
   "source": [
    "user_id = \"nsm4421\"\n",
    "\n",
    "pattern = re.compile(\"^[A-Za-z]{1}[A-Za-z0-9]{4,9}\")\n",
    "matched = pattern.search(user_id)\n",
    "\n",
    "if matched == None:\n",
    "    print(\"Invalid User Id\")\n",
    "else:\n",
    "    print(f\"Matched : {matched.group()}\")"
   ]
  },
  {
   "cell_type": "code",
   "execution_count": 16,
   "metadata": {},
   "outputs": [
    {
     "name": "stdout",
     "output_type": "stream",
     "text": [
      "Invalid User Id\n"
     ]
    }
   ],
   "source": [
    "user_id = \"nsm\"\n",
    "\n",
    "pattern = re.compile(\"^[A-Za-z]{1}[A-Za-z0-9]{4,9}\")\n",
    "matched = pattern.search(user_id)\n",
    "\n",
    "if matched == None:\n",
    "    print(\"Invalid User Id\")\n",
    "else:\n",
    "    print(f\"Matched : {matched.group()}\")"
   ]
  },
  {
   "cell_type": "markdown",
   "metadata": {},
   "source": [
    "전화번호 체크"
   ]
  },
  {
   "cell_type": "code",
   "execution_count": 4,
   "metadata": {},
   "outputs": [
    {
     "name": "stdout",
     "output_type": "stream",
     "text": [
      "Matched : 010-1234-5678\n"
     ]
    }
   ],
   "source": [
    "phone_number = \"010-1234-5678\"\n",
    "\n",
    "pattern = re.compile(\"^(010)-[0-9]{4}-[0-9]{4}\")\n",
    "matched = pattern.search(phone_number)\n",
    "\n",
    "if matched == None:\n",
    "    print(\"Invalid Phone Number\")\n",
    "else:\n",
    "    print(f\"Matched : {matched.group()}\")"
   ]
  },
  {
   "cell_type": "code",
   "execution_count": 5,
   "metadata": {},
   "outputs": [
    {
     "name": "stdout",
     "output_type": "stream",
     "text": [
      "010-1234-5678\n"
     ]
    }
   ],
   "source": [
    "print(matched.group())"
   ]
  },
  {
   "cell_type": "code",
   "execution_count": 6,
   "metadata": {},
   "outputs": [
    {
     "name": "stdout",
     "output_type": "stream",
     "text": [
      "Matched : 010-1234-5678\n"
     ]
    }
   ],
   "source": [
    "phone_number = \"부재중이면 010-1234-5678로 전화 ㄱㄱ\"\n",
    "\n",
    "pattern = re.compile(\"(010)-[0-9]{4}-[0-9]{4}\")\n",
    "matched = pattern.search(phone_number)\n",
    "\n",
    "if matched == None:\n",
    "    print(\"Invalid Phone Number\")\n",
    "else:\n",
    "    print(f\"Matched : {matched.group()}\")"
   ]
  },
  {
   "cell_type": "markdown",
   "metadata": {},
   "source": [
    "이메일 주소확인"
   ]
  },
  {
   "cell_type": "code",
   "execution_count": 7,
   "metadata": {},
   "outputs": [
    {
     "name": "stdout",
     "output_type": "stream",
     "text": [
      "Matched : nsm4421@naver.com\n"
     ]
    }
   ],
   "source": [
    "email_adress = \"nsm4421@naver.com\"\n",
    "\n",
    "pattern = re.compile(\"[A-Za-z0-9]+@[A-Za-z0-9]+\\.[A-Za-z0-9]+\")\n",
    "matched = pattern.search(email_adress)\n",
    "\n",
    "if matched == None:\n",
    "    print(\"Invalid Email Address\")\n",
    "else:\n",
    "    print(f\"Matched : {matched.group()}\")"
   ]
  },
  {
   "cell_type": "code",
   "execution_count": 8,
   "metadata": {},
   "outputs": [
    {
     "name": "stdout",
     "output_type": "stream",
     "text": [
      "Matched : nsm4421@naver.com\n"
     ]
    }
   ],
   "source": [
    "email_adress = \"nsm4421@naver.com\"\n",
    "\n",
    "pattern = re.compile(\"[A-Za-z0-9]+@naver\\.(com)\")\n",
    "matched = pattern.search(email_adress)\n",
    "\n",
    "if matched == None:\n",
    "    print(\"Invalid Email Address\")\n",
    "else:\n",
    "    print(f\"Matched : {matched.group()}\")"
   ]
  },
  {
   "cell_type": "code",
   "execution_count": 9,
   "metadata": {},
   "outputs": [],
   "source": [
    "from pydantic import BaseModel, ValidationError, validator"
   ]
  },
  {
   "cell_type": "code",
   "execution_count": 10,
   "metadata": {},
   "outputs": [],
   "source": [
    "class User(BaseModel):\n",
    "    user_id : str\n",
    "    phone_number : str\n",
    "    email_address : str\n",
    "\n",
    "    @validator('user_id')\n",
    "    def validator_user_id(cls, v):\n",
    "        pattern = re.compile(\"^[A-Za-z]{1}[A-Za-z0-9]{4,9}\")\n",
    "        matched = pattern.search(v)\n",
    "        if matched == None:\n",
    "            raise ValidationError('유저 아이디 입력이 이상허다...')\n",
    "        else:\n",
    "            return v\n",
    "\n",
    "    @validator('phone_number')\n",
    "    def validator_phone_number(cls, v):\n",
    "        pattern = re.compile(\"^(010)-[0-9]{4}-[0-9]{4}\")\n",
    "        matched = pattern.search(v)\n",
    "        if matched == None:\n",
    "            raise ValidationError('전화번호가 입력이 이상허다...')\n",
    "        else:\n",
    "            return v       \n",
    "\n",
    "    @validator('email_address')\n",
    "    def validator_email_address(cls, v):\n",
    "        pattern = re.compile(\"[A-Za-z0-9]+@[A-Za-z0-9]+\\.[A-Za-z0-9]+\")\n",
    "        matched = pattern.search(v)\n",
    "        if matched == None:\n",
    "            raise ValidationError('이메일 즈소 입력이 이상허다...')\n",
    "        else:\n",
    "            return v    "
   ]
  },
  {
   "cell_type": "code",
   "execution_count": 11,
   "metadata": {},
   "outputs": [
    {
     "name": "stdout",
     "output_type": "stream",
     "text": [
      "{'user_id': 'Karma', 'phone_number': '010-1234-5678', 'email_address': 'nsm4421@naver.com'}\n"
     ]
    }
   ],
   "source": [
    "user_id = \"Karma\"\n",
    "phone_number = \"010-1234-5678\"\n",
    "email_address = \"nsm4421@naver.com\"\n",
    "user_info = {'user_id':user_id, \\\n",
    "    'phone_number':phone_number,\\\n",
    "        'email_address' : email_address}\n",
    "try:\n",
    "    user = User(**user_info)\n",
    "    print(user.dict())\n",
    "except Exception as e:\n",
    "    print(e)"
   ]
  },
  {
   "cell_type": "code",
   "execution_count": 12,
   "metadata": {},
   "outputs": [
    {
     "name": "stdout",
     "output_type": "stream",
     "text": [
      "2 validation errors for User\n",
      "user_id\n",
      "  __init__() takes exactly 3 positional arguments (2 given) (type=type_error)\n",
      "phone_number\n",
      "  __init__() takes exactly 3 positional arguments (2 given) (type=type_error)\n"
     ]
    }
   ],
   "source": [
    "user_id = \"ka\"\n",
    "phone_number = \"010-1234567\"\n",
    "email_address = \"nsm4421@naver.com\"\n",
    "user_info = {'user_id':user_id, \\\n",
    "    'phone_number':phone_number,\\\n",
    "        'email_address' : email_address}\n",
    "\n",
    "try:\n",
    "    user = User(**user_info)\n",
    "    print(user.dict())\n",
    "except Exception as e:\n",
    "    print(e)"
   ]
  },
  {
   "cell_type": "code",
   "execution_count": null,
   "metadata": {},
   "outputs": [],
   "source": []
  }
 ],
 "metadata": {
  "interpreter": {
   "hash": "c82d94a48fd9619577fe9dd8e53e417893df5dc2bb0ea967f6feabc6bcdf8f2e"
  },
  "kernelspec": {
   "display_name": "Python 3.10.1 64-bit",
   "language": "python",
   "name": "python3"
  },
  "language_info": {
   "codemirror_mode": {
    "name": "ipython",
    "version": 3
   },
   "file_extension": ".py",
   "mimetype": "text/x-python",
   "name": "python",
   "nbconvert_exporter": "python",
   "pygments_lexer": "ipython3",
   "version": "3.10.1"
  },
  "orig_nbformat": 4
 },
 "nbformat": 4,
 "nbformat_minor": 2
}

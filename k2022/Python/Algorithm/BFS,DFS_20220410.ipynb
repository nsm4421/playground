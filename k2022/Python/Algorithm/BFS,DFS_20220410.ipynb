{
 "cells": [
  {
   "cell_type": "markdown",
   "metadata": {},
   "source": [
    "숨박꼭질\n",
    "\n",
    "    https://www.acmicpc.net/problem/1697"
   ]
  },
  {
   "cell_type": "code",
   "execution_count": 9,
   "metadata": {},
   "outputs": [
    {
     "name": "stdout",
     "output_type": "stream",
     "text": [
      "4\n"
     ]
    }
   ],
   "source": [
    "from collections import deque\n",
    "\n",
    "N, K = map(int, input().split())\n",
    "\n",
    "MAX = 100000\n",
    "visited = [False]*(MAX+1)\n",
    "dist = [0]*(MAX+1)\n",
    "\n",
    "def bfs(n, k):\n",
    "    queue = deque([n])\n",
    "    while queue:\n",
    "        x = queue.popleft()\n",
    "        if x == k:\n",
    "            return dist[k]\n",
    "        else:\n",
    "            for nx in (x-1, x+1, 2*x):\n",
    "                if 0<=nx and nx<=MAX and not visited[nx]:\n",
    "                    visited[nx] = True\n",
    "                    dist[nx] = dist[x]+1\n",
    "                    queue.append(nx)\n",
    "\n",
    "\n",
    "\n",
    "print(bfs(n=N, k=K))"
   ]
  },
  {
   "cell_type": "markdown",
   "metadata": {},
   "source": [
    "나이트의 이동\n",
    "\n",
    "    https://www.acmicpc.net/problem/7562"
   ]
  },
  {
   "cell_type": "code",
   "execution_count": 43,
   "metadata": {},
   "outputs": [
    {
     "name": "stdout",
     "output_type": "stream",
     "text": [
      "28\n"
     ]
    }
   ],
   "source": [
    "from collections import deque\n",
    "\n",
    "def bfs(start_x, start_y, end_x, end_y):\n",
    "    queue = deque([(start_x, start_y)])\n",
    "    dist[start_x][start_y] = 1    \n",
    "    while queue:\n",
    "        x, y = queue.popleft()\n",
    "        if (x, y) == (end_x, end_y):\n",
    "            return\n",
    "        for i in range(8):\n",
    "            nx, ny = x+dx[i], y+dy[i]\n",
    "            if nx<0 or nx>=I or ny<0 or ny>=I:\n",
    "                continue\n",
    "            if dist[nx][ny] == 0:               \n",
    "                dist[nx][ny] = dist[x][y]+1\n",
    "                queue.append((nx, ny))\n",
    "\n",
    "dx = [-1, -2, -2, -1, 1, 2, 2, 1]\n",
    "dy = [2, 1, -1, -2, -2, -1, 1, 2]\n",
    "\n",
    "T = int(input())\n",
    "\n",
    "for _ in range(T):\n",
    "    I = int(input())\n",
    "    dist = [[0 for _ in range(I)] for _ in range(I)]\n",
    "    start_x, start_y = list(map(int, input().split()))\n",
    "    dist[start_x][start_y] = 1\n",
    "    end_x, end_y = list(map(int, input().split()))\n",
    "\n",
    "    bfs(start_x, start_y, end_x, end_y)\n",
    "    print(dist[end_x][end_y]-1)"
   ]
  },
  {
   "cell_type": "markdown",
   "metadata": {},
   "source": [
    "토마토\n",
    "\n",
    "    https://www.acmicpc.net/problem/7576"
   ]
  },
  {
   "cell_type": "code",
   "execution_count": 136,
   "metadata": {},
   "outputs": [
    {
     "ename": "IndexError",
     "evalue": "list index out of range",
     "output_type": "error",
     "traceback": [
      "\u001b[1;31m---------------------------------------------------------------------------\u001b[0m",
      "\u001b[1;31mIndexError\u001b[0m                                Traceback (most recent call last)",
      "\u001b[1;32m~\\AppData\\Local\\Temp/ipykernel_25560/2136246570.py\u001b[0m in \u001b[0;36m<module>\u001b[1;34m\u001b[0m\n\u001b[0;32m      7\u001b[0m \u001b[1;32mfor\u001b[0m \u001b[0mi\u001b[0m \u001b[1;32min\u001b[0m \u001b[0mrange\u001b[0m\u001b[1;33m(\u001b[0m\u001b[0mN\u001b[0m\u001b[1;33m)\u001b[0m\u001b[1;33m:\u001b[0m\u001b[1;33m\u001b[0m\u001b[1;33m\u001b[0m\u001b[0m\n\u001b[0;32m      8\u001b[0m     \u001b[1;32mfor\u001b[0m \u001b[0mj\u001b[0m \u001b[1;32min\u001b[0m \u001b[0mrange\u001b[0m\u001b[1;33m(\u001b[0m\u001b[0mM\u001b[0m\u001b[1;33m)\u001b[0m\u001b[1;33m:\u001b[0m\u001b[1;33m\u001b[0m\u001b[1;33m\u001b[0m\u001b[0m\n\u001b[1;32m----> 9\u001b[1;33m         \u001b[1;32mif\u001b[0m \u001b[0mgraph\u001b[0m\u001b[1;33m[\u001b[0m\u001b[0mi\u001b[0m\u001b[1;33m]\u001b[0m\u001b[1;33m[\u001b[0m\u001b[0mj\u001b[0m\u001b[1;33m]\u001b[0m \u001b[1;33m==\u001b[0m \u001b[1;36m1\u001b[0m\u001b[1;33m:\u001b[0m    \u001b[1;31m# 잘익은 토마토\u001b[0m\u001b[1;33m\u001b[0m\u001b[1;33m\u001b[0m\u001b[0m\n\u001b[0m\u001b[0;32m     10\u001b[0m             \u001b[0mqueue\u001b[0m\u001b[1;33m.\u001b[0m\u001b[0mappend\u001b[0m\u001b[1;33m(\u001b[0m\u001b[1;33m(\u001b[0m\u001b[0mi\u001b[0m\u001b[1;33m,\u001b[0m \u001b[0mj\u001b[0m\u001b[1;33m)\u001b[0m\u001b[1;33m)\u001b[0m\u001b[1;33m\u001b[0m\u001b[1;33m\u001b[0m\u001b[0m\n\u001b[0;32m     11\u001b[0m \u001b[1;33m\u001b[0m\u001b[0m\n",
      "\u001b[1;31mIndexError\u001b[0m: list index out of range"
     ]
    }
   ],
   "source": [
    "from collections import deque\n",
    "\n",
    "# Input\n",
    "M, N = map(int, input().split())\n",
    "graph = [list(map(int, input().split())) for _ in range(N)]\n",
    "\n",
    "\n",
    "# 잘익은 토마토를 미리 queue에 넣어둠\n",
    "queue = deque([])\n",
    "for i in range(N):\n",
    "    for j in range(M):\n",
    "        if graph[i][j] == 1: \n",
    "            queue.append((i, j))\n",
    "\n",
    "# BFS\n",
    "dx, dy = [0,0,1,-1], [1,-1,0,0]\n",
    "while queue:\n",
    "    x, y = queue.popleft()\n",
    "    for i in range(4):\n",
    "        nx, ny = x+dx[i], y+dy[i]\n",
    "        if nx<0 or nx>=N or ny<0 or ny>=M:\n",
    "            continue\n",
    "        else:\n",
    "            if graph[nx][ny] == -1:\n",
    "                continue\n",
    "            elif graph[nx][ny] == 0:\n",
    "                graph[nx][ny] = graph[x][y]+1\n",
    "                queue.append((nx, ny))   \n",
    "\n",
    "# 출력\n",
    "isMinusOne = False\n",
    "maxVal = 0\n",
    "for i in range(N):\n",
    "    for j in range(M):\n",
    "        maxVal = max(maxVal, graph[i][j])\n",
    "        if graph[i][j] == 0:\n",
    "            isMinusOne = True\n",
    "            break\n",
    "\n",
    "if isMinusOne:\n",
    "    print(-1)\n",
    "else:\n",
    "    print(maxVal-1)"
   ]
  },
  {
   "cell_type": "markdown",
   "metadata": {},
   "source": [
    "촌수계산\n",
    "    \n",
    "    https://www.acmicpc.net/problem/2644"
   ]
  },
  {
   "cell_type": "code",
   "execution_count": null,
   "metadata": {},
   "outputs": [],
   "source": []
  }
 ],
 "metadata": {
  "interpreter": {
   "hash": "c82d94a48fd9619577fe9dd8e53e417893df5dc2bb0ea967f6feabc6bcdf8f2e"
  },
  "kernelspec": {
   "display_name": "Python 3.10.1 64-bit",
   "language": "python",
   "name": "python3"
  },
  "language_info": {
   "codemirror_mode": {
    "name": "ipython",
    "version": 3
   },
   "file_extension": ".py",
   "mimetype": "text/x-python",
   "name": "python",
   "nbconvert_exporter": "python",
   "pygments_lexer": "ipython3",
   "version": "3.10.1"
  },
  "orig_nbformat": 4
 },
 "nbformat": 4,
 "nbformat_minor": 2
}

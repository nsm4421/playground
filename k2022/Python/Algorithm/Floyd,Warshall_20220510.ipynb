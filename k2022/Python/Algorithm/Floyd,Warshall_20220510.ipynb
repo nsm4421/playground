{
 "cells": [
  {
   "cell_type": "markdown",
   "metadata": {},
   "source": [
    "촌수계산\n",
    "\n",
    "    https://www.acmicpc.net/problem/2644"
   ]
  },
  {
   "cell_type": "code",
   "execution_count": null,
   "metadata": {},
   "outputs": [],
   "source": [
    "# 입력받기\n",
    "n = int(input())\n",
    "start, end = map(int, input().split())\n",
    "m = int(input())\n",
    "graph =[[0 for _ in range(n+1)] for _ in range(n+1)]\n",
    "for _ in range(m):\n",
    "    x, y = map(int, input().split())\n",
    "    graph[x][y] = 1\n",
    "    graph[y][x] = 1\n",
    "\n",
    "# 세팅\n",
    "INF = 1e8\n",
    "dist = [INF for _ in range(n+1)]\n",
    "visited = [False for _ in range(n+1)]\n",
    "\n",
    "# 초기노드 세팅\n",
    "visited[start] = True\n",
    "dist[start] = 0\n",
    "\n",
    "# DFS\n",
    "def dfs(node):\n",
    "    # 방문처리\n",
    "    visited[node] = True\n",
    "\n",
    "    for i in range(1, n+1):\n",
    "        # 인접 노드 중에서 미방문한 노드에 대해 dfs\n",
    "        if graph[node][i] == 1 and not visited[i]:\n",
    "            dist[i] = dist[node]+1\n",
    "            dfs(i)\n",
    "\n",
    "dfs(start)\n",
    "\n",
    "# 출력\n",
    "if dist[end] >= INF:\n",
    "    print(-1)\n",
    "else:\n",
    "    print(dist[end])"
   ]
  },
  {
   "cell_type": "markdown",
   "metadata": {},
   "source": [
    "경로 찾기\n",
    "\n",
    "    https://www.acmicpc.net/problem/11403"
   ]
  },
  {
   "cell_type": "code",
   "execution_count": null,
   "metadata": {},
   "outputs": [],
   "source": [
    "# 입력\n",
    "N = int(input())                                                # 노드개수\n",
    "AdjMat = [list(map(int, input().split())) for _ in range(N)]    # 인접행렬\n",
    "\n",
    "# 와샬 플로이드 \n",
    "for i in range(N):\n",
    "    for j in range(N):\n",
    "        for k in range(N):\n",
    "            if AdjMat[j][i] == 1 and AdjMat[i][k] == 1:\n",
    "                AdjMat[j][k] = 1\n",
    "\n",
    "# 출력\n",
    "for i in range(N):\n",
    "    for j in range(N):\n",
    "        print(AdjMat[i][j], end = \" \")\n",
    "    if i<N-1:\n",
    "        print()"
   ]
  },
  {
   "cell_type": "markdown",
   "metadata": {},
   "source": [
    "플로이드\n",
    "\n",
    "    https://www.acmicpc.net/problem/11404"
   ]
  },
  {
   "cell_type": "code",
   "execution_count": null,
   "metadata": {},
   "outputs": [],
   "source": [
    "n = int(input())    # 도시의 개수\n",
    "m = int(input())    # 버스의 개수\n",
    "\n",
    "INF = 1e8\n",
    "graph = [[INF for _ in range(n+1)] for _ in range(n+1)]\n",
    "\n",
    "for _ in range(m):\n",
    "    a, b, c = map(int, input().split())     # start, end, cost\n",
    "    if graph[a][b]>c:\n",
    "        graph[a][b] = c     # a->b로 가는 경로가 여러개일 수도 있다고 언급\n",
    "\n",
    "for i in range(1, n+1):\n",
    "    graph[i][i] = 0             # 자기자신과의 거리 0\n",
    "\n",
    "# 와샬 플로이드\n",
    "for i in range(1, n+1):\n",
    "    for j in range(1, n+1):\n",
    "        for k in range(1, n+1):\n",
    "            graph[j][k] = min(graph[j][i]+graph[i][k], graph[j][k])\n",
    "\n",
    "# 출력\n",
    "for i in range(1, n+1):\n",
    "    for j in range(1, n+1): \n",
    "        if graph[i][j] == INF:\n",
    "            print(0, end = \" \")\n",
    "        else:\n",
    "            print(graph[i][j], end = \" \")\n",
    "    print()"
   ]
  },
  {
   "cell_type": "markdown",
   "metadata": {},
   "source": [
    "역사\n",
    "\n",
    "    https://www.acmicpc.net/problem/1613"
   ]
  },
  {
   "cell_type": "code",
   "execution_count": null,
   "metadata": {},
   "outputs": [],
   "source": [
    "INF = 1e8\n",
    "\n",
    "# 입력\n",
    "n, k = map(int, input().split())\n",
    "graph = [[INF for _ in range(n+1)] for _ in range(n+1)]\n",
    "for _ in range(k):\n",
    "    i, j = map(int, input().split())\n",
    "    graph[i][j] = 0\n",
    "s = int(input())\n",
    "wantToKnow = [list(map(int, input().split())) for _ in range(s)]\n",
    "\n",
    "# 자기자신과의 거리 0\n",
    "for i in range(1, n+1):\n",
    "    graph[i][i] = 0\n",
    "\n",
    "# 플로이드 와샬\n",
    "for i in range(1, n+1):\n",
    "    for j in range(1, n+1):\n",
    "        for k in range(1, n+1):\n",
    "            graph[j][k] = min(graph[j][i]+graph[i][k], graph[j][k])\n",
    "\n",
    "# 출력\n",
    "for (i, j) in wantToKnow:\n",
    "    if graph[i][j] == 0:\n",
    "        print(-1)\n",
    "    elif graph[j][i] == 0:\n",
    "        print(1)\n",
    "    else:\n",
    "        print(0)\n"
   ]
  },
  {
   "cell_type": "markdown",
   "metadata": {},
   "source": [
    "택배\n",
    "\n",
    "    https://www.acmicpc.net/problem/1719"
   ]
  },
  {
   "cell_type": "code",
   "execution_count": null,
   "metadata": {},
   "outputs": [],
   "source": [
    "# 입력\n",
    "n, m = map(int, input().split())\n",
    "INF = 1e8\n",
    "graph = [[INF for _ in range(n+1)] for _ in range(n+1)]\n",
    "res = [[0 for _ in range(n+1)] for _ in range(n+1)]     # result\n",
    "\n",
    "for _ in range(m):\n",
    "    i, j, k = map(int, input().split())\n",
    "    graph[i][j] = k     \n",
    "    graph[j][i] = k     # 양방향 그래프\n",
    "    res[i][j] = j           \n",
    "    res[j][i] = i\n",
    "\n",
    "# 플로이드 워셜\n",
    "for i in range(1, n+1):\n",
    "    for j in range(1, n+1):\n",
    "        for k in range(1, n+1):\n",
    "            if graph[j][k] > graph[j][i] + graph[i][k]:\n",
    "                graph[j][k] = min(graph[j][k], graph[j][i] + graph[i][k])\n",
    "                res[j][k] = res[j][i]       \n",
    "                res[k][j] = res[k][i]\n",
    "\n",
    "# 출력\n",
    "for i in range(1, n+1): \n",
    "    for j in range(1, n+1):\n",
    "        if i == j:\n",
    "            print(\"-\", end = \" \")\n",
    "        else:\n",
    "            print(res[i][j], end = \" \")\n",
    "    print()"
   ]
  }
 ],
 "metadata": {
  "interpreter": {
   "hash": "db62b982d770fbbb238736d52661e6c8992a187d6ada533c1e14407ba82b5d74"
  },
  "kernelspec": {
   "display_name": "Python 3.10.1 64-bit",
   "language": "python",
   "name": "python3"
  },
  "language_info": {
   "codemirror_mode": {
    "name": "ipython",
    "version": 3
   },
   "file_extension": ".py",
   "mimetype": "text/x-python",
   "name": "python",
   "nbconvert_exporter": "python",
   "pygments_lexer": "ipython3",
   "version": "3.10.1"
  },
  "orig_nbformat": 4
 },
 "nbformat": 4,
 "nbformat_minor": 2
}

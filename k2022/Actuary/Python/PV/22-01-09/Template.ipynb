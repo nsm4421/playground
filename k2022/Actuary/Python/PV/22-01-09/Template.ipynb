{
 "cells": [
  {
   "cell_type": "code",
   "execution_count": null,
   "metadata": {},
   "outputs": [],
   "source": [
    "import pandas as pd\n",
    "import numpy as np\n",
    "from tqdm import tqdm"
   ]
  },
  {
   "cell_type": "markdown",
   "metadata": {},
   "source": [
    "# Preprocessing"
   ]
  },
  {
   "cell_type": "markdown",
   "metadata": {},
   "source": [
    "### Qx Table"
   ]
  },
  {
   "cell_type": "code",
   "execution_count": null,
   "metadata": {},
   "outputs": [],
   "source": [
    "df_Qx = pd.read_excel('Template.xlsx', sheet_name=\"위험률\", header = 3).fillna(0)\n",
    "print(df_Qx.shape)\n",
    "df_Qx.head()"
   ]
  },
  {
   "cell_type": "code",
   "execution_count": null,
   "metadata": {},
   "outputs": [],
   "source": [
    "# 구분자\n",
    "cols = ['상해급수', '운전자급수']\n",
    "\n",
    "# 위험률키\n",
    "def getRiskKey(riskCode, injure, driver):\n",
    "    return f\"{riskCode}_{injure}_{driver}\" "
   ]
  },
  {
   "cell_type": "code",
   "execution_count": null,
   "metadata": {},
   "outputs": [],
   "source": [
    "# 위험률키\n",
    "riskKeys = []\n",
    "for row in df_Qx[['위험률코드'] + cols + ['x', '남자', '여자']].values:\n",
    "    rCode, injure, driver, x, male, female = row\n",
    "    rKey = getRiskKey(rCode, int(injure), int(driver))\n",
    "    riskKeys.append(rKey)\n",
    "\n",
    "df_Qx['위험률키'] = riskKeys\n",
    "df_Qx.head()"
   ]
  },
  {
   "cell_type": "markdown",
   "metadata": {},
   "source": [
    "Qx Dictionary\n",
    "\n",
    "key : 성별코드_위험률코드_상해급수_운전자급수 \n",
    "\n",
    "value : ${q_0}, {q_1}, ... {q_{119}}$"
   ]
  },
  {
   "cell_type": "code",
   "execution_count": null,
   "metadata": {},
   "outputs": [],
   "source": [
    "riskKeys = set(riskKeys)\n",
    "print(f\"위험률키 개수 : {len(riskKeys)}\")\n",
    "\n",
    "Qx_dict = {}\n",
    "\n",
    "for rKey in tqdm(riskKeys):\n",
    "    qx_male, qx_female = [0.]*120, [0.]*120\n",
    "    df_q = df_Qx.loc[df_Qx['위험률키'] == rKey][['x', '남자', '여자']]\n",
    "    for x, male, female in df_q.values:\n",
    "        if x == \"ZZ\":   # 단일률\n",
    "            qx_male = [male for _ in range(120)]\n",
    "            qx_female = [male for _ in range(120)]\n",
    "            break\n",
    "        else:\n",
    "            qx_male[int(x)] = male\n",
    "            qx_female[int(x)] = female\n",
    "    Qx_dict[f\"{1}_{rKey}\"] = qx_male\n",
    "    Qx_dict[f\"{2}_{rKey}\"] = qx_female"
   ]
  },
  {
   "cell_type": "markdown",
   "metadata": {},
   "source": [
    "### Code Table"
   ]
  },
  {
   "cell_type": "code",
   "execution_count": null,
   "metadata": {},
   "outputs": [],
   "source": [
    "df_Code = pd.read_excel('Template.xlsx', sheet_name=\"코드\", header = 3).fillna(\"\")\n",
    "print(df_Code.shape)\n",
    "df_Code.head()"
   ]
  },
  {
   "cell_type": "code",
   "execution_count": null,
   "metadata": {},
   "outputs": [],
   "source": [
    "df_Code = df_Code[['담보키', '급부번호',\\\n",
    "       '탈퇴율코드', '탈퇴율Type', '부담보기간',\\\n",
    "              '급부율코드', '급부율Type', '지급률', '감액률', '감액기간', \\\n",
    "                     '납면율코드', '납면율Type', '면책기간']]\n",
    "print(df_Code.shape)\n",
    "df_Code.head()"
   ]
  },
  {
   "cell_type": "code",
   "execution_count": null,
   "metadata": {},
   "outputs": [],
   "source": [
    "covKeys = np.unique(df_Code['담보키'].values)\n",
    "print(f\"담보키 개수 : {len(covKeys)}개\")"
   ]
  },
  {
   "cell_type": "markdown",
   "metadata": {},
   "source": [
    "Coverage Dictionary\n",
    "\n",
    "- key : 담보키\n",
    "\n",
    "- value : 담보정보\n",
    "\n",
    "    - 탈퇴\n",
    "\n",
    "    - 급부\n",
    "\n",
    "    - 납면\n",
    "\n",
    "    - 급부개수\n",
    "\n",
    "    - 결합위험률 적용여부\n",
    "\n",
    "    - 단일률 적용여부"
   ]
  },
  {
   "cell_type": "code",
   "execution_count": null,
   "metadata": {},
   "outputs": [],
   "source": [
    "Coverage_dict = {}\n",
    "\n",
    "for covKey in tqdm(covKeys):\n",
    "\n",
    "    coverage_info = {}\n",
    "    df_c = df_Code[df_Code['담보키'] == covKey]\n",
    "    numBenefit = 0      # 급부개수\n",
    "    useCombQx = False   # 결합위험률 적용 여부\n",
    "    useSingleQx = False # 단일률 적용 여부\n",
    "\n",
    "    for row in df_c.values:\n",
    "        _, bNum, eCode, eType, nCov, bCode, bType, pRate, rRate, rPeriod, gCode, gType, iPeriod = row\n",
    "\n",
    "        if (eType == \"C\") | (bType == \"C\") | (gType == \"C\"):\n",
    "            useCombQx = True\n",
    "        if (eType == \"S\") | (bType == \"S\") | (gType == \"S\"):\n",
    "            useSingleQx = True\n",
    "        \n",
    "        if bNum == 99:  # 납입면제 (grant)\n",
    "            coverage_info[99] = {\n",
    "                \"GxCode\" : gCode,   # 납면율 code\n",
    "                \"GxType\" : gType,   # 납면율 type\n",
    "                \"InvalidPeriod\" : 0 if iPeriod == \"\" else int(iPeriod)   # 무효해지기간\n",
    "            }\n",
    "\n",
    "        else:\n",
    "            coverage_info[bNum] = {}\n",
    "\n",
    "            coverage_info[bNum]['Exit'] = {\n",
    "                \"ExCode\" : eCode,   # 탈퇴율 code\n",
    "                \"ExType\" : eType,   # 탈퇴율 type\n",
    "                \"NonCov\" : 0 if nCov == \"\" else int(nCov)     # 부담보\n",
    "            }\n",
    "\n",
    "            if bNum != 0:\n",
    "                coverage_info[bNum]['Benefit'] = {\n",
    "                    \"BxCode\" : bCode,   # 급부율 code\n",
    "                    \"BxType\" : bType,   # 급부율 type\n",
    "                    \"PayRate\" : 1. if pRate == \"\" else float(pRate),          # 지급률\n",
    "                    \"ReducePeriod\" : 0 if rPeriod == \"\" else int(rPeriod),   # 감액기간\n",
    "                    \"ReduceRate\" : 0. if rRate == \"\" else float(rRate)      # 감액률\n",
    "                }\n",
    "                numBenefit += 1\n",
    "    \n",
    "    coverage_info[\"NumBenefit\"] = numBenefit    # 급부개수\n",
    "    coverage_info[\"UseSingleQx\"]= useSingleQx   # 단일률적용여부\n",
    "    coverage_info[\"UseCombQx\"] = useCombQx      # 결합위험률적용여부\n",
    "\n",
    "\n",
    "    Coverage_dict[covKey] = coverage_info"
   ]
  },
  {
   "cell_type": "markdown",
   "metadata": {},
   "source": [
    "### Comb Table"
   ]
  },
  {
   "cell_type": "code",
   "execution_count": null,
   "metadata": {},
   "outputs": [],
   "source": [
    "df_Comb = pd.read_excel(\"Template.xlsx\", sheet_name=\"결합위험률\", header=3).fillna(\"\")\n",
    "print(df_Comb.shape)\n",
    "df_Comb.head()"
   ]
  },
  {
   "cell_type": "code",
   "execution_count": null,
   "metadata": {},
   "outputs": [],
   "source": [
    "df_Comb = df_Comb[['담보키', '결합위험률코드', 'Operation', '위험률개수'] \\\n",
    "    + [f\"위험률코드({i})\" for i in range(1, 8+1)] \\\n",
    "        + [f\"제외기간({i})\" for i in range(1, 8+1)]]\n",
    "df_Comb.head()"
   ]
  },
  {
   "cell_type": "code",
   "execution_count": null,
   "metadata": {},
   "outputs": [],
   "source": [
    "covKeys_comb = np.unique(df_Comb['담보키'].values)\n",
    "print(f\"결합위험률 적용 담보키 개수 : {len(covKeys_comb)}개\")"
   ]
  },
  {
   "cell_type": "code",
   "execution_count": null,
   "metadata": {},
   "outputs": [],
   "source": [
    "for covKey in covKeys_comb:\n",
    "    comb_info = {}\n",
    "    df_c = df_Comb.loc[df_Comb['담보키'] == covKey]\n",
    "    for row in df_c.values:\n",
    "        _, combRiskKey, oper, nRiskKey = row[:4]\n",
    "        rCodes = row[4:4+8][:nRiskKey]\n",
    "        periods = row[12:12+8][:nRiskKey]\n",
    "        periods = [0 if p==\"\" else int(p) for p in periods]\n",
    "        comb_info[combRiskKey] = {\n",
    "            \"Operation\" : int(oper),\n",
    "            \"RiskCodes\" : rCodes,\n",
    "            \"Periods\" : periods\n",
    "        }\n",
    "    Coverage_dict[covKey][\"CombInfo\"] = comb_info"
   ]
  },
  {
   "cell_type": "code",
   "execution_count": null,
   "metadata": {},
   "outputs": [],
   "source": [
    "Coverage_dict[\"LC0738\"]"
   ]
  },
  {
   "cell_type": "markdown",
   "metadata": {},
   "source": [
    "# Qx mapping"
   ]
  },
  {
   "cell_type": "code",
   "execution_count": null,
   "metadata": {},
   "outputs": [],
   "source": [
    "def getQx(sex : int, riskCode : str, injure : int, driver : int):\n",
    "    riskKey = f\"{sex}_{riskCode}_{injure}_{driver}\"\n",
    "    return Qx_dict[riskKey]"
   ]
  },
  {
   "cell_type": "code",
   "execution_count": null,
   "metadata": {},
   "outputs": [],
   "source": [
    "test = getQx(sex=1, riskCode=\"HKFM221\", injure = 0, driver = 0)\n",
    "print(test[:5])"
   ]
  },
  {
   "cell_type": "code",
   "execution_count": null,
   "metadata": {},
   "outputs": [],
   "source": [
    "def getCombQxDict(comb_info : dict, sex : int, x : int):\n",
    "\n",
    "    result = {}    \n",
    "    for (combRiskKey, info) in comb_info.items():\n",
    "        oper = info[\"Operation\"]\n",
    "        rCodes = info[\"RiskCodes\"]\n",
    "        periods = info[\"Periods\"]\n",
    "\n",
    "        numRiskCode = len(rCodes)\n",
    "        qx = [[0.]*120]*numRiskCode\n",
    "\n",
    "        for i in range(numRiskCode):\n",
    "\n",
    "            if rCodes[i] in result.keys():\n",
    "                qx[i] = result[rCodes[i]]\n",
    "            else:\n",
    "                qx[i] = getQx(sex = sex, riskCode = rCodes[i], injure = 0, driver = 0)    \n",
    "\n",
    "        if oper == 1:\n",
    "\n",
    "            combQx = [0.]*120\n",
    "            for i in range(numRiskCode):\n",
    "                for t in range(120):\n",
    "                    if t == x:\n",
    "                        combQx[t] += qx[i][t] * (1-periods[i]/12)\n",
    "                    else:\n",
    "                        combQx[t] += qx[i][t] \n",
    "\n",
    "\n",
    "        elif oper == 2:\n",
    "\n",
    "            combQx = [1.]*120\n",
    "            for i in range(numRiskCode):\n",
    "                for t in range(120):\n",
    "                    if t == x:\n",
    "                        combQx[t] *= 1-qx[i][t]* (1-periods[i]/12)\n",
    "                    else:\n",
    "                        combQx[t] *= 1-qx[i][t] \n",
    "            for t in range(120):\n",
    "                combQx[t] = 1-combQx[t]\n",
    "\n",
    "        else:\n",
    "            raise Exception(\"결합위험률 계산방법이 이상허게 들어옴\")\n",
    "        \n",
    "        result[combRiskKey] = combQx\n",
    "\n",
    "    return result"
   ]
  },
  {
   "cell_type": "code",
   "execution_count": null,
   "metadata": {},
   "outputs": [],
   "source": [
    "test = getCombQxDict(comb_info = Coverage_dict[\"LC0738\"]['CombInfo'], sex = 1, x= 40, n = 5)\n",
    "test[\"C1\"][40:45]"
   ]
  },
  {
   "cell_type": "code",
   "execution_count": null,
   "metadata": {},
   "outputs": [],
   "source": [
    "def QxMapping(covKey : str, sex:int, x:int, n:int, injure : int, driver : int):\n",
    "    coverage_info = Coverage_dict[covKey]\n",
    "\n",
    "    numBenefit = coverage_info['NumBenefit']\n",
    "    Ex = [[0.]*(n+1)]*(numBenefit+1)\n",
    "    Bx = [[0.]*(n+1)]*(numBenefit+1)\n",
    "\n",
    "    if coverage_info['UseCombQx']:\n",
    "        combQxDict = getCombQxDict(coverage_info['CombInfo'], sex, x)\n",
    "        \n",
    "    for i in range(numBenefit+1):\n",
    "        eCode = coverage_info[i]['Exit']['ExCode']\n",
    "        eType = coverage_info[i]['Exit']['ExType']\n",
    "        if eType == \"C\":\n",
    "            Ex[i] = combQxDict[eCode][x:x+n+1]\n",
    "        else:\n",
    "            Ex[i] = getQx(sex = sex, riskCode=eCode, injure = injure, driver = driver)[x:x+n+1]\n",
    "\n",
    "        if i>0:\n",
    "            bCode = coverage_info[i]['Benefit']['BxCode']\n",
    "            bType = coverage_info[i]['Benefit']['BxType']\n",
    "\n",
    "            if bType == \"C\":\n",
    "                Bx[i] = combQxDict[bCode][x:x+n+1]\n",
    "            else:\n",
    "                Bx[i] = getQx(sex = sex, riskCode=bCode, injure = injure, driver = driver)[x:x+n+1]\n",
    "\n",
    "    \n",
    "    gCode = coverage_info[99]['GxCode']\n",
    "    gType = coverage_info[99]['GxType']\n",
    "    if gType == \"C\":\n",
    "        Gx = combQxDict[gCode][x:x+n+1]\n",
    "    else:\n",
    "        Gx = getQx(sex = sex, riskCode=gCode, injure=injure,driver=driver)[x:x+n+1]\n",
    "\n",
    "    return Ex, Bx, Gx"
   ]
  },
  {
   "cell_type": "code",
   "execution_count": null,
   "metadata": {},
   "outputs": [],
   "source": [
    "Ex, Bx, Gx = QxMapping(covKey=\"LA1568\", sex = 1, x = 40, n = 5, injure=0, driver= 0)\n",
    "print(f\"Ex(0) : {Ex[0]}\")\n",
    "print(f\"Ex(1) : {Ex[1]}\")\n",
    "# print(f\"Bx(0) : {Bx[0]}\")\n",
    "print(f\"Bx(1) : {Bx[1]}\")\n",
    "print(f\"Gx : {Gx}\")"
   ]
  },
  {
   "cell_type": "markdown",
   "metadata": {},
   "source": [
    "# Calculation"
   ]
  },
  {
   "cell_type": "code",
   "execution_count": null,
   "metadata": {},
   "outputs": [],
   "source": [
    "Coverage_dict[\"LA3348_1\"]"
   ]
  },
  {
   "cell_type": "code",
   "execution_count": null,
   "metadata": {},
   "outputs": [],
   "source": [
    "def Calulation(Ex : list, Bx : list, Gx : list, numBenefit : int, \\\n",
    "    nonCov : list, payRate : list, reduceRate : list, reducePeriod : list, invalidPeriod : list, \\\n",
    "        sex:int, x:int, n:int, injure:int, driver:int, v:int):\n",
    "    \n",
    "\n",
    "    # init\n",
    "    lx = [[0.]*(n+1)]*(numBenefit+1)\n",
    "    lxPrime = [0.]*(n+1)\n",
    "    Nx = [0.]*(n+1)\n",
    "    NxPrime = [0.]*(n+1)\n",
    "    Cx = [[0.]*(n+1)]*(numBenefit+1)\n",
    "    Mx = [[0.]*(n+1)]*(numBenefit+1)\n",
    "    SUMx = [0.]*(n+1)\n",
    "\n",
    "    # lx\n",
    "    for i in range(numBenefit+1):\n",
    "        lx[i][0] = 100000\n",
    "        for t in range(n):\n",
    "            if t == 0:\n",
    "                lx[i][t+1] = lx[i][t]*(1-Ex[i][t] * (1-nonCov[i]/12))   # 부담보\n",
    "            else:\n",
    "                lx[i][t+1] = lx[i][t]*(1-Ex[i][t])\n",
    "    # Dx\n",
    "    Dx = [lx[0][t]*v**t for t in range(n+1)]\n",
    "    # Nx\n",
    "    for t in range(n)[::-1]:\n",
    "        Nx[t] = Nx[t+1] + Dx[t]\n",
    "        \n",
    "    \n",
    "    # l'x\n",
    "    lxPrime[0] = 100000\n",
    "    for t in range(n):\n",
    "        if t==0:\n",
    "            lxPrime[t+1] = lxPrime[t]*(1-Gx[t] * (1-invalidPeriod/12))\n",
    "        else:\n",
    "            lxPrime[t+1] = lxPrime[t]*(1-Gx[t])\n",
    "    # D'x\n",
    "    DxPrime = [lxPrime[t]*v**t for t in range(n+1)]\n",
    "    # N'x\n",
    "    for t in range(n)[::-1]:\n",
    "        NxPrime[t] = NxPrime[t+1] + DxPrime[t]\n",
    "        \n",
    "\n",
    "    # Cx\n",
    "    for i in range(1, numBenefit+1):\n",
    "        Cx[i] = [lx[i][t]*Bx[i][t]*v**(t+0.5) for t in range(n+1)]\n",
    "\n",
    "    # Mx\n",
    "    for i in range(1, numBenefit+1):\n",
    "        for t in range(n)[::-1]:\n",
    "            Mx[i][t] = Cx[i][t] + Mx[i][t+1]\n",
    "\n",
    "    # SUMx\n",
    "    for i in range(1, numBenefit+1):\n",
    "        pRate = payRate[i]\n",
    "        rPeriod = reducePeriod[i]\n",
    "        rRate = reduceRate[i]\n",
    "        for t in range(n+1):\n",
    "            if t<reducePeriod[i]:\n",
    "                SUMx[t] += pRate * ((1-rRate) * (Mx[t]-Mx[x+rPeriod]) + \\\n",
    "                    (Mx[x+rPeriod] - Mx[n]))\n",
    "            else:\n",
    "                SUMx[t] += pRate * (Mx[t] - Mx[n])\n",
    "\n",
    "    return {\n",
    "        'lx' : lx,\n",
    "        \"l'x\" : lxPrime,\n",
    "        \"Dx\" : Dx,\n",
    "        \"D'x\" : DxPrime,\n",
    "        \"Nx\" : Dx,\n",
    "        \"N'x\" : DxPrime,\n",
    "        \"Cx\" : Cx,\n",
    "        \"Mx\" : Mx,\n",
    "        \"SUMx\" : SUMx\n",
    "    }   "
   ]
  },
  {
   "cell_type": "code",
   "execution_count": null,
   "metadata": {},
   "outputs": [],
   "source": []
  },
  {
   "cell_type": "code",
   "execution_count": null,
   "metadata": {},
   "outputs": [],
   "source": []
  },
  {
   "cell_type": "code",
   "execution_count": null,
   "metadata": {},
   "outputs": [],
   "source": []
  },
  {
   "cell_type": "code",
   "execution_count": null,
   "metadata": {},
   "outputs": [],
   "source": []
  },
  {
   "cell_type": "code",
   "execution_count": null,
   "metadata": {},
   "outputs": [],
   "source": []
  }
 ],
 "metadata": {
  "interpreter": {
   "hash": "c82d94a48fd9619577fe9dd8e53e417893df5dc2bb0ea967f6feabc6bcdf8f2e"
  },
  "kernelspec": {
   "display_name": "Python 3.10.1 64-bit",
   "language": "python",
   "name": "python3"
  },
  "language_info": {
   "codemirror_mode": {
    "name": "ipython",
    "version": 3
   },
   "file_extension": ".py",
   "mimetype": "text/x-python",
   "name": "python",
   "nbconvert_exporter": "python",
   "pygments_lexer": "ipython3",
   "version": "3.10.1"
  },
  "orig_nbformat": 4
 },
 "nbformat": 4,
 "nbformat_minor": 2
}

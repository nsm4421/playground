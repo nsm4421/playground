{
  "nbformat": 4,
  "nbformat_minor": 0,
  "metadata": {
    "colab": {
      "name": "Pyspark.ipynb의 사본",
      "provenance": [],
      "collapsed_sections": []
    },
    "kernelspec": {
      "name": "python3",
      "display_name": "Python 3"
    },
    "language_info": {
      "name": "python"
    }
  },
  "cells": [
    {
      "cell_type": "markdown",
      "metadata": {
        "id": "Smi5LzKV4jSx"
      },
      "source": [
        "## Install pyspark"
      ]
    },
    {
      "cell_type": "code",
      "metadata": {
        "colab": {
          "base_uri": "https://localhost:8080/"
        },
        "id": "WoDwCM0I4UeJ",
        "outputId": "af8c8ed0-7743-4d14-df14-f7402a198121"
      },
      "source": [
        "pip install pyspark"
      ],
      "execution_count": 1,
      "outputs": [
        {
          "output_type": "stream",
          "name": "stdout",
          "text": [
            "Collecting pyspark\n",
            "  Downloading pyspark-3.1.2.tar.gz (212.4 MB)\n",
            "\u001b[K     |████████████████████████████████| 212.4 MB 67 kB/s \n",
            "\u001b[?25hCollecting py4j==0.10.9\n",
            "  Downloading py4j-0.10.9-py2.py3-none-any.whl (198 kB)\n",
            "\u001b[K     |████████████████████████████████| 198 kB 57.1 MB/s \n",
            "\u001b[?25hBuilding wheels for collected packages: pyspark\n",
            "  Building wheel for pyspark (setup.py) ... \u001b[?25l\u001b[?25hdone\n",
            "  Created wheel for pyspark: filename=pyspark-3.1.2-py2.py3-none-any.whl size=212880768 sha256=090ec67c4320c6ea13bda829efa0a6ed1f26379382f362bc77ca2bf0ff247521\n",
            "  Stored in directory: /root/.cache/pip/wheels/a5/0a/c1/9561f6fecb759579a7d863dcd846daaa95f598744e71b02c77\n",
            "Successfully built pyspark\n",
            "Installing collected packages: py4j, pyspark\n",
            "Successfully installed py4j-0.10.9 pyspark-3.1.2\n"
          ]
        }
      ]
    },
    {
      "cell_type": "code",
      "metadata": {
        "colab": {
          "base_uri": "https://localhost:8080/"
        },
        "id": "--tvm6Aa4dUq",
        "outputId": "765c5236-db99-4d80-81db-16c265e830ec"
      },
      "source": [
        "import pyspark\n",
        "import numpy as np\n",
        "import pandas as pd\n",
        "import glob\n",
        "from sklearn.datasets import load_wine\n",
        "print(pyspark.__version__)"
      ],
      "execution_count": 2,
      "outputs": [
        {
          "output_type": "stream",
          "name": "stdout",
          "text": [
            "3.1.2\n"
          ]
        }
      ]
    },
    {
      "cell_type": "markdown",
      "metadata": {
        "id": "SW9yyxFp-d1l"
      },
      "source": [
        "## Sample dataset"
      ]
    },
    {
      "cell_type": "code",
      "metadata": {
        "colab": {
          "base_uri": "https://localhost:8080/",
          "height": 219
        },
        "id": "HrcL2NFJ9cEO",
        "outputId": "da0c7f65-f9ed-4144-ba19-3ff048457ff7"
      },
      "source": [
        "# Load dataset\n",
        "bundle = load_wine()\n",
        "data = bundle.data\n",
        "columns = bundle.feature_names\n",
        "target = bundle.target\n",
        "\n",
        "sample_df = pd.DataFrame(data = data, columns = columns)\n",
        "sample_df['target'] = target\n",
        "sample_df.head()"
      ],
      "execution_count": 3,
      "outputs": [
        {
          "output_type": "execute_result",
          "data": {
            "text/html": [
              "<div>\n",
              "<style scoped>\n",
              "    .dataframe tbody tr th:only-of-type {\n",
              "        vertical-align: middle;\n",
              "    }\n",
              "\n",
              "    .dataframe tbody tr th {\n",
              "        vertical-align: top;\n",
              "    }\n",
              "\n",
              "    .dataframe thead th {\n",
              "        text-align: right;\n",
              "    }\n",
              "</style>\n",
              "<table border=\"1\" class=\"dataframe\">\n",
              "  <thead>\n",
              "    <tr style=\"text-align: right;\">\n",
              "      <th></th>\n",
              "      <th>alcohol</th>\n",
              "      <th>malic_acid</th>\n",
              "      <th>ash</th>\n",
              "      <th>alcalinity_of_ash</th>\n",
              "      <th>magnesium</th>\n",
              "      <th>total_phenols</th>\n",
              "      <th>flavanoids</th>\n",
              "      <th>nonflavanoid_phenols</th>\n",
              "      <th>proanthocyanins</th>\n",
              "      <th>color_intensity</th>\n",
              "      <th>hue</th>\n",
              "      <th>od280/od315_of_diluted_wines</th>\n",
              "      <th>proline</th>\n",
              "      <th>target</th>\n",
              "    </tr>\n",
              "  </thead>\n",
              "  <tbody>\n",
              "    <tr>\n",
              "      <th>0</th>\n",
              "      <td>14.23</td>\n",
              "      <td>1.71</td>\n",
              "      <td>2.43</td>\n",
              "      <td>15.6</td>\n",
              "      <td>127.0</td>\n",
              "      <td>2.80</td>\n",
              "      <td>3.06</td>\n",
              "      <td>0.28</td>\n",
              "      <td>2.29</td>\n",
              "      <td>5.64</td>\n",
              "      <td>1.04</td>\n",
              "      <td>3.92</td>\n",
              "      <td>1065.0</td>\n",
              "      <td>0</td>\n",
              "    </tr>\n",
              "    <tr>\n",
              "      <th>1</th>\n",
              "      <td>13.20</td>\n",
              "      <td>1.78</td>\n",
              "      <td>2.14</td>\n",
              "      <td>11.2</td>\n",
              "      <td>100.0</td>\n",
              "      <td>2.65</td>\n",
              "      <td>2.76</td>\n",
              "      <td>0.26</td>\n",
              "      <td>1.28</td>\n",
              "      <td>4.38</td>\n",
              "      <td>1.05</td>\n",
              "      <td>3.40</td>\n",
              "      <td>1050.0</td>\n",
              "      <td>0</td>\n",
              "    </tr>\n",
              "    <tr>\n",
              "      <th>2</th>\n",
              "      <td>13.16</td>\n",
              "      <td>2.36</td>\n",
              "      <td>2.67</td>\n",
              "      <td>18.6</td>\n",
              "      <td>101.0</td>\n",
              "      <td>2.80</td>\n",
              "      <td>3.24</td>\n",
              "      <td>0.30</td>\n",
              "      <td>2.81</td>\n",
              "      <td>5.68</td>\n",
              "      <td>1.03</td>\n",
              "      <td>3.17</td>\n",
              "      <td>1185.0</td>\n",
              "      <td>0</td>\n",
              "    </tr>\n",
              "    <tr>\n",
              "      <th>3</th>\n",
              "      <td>14.37</td>\n",
              "      <td>1.95</td>\n",
              "      <td>2.50</td>\n",
              "      <td>16.8</td>\n",
              "      <td>113.0</td>\n",
              "      <td>3.85</td>\n",
              "      <td>3.49</td>\n",
              "      <td>0.24</td>\n",
              "      <td>2.18</td>\n",
              "      <td>7.80</td>\n",
              "      <td>0.86</td>\n",
              "      <td>3.45</td>\n",
              "      <td>1480.0</td>\n",
              "      <td>0</td>\n",
              "    </tr>\n",
              "    <tr>\n",
              "      <th>4</th>\n",
              "      <td>13.24</td>\n",
              "      <td>2.59</td>\n",
              "      <td>2.87</td>\n",
              "      <td>21.0</td>\n",
              "      <td>118.0</td>\n",
              "      <td>2.80</td>\n",
              "      <td>2.69</td>\n",
              "      <td>0.39</td>\n",
              "      <td>1.82</td>\n",
              "      <td>4.32</td>\n",
              "      <td>1.04</td>\n",
              "      <td>2.93</td>\n",
              "      <td>735.0</td>\n",
              "      <td>0</td>\n",
              "    </tr>\n",
              "  </tbody>\n",
              "</table>\n",
              "</div>"
            ],
            "text/plain": [
              "   alcohol  malic_acid   ash  ...  od280/od315_of_diluted_wines  proline  target\n",
              "0    14.23        1.71  2.43  ...                          3.92   1065.0       0\n",
              "1    13.20        1.78  2.14  ...                          3.40   1050.0       0\n",
              "2    13.16        2.36  2.67  ...                          3.17   1185.0       0\n",
              "3    14.37        1.95  2.50  ...                          3.45   1480.0       0\n",
              "4    13.24        2.59  2.87  ...                          2.93    735.0       0\n",
              "\n",
              "[5 rows x 14 columns]"
            ]
          },
          "metadata": {},
          "execution_count": 3
        }
      ]
    },
    {
      "cell_type": "code",
      "metadata": {
        "colab": {
          "base_uri": "https://localhost:8080/"
        },
        "id": "2riLeieN-OIl",
        "outputId": "3f901537-6bf1-40e8-fb5d-3808ec237532"
      },
      "source": [
        "# Save\n",
        "sample_df.to_csv('dataset.csv', index = False)\n",
        "\n",
        "# Look up directory\n",
        "glob.glob(\"./*.csv\")"
      ],
      "execution_count": 4,
      "outputs": [
        {
          "output_type": "execute_result",
          "data": {
            "text/plain": [
              "['./dataset.csv']"
            ]
          },
          "metadata": {},
          "execution_count": 4
        }
      ]
    },
    {
      "cell_type": "markdown",
      "metadata": {
        "id": "8Q5o05Ik4tJ5"
      },
      "source": [
        "## Create Session"
      ]
    },
    {
      "cell_type": "code",
      "metadata": {
        "id": "nd3D9Jfm4dva"
      },
      "source": [
        "from pyspark.sql import SparkSession\n",
        "spark = SparkSession.builder.master('local').appName(\"Karma\").getOrCreate()"
      ],
      "execution_count": 5,
      "outputs": []
    },
    {
      "cell_type": "code",
      "metadata": {
        "colab": {
          "base_uri": "https://localhost:8080/",
          "height": 219
        },
        "id": "zQFnf7rh6Dw5",
        "outputId": "03207dcf-3ee1-4427-a444-c30dc6a59a85"
      },
      "source": [
        "spark"
      ],
      "execution_count": 6,
      "outputs": [
        {
          "output_type": "execute_result",
          "data": {
            "text/html": [
              "\n",
              "            <div>\n",
              "                <p><b>SparkSession - in-memory</b></p>\n",
              "                \n",
              "        <div>\n",
              "            <p><b>SparkContext</b></p>\n",
              "\n",
              "            <p><a href=\"http://4f431d05bd94:4040\">Spark UI</a></p>\n",
              "\n",
              "            <dl>\n",
              "              <dt>Version</dt>\n",
              "                <dd><code>v3.1.2</code></dd>\n",
              "              <dt>Master</dt>\n",
              "                <dd><code>local</code></dd>\n",
              "              <dt>AppName</dt>\n",
              "                <dd><code>Karma</code></dd>\n",
              "            </dl>\n",
              "        </div>\n",
              "        \n",
              "            </div>\n",
              "        "
            ],
            "text/plain": [
              "<pyspark.sql.session.SparkSession at 0x7f109535a710>"
            ]
          },
          "metadata": {},
          "execution_count": 6
        }
      ]
    },
    {
      "cell_type": "markdown",
      "metadata": {
        "id": "vjXG2NcH40zp"
      },
      "source": [
        "Read dataset"
      ]
    },
    {
      "cell_type": "code",
      "metadata": {
        "colab": {
          "base_uri": "https://localhost:8080/"
        },
        "id": "Nz1aJvYI5gbK",
        "outputId": "8cf969fd-4fb5-4385-ce70-e363861ada67"
      },
      "source": [
        "# Read Csv\n",
        "df = spark.read.csv(path = './dataset.csv')\n",
        "df.show()"
      ],
      "execution_count": 7,
      "outputs": [
        {
          "output_type": "stream",
          "name": "stdout",
          "text": [
            "+-------+----------+----+-----------------+---------+-------------+----------+--------------------+---------------+---------------+----+--------------------+-------+------+\n",
            "|    _c0|       _c1| _c2|              _c3|      _c4|          _c5|       _c6|                 _c7|            _c8|            _c9|_c10|                _c11|   _c12|  _c13|\n",
            "+-------+----------+----+-----------------+---------+-------------+----------+--------------------+---------------+---------------+----+--------------------+-------+------+\n",
            "|alcohol|malic_acid| ash|alcalinity_of_ash|magnesium|total_phenols|flavanoids|nonflavanoid_phenols|proanthocyanins|color_intensity| hue|od280/od315_of_di...|proline|target|\n",
            "|  14.23|      1.71|2.43|             15.6|    127.0|          2.8|      3.06|                0.28|           2.29|           5.64|1.04|                3.92| 1065.0|     0|\n",
            "|   13.2|      1.78|2.14|             11.2|    100.0|         2.65|      2.76|                0.26|           1.28|           4.38|1.05|                 3.4| 1050.0|     0|\n",
            "|  13.16|      2.36|2.67|             18.6|    101.0|          2.8|      3.24|                 0.3|           2.81|           5.68|1.03|                3.17| 1185.0|     0|\n",
            "|  14.37|      1.95| 2.5|             16.8|    113.0|         3.85|      3.49|                0.24|           2.18|            7.8|0.86|                3.45| 1480.0|     0|\n",
            "|  13.24|      2.59|2.87|             21.0|    118.0|          2.8|      2.69|                0.39|           1.82|           4.32|1.04|                2.93|  735.0|     0|\n",
            "|   14.2|      1.76|2.45|             15.2|    112.0|         3.27|      3.39|                0.34|           1.97|           6.75|1.05|                2.85| 1450.0|     0|\n",
            "|  14.39|      1.87|2.45|             14.6|     96.0|          2.5|      2.52|                 0.3|           1.98|           5.25|1.02|                3.58| 1290.0|     0|\n",
            "|  14.06|      2.15|2.61|             17.6|    121.0|          2.6|      2.51|                0.31|           1.25|           5.05|1.06|                3.58| 1295.0|     0|\n",
            "|  14.83|      1.64|2.17|             14.0|     97.0|          2.8|      2.98|                0.29|           1.98|            5.2|1.08|                2.85| 1045.0|     0|\n",
            "|  13.86|      1.35|2.27|             16.0|     98.0|         2.98|      3.15|                0.22|           1.85|           7.22|1.01|                3.55| 1045.0|     0|\n",
            "|   14.1|      2.16| 2.3|             18.0|    105.0|         2.95|      3.32|                0.22|           2.38|           5.75|1.25|                3.17| 1510.0|     0|\n",
            "|  14.12|      1.48|2.32|             16.8|     95.0|          2.2|      2.43|                0.26|           1.57|            5.0|1.17|                2.82| 1280.0|     0|\n",
            "|  13.75|      1.73|2.41|             16.0|     89.0|          2.6|      2.76|                0.29|           1.81|            5.6|1.15|                 2.9| 1320.0|     0|\n",
            "|  14.75|      1.73|2.39|             11.4|     91.0|          3.1|      3.69|                0.43|           2.81|            5.4|1.25|                2.73| 1150.0|     0|\n",
            "|  14.38|      1.87|2.38|             12.0|    102.0|          3.3|      3.64|                0.29|           2.96|            7.5| 1.2|                 3.0| 1547.0|     0|\n",
            "|  13.63|      1.81| 2.7|             17.2|    112.0|         2.85|      2.91|                 0.3|           1.46|            7.3|1.28|                2.88| 1310.0|     0|\n",
            "|   14.3|      1.92|2.72|             20.0|    120.0|          2.8|      3.14|                0.33|           1.97|            6.2|1.07|                2.65| 1280.0|     0|\n",
            "|  13.83|      1.57|2.62|             20.0|    115.0|         2.95|       3.4|                 0.4|           1.72|            6.6|1.13|                2.57| 1130.0|     0|\n",
            "|  14.19|      1.59|2.48|             16.5|    108.0|          3.3|      3.93|                0.32|           1.86|            8.7|1.23|                2.82| 1680.0|     0|\n",
            "+-------+----------+----+-----------------+---------+-------------+----------+--------------------+---------------+---------------+----+--------------------+-------+------+\n",
            "only showing top 20 rows\n",
            "\n"
          ]
        }
      ]
    },
    {
      "cell_type": "code",
      "metadata": {
        "colab": {
          "base_uri": "https://localhost:8080/"
        },
        "id": "oX5ieav67m6v",
        "outputId": "d36a1784-13b9-438b-8b85-fb36e0997efd"
      },
      "source": [
        "# Header Option\n",
        "df = spark.read.option('header', 'true').csv(path = './dataset.csv')\n",
        "df.show()"
      ],
      "execution_count": 8,
      "outputs": [
        {
          "output_type": "stream",
          "name": "stdout",
          "text": [
            "+-------+----------+----+-----------------+---------+-------------+----------+--------------------+---------------+---------------+----+----------------------------+-------+------+\n",
            "|alcohol|malic_acid| ash|alcalinity_of_ash|magnesium|total_phenols|flavanoids|nonflavanoid_phenols|proanthocyanins|color_intensity| hue|od280/od315_of_diluted_wines|proline|target|\n",
            "+-------+----------+----+-----------------+---------+-------------+----------+--------------------+---------------+---------------+----+----------------------------+-------+------+\n",
            "|  14.23|      1.71|2.43|             15.6|    127.0|          2.8|      3.06|                0.28|           2.29|           5.64|1.04|                        3.92| 1065.0|     0|\n",
            "|   13.2|      1.78|2.14|             11.2|    100.0|         2.65|      2.76|                0.26|           1.28|           4.38|1.05|                         3.4| 1050.0|     0|\n",
            "|  13.16|      2.36|2.67|             18.6|    101.0|          2.8|      3.24|                 0.3|           2.81|           5.68|1.03|                        3.17| 1185.0|     0|\n",
            "|  14.37|      1.95| 2.5|             16.8|    113.0|         3.85|      3.49|                0.24|           2.18|            7.8|0.86|                        3.45| 1480.0|     0|\n",
            "|  13.24|      2.59|2.87|             21.0|    118.0|          2.8|      2.69|                0.39|           1.82|           4.32|1.04|                        2.93|  735.0|     0|\n",
            "|   14.2|      1.76|2.45|             15.2|    112.0|         3.27|      3.39|                0.34|           1.97|           6.75|1.05|                        2.85| 1450.0|     0|\n",
            "|  14.39|      1.87|2.45|             14.6|     96.0|          2.5|      2.52|                 0.3|           1.98|           5.25|1.02|                        3.58| 1290.0|     0|\n",
            "|  14.06|      2.15|2.61|             17.6|    121.0|          2.6|      2.51|                0.31|           1.25|           5.05|1.06|                        3.58| 1295.0|     0|\n",
            "|  14.83|      1.64|2.17|             14.0|     97.0|          2.8|      2.98|                0.29|           1.98|            5.2|1.08|                        2.85| 1045.0|     0|\n",
            "|  13.86|      1.35|2.27|             16.0|     98.0|         2.98|      3.15|                0.22|           1.85|           7.22|1.01|                        3.55| 1045.0|     0|\n",
            "|   14.1|      2.16| 2.3|             18.0|    105.0|         2.95|      3.32|                0.22|           2.38|           5.75|1.25|                        3.17| 1510.0|     0|\n",
            "|  14.12|      1.48|2.32|             16.8|     95.0|          2.2|      2.43|                0.26|           1.57|            5.0|1.17|                        2.82| 1280.0|     0|\n",
            "|  13.75|      1.73|2.41|             16.0|     89.0|          2.6|      2.76|                0.29|           1.81|            5.6|1.15|                         2.9| 1320.0|     0|\n",
            "|  14.75|      1.73|2.39|             11.4|     91.0|          3.1|      3.69|                0.43|           2.81|            5.4|1.25|                        2.73| 1150.0|     0|\n",
            "|  14.38|      1.87|2.38|             12.0|    102.0|          3.3|      3.64|                0.29|           2.96|            7.5| 1.2|                         3.0| 1547.0|     0|\n",
            "|  13.63|      1.81| 2.7|             17.2|    112.0|         2.85|      2.91|                 0.3|           1.46|            7.3|1.28|                        2.88| 1310.0|     0|\n",
            "|   14.3|      1.92|2.72|             20.0|    120.0|          2.8|      3.14|                0.33|           1.97|            6.2|1.07|                        2.65| 1280.0|     0|\n",
            "|  13.83|      1.57|2.62|             20.0|    115.0|         2.95|       3.4|                 0.4|           1.72|            6.6|1.13|                        2.57| 1130.0|     0|\n",
            "|  14.19|      1.59|2.48|             16.5|    108.0|          3.3|      3.93|                0.32|           1.86|            8.7|1.23|                        2.82| 1680.0|     0|\n",
            "|  13.64|       3.1|2.56|             15.2|    116.0|          2.7|      3.03|                0.17|           1.66|            5.1|0.96|                        3.36|  845.0|     0|\n",
            "+-------+----------+----+-----------------+---------+-------------+----------+--------------------+---------------+---------------+----+----------------------------+-------+------+\n",
            "only showing top 20 rows\n",
            "\n"
          ]
        }
      ]
    },
    {
      "cell_type": "code",
      "metadata": {
        "colab": {
          "base_uri": "https://localhost:8080/"
        },
        "id": "jPxDzQNC8gkv",
        "outputId": "685bd486-5765-491f-90d9-b26871b074ba"
      },
      "source": [
        "# Print Schema\n",
        "# string type ---> double type\n",
        "df.printSchema()"
      ],
      "execution_count": 9,
      "outputs": [
        {
          "output_type": "stream",
          "name": "stdout",
          "text": [
            "root\n",
            " |-- alcohol: string (nullable = true)\n",
            " |-- malic_acid: string (nullable = true)\n",
            " |-- ash: string (nullable = true)\n",
            " |-- alcalinity_of_ash: string (nullable = true)\n",
            " |-- magnesium: string (nullable = true)\n",
            " |-- total_phenols: string (nullable = true)\n",
            " |-- flavanoids: string (nullable = true)\n",
            " |-- nonflavanoid_phenols: string (nullable = true)\n",
            " |-- proanthocyanins: string (nullable = true)\n",
            " |-- color_intensity: string (nullable = true)\n",
            " |-- hue: string (nullable = true)\n",
            " |-- od280/od315_of_diluted_wines: string (nullable = true)\n",
            " |-- proline: string (nullable = true)\n",
            " |-- target: string (nullable = true)\n",
            "\n"
          ]
        }
      ]
    },
    {
      "cell_type": "code",
      "metadata": {
        "colab": {
          "base_uri": "https://localhost:8080/"
        },
        "id": "AAHiBe-w_vDc",
        "outputId": "0af9b1a7-e46d-4115-afb2-6bc516c5b51b"
      },
      "source": [
        "# Infer Schema Option\n",
        "df = spark.read.csv(path = './dataset.csv', header = True, inferSchema = True)\n",
        "df.printSchema()"
      ],
      "execution_count": 10,
      "outputs": [
        {
          "output_type": "stream",
          "name": "stdout",
          "text": [
            "root\n",
            " |-- alcohol: double (nullable = true)\n",
            " |-- malic_acid: double (nullable = true)\n",
            " |-- ash: double (nullable = true)\n",
            " |-- alcalinity_of_ash: double (nullable = true)\n",
            " |-- magnesium: double (nullable = true)\n",
            " |-- total_phenols: double (nullable = true)\n",
            " |-- flavanoids: double (nullable = true)\n",
            " |-- nonflavanoid_phenols: double (nullable = true)\n",
            " |-- proanthocyanins: double (nullable = true)\n",
            " |-- color_intensity: double (nullable = true)\n",
            " |-- hue: double (nullable = true)\n",
            " |-- od280/od315_of_diluted_wines: double (nullable = true)\n",
            " |-- proline: double (nullable = true)\n",
            " |-- target: integer (nullable = true)\n",
            "\n"
          ]
        }
      ]
    },
    {
      "cell_type": "markdown",
      "metadata": {
        "id": "IODwaFrU5N_x"
      },
      "source": [
        "## Slicing"
      ]
    },
    {
      "cell_type": "markdown",
      "metadata": {
        "id": "0Q6NMrgEFFLm"
      },
      "source": [
        "Column"
      ]
    },
    {
      "cell_type": "code",
      "metadata": {
        "colab": {
          "base_uri": "https://localhost:8080/"
        },
        "id": "EkSjftyMEmB4",
        "outputId": "837b2f2c-8294-4393-9198-412a629e8fd1"
      },
      "source": [
        "# Single Column\n",
        "single = df.select(\"alcohol\")\n",
        "single.show(5)"
      ],
      "execution_count": 11,
      "outputs": [
        {
          "output_type": "stream",
          "name": "stdout",
          "text": [
            "+-------+\n",
            "|alcohol|\n",
            "+-------+\n",
            "|  14.23|\n",
            "|   13.2|\n",
            "|  13.16|\n",
            "|  14.37|\n",
            "|  13.24|\n",
            "+-------+\n",
            "only showing top 5 rows\n",
            "\n"
          ]
        }
      ]
    },
    {
      "cell_type": "code",
      "metadata": {
        "colab": {
          "base_uri": "https://localhost:8080/"
        },
        "id": "dZb2w6DXEoj2",
        "outputId": "5debffef-8030-40ff-9cbe-8a1153eafc0f"
      },
      "source": [
        "# Multiple Column\n",
        "multiple = df.select([\"alcohol\", \"malic_acid\"])\n",
        "multiple.show(5)"
      ],
      "execution_count": 12,
      "outputs": [
        {
          "output_type": "stream",
          "name": "stdout",
          "text": [
            "+-------+----------+\n",
            "|alcohol|malic_acid|\n",
            "+-------+----------+\n",
            "|  14.23|      1.71|\n",
            "|   13.2|      1.78|\n",
            "|  13.16|      2.36|\n",
            "|  14.37|      1.95|\n",
            "|  13.24|      2.59|\n",
            "+-------+----------+\n",
            "only showing top 5 rows\n",
            "\n"
          ]
        }
      ]
    },
    {
      "cell_type": "markdown",
      "metadata": {
        "id": "zIay2zH4GojV"
      },
      "source": [
        "## describe"
      ]
    },
    {
      "cell_type": "code",
      "metadata": {
        "colab": {
          "base_uri": "https://localhost:8080/"
        },
        "id": "Fwx9nojHE1su",
        "outputId": "ee578b34-c147-4f50-eeba-9f9b9cbbf0c2"
      },
      "source": [
        "df.describe().show()"
      ],
      "execution_count": 13,
      "outputs": [
        {
          "output_type": "stream",
          "name": "stdout",
          "text": [
            "+-------+------------------+------------------+------------------+-----------------+------------------+------------------+------------------+--------------------+------------------+-----------------+-------------------+----------------------------+-----------------+------------------+\n",
            "|summary|           alcohol|        malic_acid|               ash|alcalinity_of_ash|         magnesium|     total_phenols|        flavanoids|nonflavanoid_phenols|   proanthocyanins|  color_intensity|                hue|od280/od315_of_diluted_wines|          proline|            target|\n",
            "+-------+------------------+------------------+------------------+-----------------+------------------+------------------+------------------+--------------------+------------------+-----------------+-------------------+----------------------------+-----------------+------------------+\n",
            "|  count|               178|               178|               178|              178|               178|               178|               178|                 178|               178|              178|                178|                         178|              178|               178|\n",
            "|   mean|13.000617977528083| 2.336348314606741|2.3665168539325854|19.49494382022472| 99.74157303370787| 2.295112359550562|2.0292696629213474| 0.36185393258426973|1.5908988764044953|5.058089882022473| 0.9574494382022468|          2.6116853932584254|746.8932584269663|0.9382022471910112|\n",
            "| stddev| 0.811826538005858|1.1171460976144625|0.2743440090608148|3.339563767173504|14.282483515295652|0.6258510488339892|0.9988586850169471| 0.12445334029667941|0.5723588626747612|2.318285871822413|0.22857156582982324|          0.7099904287650503|314.9074742768492|0.7750349899850563|\n",
            "|    min|             11.03|              0.74|              1.36|             10.6|              70.0|              0.98|              0.34|                0.13|              0.41|             1.28|               0.48|                        1.27|            278.0|                 0|\n",
            "|    max|             14.83|               5.8|              3.23|             30.0|             162.0|              3.88|              5.08|                0.66|              3.58|             13.0|               1.71|                         4.0|           1680.0|                 2|\n",
            "+-------+------------------+------------------+------------------+-----------------+------------------+------------------+------------------+--------------------+------------------+-----------------+-------------------+----------------------------+-----------------+------------------+\n",
            "\n"
          ]
        }
      ]
    },
    {
      "cell_type": "markdown",
      "metadata": {
        "id": "ErcImi2qHmPN"
      },
      "source": [
        "## Add Column"
      ]
    },
    {
      "cell_type": "code",
      "metadata": {
        "id": "UvuTCClvGq61"
      },
      "source": [
        "# Add new column\n",
        "df = df.withColumn('double_alcohol', df['alcohol']*2)"
      ],
      "execution_count": 14,
      "outputs": []
    },
    {
      "cell_type": "code",
      "metadata": {
        "colab": {
          "base_uri": "https://localhost:8080/"
        },
        "id": "v-W3rUIYIdv8",
        "outputId": "e79d40d7-25d7-4cff-8937-ee261daa1b40"
      },
      "source": [
        "df.printSchema()"
      ],
      "execution_count": 15,
      "outputs": [
        {
          "output_type": "stream",
          "name": "stdout",
          "text": [
            "root\n",
            " |-- alcohol: double (nullable = true)\n",
            " |-- malic_acid: double (nullable = true)\n",
            " |-- ash: double (nullable = true)\n",
            " |-- alcalinity_of_ash: double (nullable = true)\n",
            " |-- magnesium: double (nullable = true)\n",
            " |-- total_phenols: double (nullable = true)\n",
            " |-- flavanoids: double (nullable = true)\n",
            " |-- nonflavanoid_phenols: double (nullable = true)\n",
            " |-- proanthocyanins: double (nullable = true)\n",
            " |-- color_intensity: double (nullable = true)\n",
            " |-- hue: double (nullable = true)\n",
            " |-- od280/od315_of_diluted_wines: double (nullable = true)\n",
            " |-- proline: double (nullable = true)\n",
            " |-- target: integer (nullable = true)\n",
            " |-- double_alcohol: double (nullable = true)\n",
            "\n"
          ]
        }
      ]
    },
    {
      "cell_type": "markdown",
      "metadata": {
        "id": "YmGjW4u1J-qC"
      },
      "source": [
        "## Drop Column"
      ]
    },
    {
      "cell_type": "code",
      "metadata": {
        "id": "xWqUS8f8Irsc"
      },
      "source": [
        "df = df.drop('double_alcohol')"
      ],
      "execution_count": 16,
      "outputs": []
    },
    {
      "cell_type": "code",
      "metadata": {
        "colab": {
          "base_uri": "https://localhost:8080/"
        },
        "id": "m_mdEvgoIn8g",
        "outputId": "442356b5-824c-49b6-ccba-39b2522dd0d0"
      },
      "source": [
        "df.printSchema()"
      ],
      "execution_count": 17,
      "outputs": [
        {
          "output_type": "stream",
          "name": "stdout",
          "text": [
            "root\n",
            " |-- alcohol: double (nullable = true)\n",
            " |-- malic_acid: double (nullable = true)\n",
            " |-- ash: double (nullable = true)\n",
            " |-- alcalinity_of_ash: double (nullable = true)\n",
            " |-- magnesium: double (nullable = true)\n",
            " |-- total_phenols: double (nullable = true)\n",
            " |-- flavanoids: double (nullable = true)\n",
            " |-- nonflavanoid_phenols: double (nullable = true)\n",
            " |-- proanthocyanins: double (nullable = true)\n",
            " |-- color_intensity: double (nullable = true)\n",
            " |-- hue: double (nullable = true)\n",
            " |-- od280/od315_of_diluted_wines: double (nullable = true)\n",
            " |-- proline: double (nullable = true)\n",
            " |-- target: integer (nullable = true)\n",
            "\n"
          ]
        }
      ]
    },
    {
      "cell_type": "markdown",
      "metadata": {
        "id": "p3o1aPwtKkcS"
      },
      "source": [
        "Rename Column"
      ]
    },
    {
      "cell_type": "code",
      "metadata": {
        "id": "wtuDsP31KKUM"
      },
      "source": [
        "df = df.withColumnRenamed('alcohol', '알코올')"
      ],
      "execution_count": 18,
      "outputs": []
    },
    {
      "cell_type": "code",
      "metadata": {
        "colab": {
          "base_uri": "https://localhost:8080/"
        },
        "id": "xRUm3MJbKquX",
        "outputId": "49cea159-5c70-4874-c15a-97726eff8754"
      },
      "source": [
        "df.printSchema()"
      ],
      "execution_count": 19,
      "outputs": [
        {
          "output_type": "stream",
          "name": "stdout",
          "text": [
            "root\n",
            " |-- 알코올: double (nullable = true)\n",
            " |-- malic_acid: double (nullable = true)\n",
            " |-- ash: double (nullable = true)\n",
            " |-- alcalinity_of_ash: double (nullable = true)\n",
            " |-- magnesium: double (nullable = true)\n",
            " |-- total_phenols: double (nullable = true)\n",
            " |-- flavanoids: double (nullable = true)\n",
            " |-- nonflavanoid_phenols: double (nullable = true)\n",
            " |-- proanthocyanins: double (nullable = true)\n",
            " |-- color_intensity: double (nullable = true)\n",
            " |-- hue: double (nullable = true)\n",
            " |-- od280/od315_of_diluted_wines: double (nullable = true)\n",
            " |-- proline: double (nullable = true)\n",
            " |-- target: integer (nullable = true)\n",
            "\n"
          ]
        }
      ]
    },
    {
      "cell_type": "markdown",
      "metadata": {
        "id": "zjqt480eLbab"
      },
      "source": [
        "## Handling NA"
      ]
    },
    {
      "cell_type": "code",
      "metadata": {
        "id": "g9eQFTfrKsXb"
      },
      "source": [
        "df = df.na.drop(how = 'all')"
      ],
      "execution_count": 20,
      "outputs": []
    },
    {
      "cell_type": "code",
      "metadata": {
        "id": "nDyjY0EzLgpT"
      },
      "source": [
        "df = df.na.drop(how = 'any')"
      ],
      "execution_count": 21,
      "outputs": []
    },
    {
      "cell_type": "code",
      "metadata": {
        "id": "GYm8zaorLqrZ"
      },
      "source": [
        "df = df.na.fill(\"^\")"
      ],
      "execution_count": 22,
      "outputs": []
    },
    {
      "cell_type": "code",
      "metadata": {
        "id": "j7Zqd7D5MMFi"
      },
      "source": [
        "from pyspark.ml.feature import Imputer\n",
        "imputer = Imputer(\n",
        "    inputCols = ['알코올'],\n",
        "    outputCols = ['inputed_alcohol']\n",
        ").setStrategy('mean')"
      ],
      "execution_count": 23,
      "outputs": []
    },
    {
      "cell_type": "code",
      "metadata": {
        "id": "AjRShjn9NYZT"
      },
      "source": [
        "df = imputer.fit(df).transform(df)"
      ],
      "execution_count": 24,
      "outputs": []
    },
    {
      "cell_type": "markdown",
      "metadata": {
        "id": "GSCL1zgjPP6W"
      },
      "source": [
        "## Filter"
      ]
    },
    {
      "cell_type": "code",
      "metadata": {
        "colab": {
          "base_uri": "https://localhost:8080/"
        },
        "id": "S0PfHxdFNlLb",
        "outputId": "0cacb753-b698-4c5e-c3f0-e6726a43c16e"
      },
      "source": [
        "df.filter(\"target == 1\").select(\"알코올\").show(5)"
      ],
      "execution_count": 25,
      "outputs": [
        {
          "output_type": "stream",
          "name": "stdout",
          "text": [
            "+------+\n",
            "|알코올|\n",
            "+------+\n",
            "| 12.37|\n",
            "| 12.33|\n",
            "| 12.64|\n",
            "| 13.67|\n",
            "| 12.37|\n",
            "+------+\n",
            "only showing top 5 rows\n",
            "\n"
          ]
        }
      ]
    },
    {
      "cell_type": "code",
      "metadata": {
        "colab": {
          "base_uri": "https://localhost:8080/"
        },
        "id": "v8Kki-v5PVpj",
        "outputId": "901d37a2-9621-488d-eea4-423f8db2857c"
      },
      "source": [
        "df.filter(df['target'] == 2).show(5)"
      ],
      "execution_count": 26,
      "outputs": [
        {
          "output_type": "stream",
          "name": "stdout",
          "text": [
            "+------+----------+----+-----------------+---------+-------------+----------+--------------------+---------------+---------------+----+----------------------------+-------+------+---------------+\n",
            "|알코올|malic_acid| ash|alcalinity_of_ash|magnesium|total_phenols|flavanoids|nonflavanoid_phenols|proanthocyanins|color_intensity| hue|od280/od315_of_diluted_wines|proline|target|inputed_alcohol|\n",
            "+------+----------+----+-----------------+---------+-------------+----------+--------------------+---------------+---------------+----+----------------------------+-------+------+---------------+\n",
            "| 12.86|      1.35|2.32|             18.0|    122.0|         1.51|      1.25|                0.21|           0.94|            4.1|0.76|                        1.29|  630.0|     2|          12.86|\n",
            "| 12.88|      2.99| 2.4|             20.0|    104.0|          1.3|      1.22|                0.24|           0.83|            5.4|0.74|                        1.42|  530.0|     2|          12.88|\n",
            "| 12.81|      2.31| 2.4|             24.0|     98.0|         1.15|      1.09|                0.27|           0.83|            5.7|0.66|                        1.36|  560.0|     2|          12.81|\n",
            "|  12.7|      3.55|2.36|             21.5|    106.0|          1.7|       1.2|                0.17|           0.84|            5.0|0.78|                        1.29|  600.0|     2|           12.7|\n",
            "| 12.51|      1.24|2.25|             17.5|     85.0|          2.0|      0.58|                 0.6|           1.25|           5.45|0.75|                        1.51|  650.0|     2|          12.51|\n",
            "+------+----------+----+-----------------+---------+-------------+----------+--------------------+---------------+---------------+----+----------------------------+-------+------+---------------+\n",
            "only showing top 5 rows\n",
            "\n"
          ]
        }
      ]
    },
    {
      "cell_type": "code",
      "metadata": {
        "colab": {
          "base_uri": "https://localhost:8080/"
        },
        "id": "xeewpn5SPbMl",
        "outputId": "a01acc3b-8820-43e0-91ee-c9e90ac24fbb"
      },
      "source": [
        "df.filter((df['알코올'] >12) & (df['malic_acid']<2)).show(5)"
      ],
      "execution_count": 27,
      "outputs": [
        {
          "output_type": "stream",
          "name": "stdout",
          "text": [
            "+------+----------+----+-----------------+---------+-------------+----------+--------------------+---------------+---------------+----+----------------------------+-------+------+---------------+\n",
            "|알코올|malic_acid| ash|alcalinity_of_ash|magnesium|total_phenols|flavanoids|nonflavanoid_phenols|proanthocyanins|color_intensity| hue|od280/od315_of_diluted_wines|proline|target|inputed_alcohol|\n",
            "+------+----------+----+-----------------+---------+-------------+----------+--------------------+---------------+---------------+----+----------------------------+-------+------+---------------+\n",
            "| 14.23|      1.71|2.43|             15.6|    127.0|          2.8|      3.06|                0.28|           2.29|           5.64|1.04|                        3.92| 1065.0|     0|          14.23|\n",
            "|  13.2|      1.78|2.14|             11.2|    100.0|         2.65|      2.76|                0.26|           1.28|           4.38|1.05|                         3.4| 1050.0|     0|           13.2|\n",
            "| 14.37|      1.95| 2.5|             16.8|    113.0|         3.85|      3.49|                0.24|           2.18|            7.8|0.86|                        3.45| 1480.0|     0|          14.37|\n",
            "|  14.2|      1.76|2.45|             15.2|    112.0|         3.27|      3.39|                0.34|           1.97|           6.75|1.05|                        2.85| 1450.0|     0|           14.2|\n",
            "| 14.39|      1.87|2.45|             14.6|     96.0|          2.5|      2.52|                 0.3|           1.98|           5.25|1.02|                        3.58| 1290.0|     0|          14.39|\n",
            "+------+----------+----+-----------------+---------+-------------+----------+--------------------+---------------+---------------+----+----------------------------+-------+------+---------------+\n",
            "only showing top 5 rows\n",
            "\n"
          ]
        }
      ]
    },
    {
      "cell_type": "markdown",
      "metadata": {
        "id": "NSdCnK1JSixa"
      },
      "source": [
        "## Groupby"
      ]
    },
    {
      "cell_type": "code",
      "metadata": {
        "colab": {
          "base_uri": "https://localhost:8080/"
        },
        "id": "I2wvcKiVR34t",
        "outputId": "f3a02d69-9efd-4f92-d8e2-93a5a719f53c"
      },
      "source": [
        "df.groupBy('target').mean().show()"
      ],
      "execution_count": 28,
      "outputs": [
        {
          "output_type": "stream",
          "name": "stdout",
          "text": [
            "+------+------------------+------------------+------------------+----------------------+------------------+------------------+------------------+-------------------------+--------------------+--------------------+------------------+---------------------------------+------------------+-----------+--------------------+\n",
            "|target|       avg(알코올)|   avg(malic_acid)|          avg(ash)|avg(alcalinity_of_ash)|    avg(magnesium)|avg(total_phenols)|   avg(flavanoids)|avg(nonflavanoid_phenols)|avg(proanthocyanins)|avg(color_intensity)|          avg(hue)|avg(od280/od315_of_diluted_wines)|      avg(proline)|avg(target)|avg(inputed_alcohol)|\n",
            "+------+------------------+------------------+------------------+----------------------+------------------+------------------+------------------+-------------------------+--------------------+--------------------+------------------+---------------------------------+------------------+-----------+--------------------+\n",
            "|     1|12.278732394366198| 1.932676056338028| 2.244788732394365|    20.238028169014086| 94.54929577464789|2.2588732394366198| 2.080845070422536|        0.363661971830986|  1.6302816901408452|    3.08661971830986|1.0562816901408452|                2.785352112676055| 519.5070422535211|        1.0|  12.278732394366198|\n",
            "|     2|13.153749999999997|3.3337500000000007|2.4370833333333333|    21.416666666666668|           99.3125|1.6787500000000002|0.7814583333333331|      0.44749999999999995|  1.1535416666666667|   7.396249979166668|0.6827083333333334|               1.6835416666666658| 629.8958333333334|        2.0|  13.153749999999997|\n",
            "|     0|13.744745762711865|2.0106779661016954| 2.455593220338984|    17.037288135593222|106.33898305084746|2.8401694915254234| 2.982372881355932|                     0.29|  1.8993220338983055|   5.528305084745763|1.0620338983050848|               3.1577966101694916|1115.7118644067796|        0.0|  13.744745762711865|\n",
            "+------+------------------+------------------+------------------+----------------------+------------------+------------------+------------------+-------------------------+--------------------+--------------------+------------------+---------------------------------+------------------+-----------+--------------------+\n",
            "\n"
          ]
        }
      ]
    },
    {
      "cell_type": "code",
      "metadata": {
        "id": "9gTP-7s_SoHj"
      },
      "source": [
        ""
      ],
      "execution_count": 28,
      "outputs": []
    }
  ]
}
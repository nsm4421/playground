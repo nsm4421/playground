{
 "cells": [
  {
   "cell_type": "markdown",
   "metadata": {},
   "source": [
    "# RPA"
   ]
  },
  {
   "cell_type": "markdown",
   "metadata": {},
   "source": [
    "## Settings"
   ]
  },
  {
   "cell_type": "markdown",
   "metadata": {},
   "source": [
    "#### Environment Variables"
   ]
  },
  {
   "cell_type": "code",
   "execution_count": 12,
   "metadata": {},
   "outputs": [],
   "source": [
    "# To avoid alert pop up, need to set security module path\n",
    "SECURE_MODULE_PATH = \"./security_module/FilePathCheckerModuleExample.dll\"       \n",
    "REGISTERY_KEY_NAME = \"AutomationModule\"     \n",
    "\n",
    "# Directory\n",
    "INPUT_DIR = \"./input\"   \n",
    "TEMP_DIR = \"./output/temp\"  \n",
    "OUPUT_DIR = \"./output\"\n",
    "\n",
    "LIST_FILE_PATH = \"./input/Mapping.txt\"                                          "
   ]
  },
  {
   "cell_type": "markdown",
   "metadata": {},
   "source": [
    "#### Load Libraries"
   ]
  },
  {
   "cell_type": "code",
   "execution_count": 13,
   "metadata": {},
   "outputs": [],
   "source": [
    "import pandas as pd\n",
    "from tqdm import tqdm\n",
    "import os\n",
    "from rpa import RPA     # custom module"
   ]
  },
  {
   "cell_type": "markdown",
   "metadata": {},
   "source": [
    "#### RPA Module\n",
    "\n",
    "- craete rpa instance\n",
    "- remove cache"
   ]
  },
  {
   "cell_type": "code",
   "execution_count": 14,
   "metadata": {},
   "outputs": [],
   "source": [
    "rpa = RPA()\n",
    "rpa.remove_cache(\"C:\\\\Users\\\\N\\\\AppData\\\\Local\\\\Temp\\\\gen_py\")"
   ]
  },
  {
   "cell_type": "markdown",
   "metadata": {},
   "source": [
    "#### Create Folders"
   ]
  },
  {
   "cell_type": "code",
   "execution_count": 15,
   "metadata": {},
   "outputs": [],
   "source": [
    "for dir in [TEMP_DIR, OUPUT_DIR]:\n",
    "    os.makedirs(dir, exist_ok=True)"
   ]
  },
  {
   "cell_type": "markdown",
   "metadata": {},
   "source": [
    "### Read Mapping List"
   ]
  },
  {
   "cell_type": "markdown",
   "metadata": {},
   "source": [
    "#### Mapping List"
   ]
  },
  {
   "cell_type": "code",
   "execution_count": 16,
   "metadata": {},
   "outputs": [
    {
     "name": "stdout",
     "output_type": "stream",
     "text": [
      "14 rows are loaded\n"
     ]
    },
    {
     "data": {
      "text/html": [
       "<div>\n",
       "<style scoped>\n",
       "    .dataframe tbody tr th:only-of-type {\n",
       "        vertical-align: middle;\n",
       "    }\n",
       "\n",
       "    .dataframe tbody tr th {\n",
       "        vertical-align: top;\n",
       "    }\n",
       "\n",
       "    .dataframe thead th {\n",
       "        text-align: right;\n",
       "    }\n",
       "</style>\n",
       "<table border=\"1\" class=\"dataframe\">\n",
       "  <thead>\n",
       "    <tr style=\"text-align: right;\">\n",
       "      <th></th>\n",
       "      <th>주계약상품명</th>\n",
       "      <th>주계약파일명</th>\n",
       "      <th>독립특약상품명</th>\n",
       "      <th>독립특약파일명</th>\n",
       "    </tr>\n",
       "  </thead>\n",
       "  <tbody>\n",
       "    <tr>\n",
       "      <th>0</th>\n",
       "      <td>무배당 알파Plus보장보험</td>\n",
       "      <td>001_6ACIO,6ACIP_무배당 알파Plus보장보험2401_사업방법서 별지_v1...</td>\n",
       "      <td>무배당 갱신형 암 검사및치료추가보장 특별약관</td>\n",
       "      <td>001_6ACNB,6ACNC_무배당 갱신형 암 검사및치료추가보장 특별약관2401_사...</td>\n",
       "    </tr>\n",
       "    <tr>\n",
       "      <th>1</th>\n",
       "      <td>무배당 알파Plus보장보험</td>\n",
       "      <td>001_6ACIO,6ACIP_무배당 알파Plus보장보험2401_사업방법서 별지_v1...</td>\n",
       "      <td>무배당 3대질병진단비보장(A) 특별약관</td>\n",
       "      <td>001_6ACND,6ACNE_무배당 3대질병진단비보장(A) 특별약관2401_사업방법...</td>\n",
       "    </tr>\n",
       "    <tr>\n",
       "      <th>2</th>\n",
       "      <td>무배당 알파Plus보장보험</td>\n",
       "      <td>001_6ACIO,6ACIP_무배당 알파Plus보장보험2401_사업방법서 별지_v1...</td>\n",
       "      <td>무배당 수술비(1_7종, 연간3회한)(질병)보장 특별약관</td>\n",
       "      <td>001_6ACOH-L_무배당 수술비(1~7종, 연간3회한)(질병)보장 특별약관240...</td>\n",
       "    </tr>\n",
       "    <tr>\n",
       "      <th>3</th>\n",
       "      <td>무배당 알파Plus보장보험</td>\n",
       "      <td>001_6ACIO,6ACIP_무배당 알파Plus보장보험2401_사업방법서 별지_v1...</td>\n",
       "      <td>무배당 2대질환수술비보장 특별약관</td>\n",
       "      <td>001_6ACOS-OW_무배당 2대질환수술비보장 특별약관2401_사업방법서 별지_v...</td>\n",
       "    </tr>\n",
       "    <tr>\n",
       "      <th>4</th>\n",
       "      <td>무배당 알파Plus보장보험</td>\n",
       "      <td>001_6ACIO,6ACIP_무배당 알파Plus보장보험2401_사업방법서 별지_v1...</td>\n",
       "      <td>무배당 갱신형 간병인지원 일반상해입원일당(Ⅱ)(1일이상 180일한도)보장 특별약관</td>\n",
       "      <td>001_6ACLX-Z_무배당 갱신형 간병인지원 일반상해입원일당(Ⅱ)(1일이상 180...</td>\n",
       "    </tr>\n",
       "  </tbody>\n",
       "</table>\n",
       "</div>"
      ],
      "text/plain": [
       "           주계약상품명                                             주계약파일명  \\\n",
       "0  무배당 알파Plus보장보험  001_6ACIO,6ACIP_무배당 알파Plus보장보험2401_사업방법서 별지_v1...   \n",
       "1  무배당 알파Plus보장보험  001_6ACIO,6ACIP_무배당 알파Plus보장보험2401_사업방법서 별지_v1...   \n",
       "2  무배당 알파Plus보장보험  001_6ACIO,6ACIP_무배당 알파Plus보장보험2401_사업방법서 별지_v1...   \n",
       "3  무배당 알파Plus보장보험  001_6ACIO,6ACIP_무배당 알파Plus보장보험2401_사업방법서 별지_v1...   \n",
       "4  무배당 알파Plus보장보험  001_6ACIO,6ACIP_무배당 알파Plus보장보험2401_사업방법서 별지_v1...   \n",
       "\n",
       "                                         독립특약상품명  \\\n",
       "0                       무배당 갱신형 암 검사및치료추가보장 특별약관   \n",
       "1                          무배당 3대질병진단비보장(A) 특별약관   \n",
       "2                무배당 수술비(1_7종, 연간3회한)(질병)보장 특별약관   \n",
       "3                             무배당 2대질환수술비보장 특별약관   \n",
       "4  무배당 갱신형 간병인지원 일반상해입원일당(Ⅱ)(1일이상 180일한도)보장 특별약관   \n",
       "\n",
       "                                             독립특약파일명  \n",
       "0  001_6ACNB,6ACNC_무배당 갱신형 암 검사및치료추가보장 특별약관2401_사...  \n",
       "1  001_6ACND,6ACNE_무배당 3대질병진단비보장(A) 특별약관2401_사업방법...  \n",
       "2  001_6ACOH-L_무배당 수술비(1~7종, 연간3회한)(질병)보장 특별약관240...  \n",
       "3  001_6ACOS-OW_무배당 2대질환수술비보장 특별약관2401_사업방법서 별지_v...  \n",
       "4  001_6ACLX-Z_무배당 갱신형 간병인지원 일반상해입원일당(Ⅱ)(1일이상 180...  "
      ]
     },
     "execution_count": 16,
     "metadata": {},
     "output_type": "execute_result"
    }
   ],
   "source": [
    "df = pd.read_csv(LIST_FILE_PATH, sep='\\t')\n",
    "print(f\"{df.shape[0]} rows are loaded\")\n",
    "df.head()"
   ]
  },
  {
   "cell_type": "code",
   "execution_count": 17,
   "metadata": {},
   "outputs": [],
   "source": [
    "fn_dict = {}\n",
    "for row in df[['주계약상품명', '주계약파일명']].values:\n",
    "    fn_dict[row[0]] = row[1]\n",
    "for row in df[['독립특약상품명', '독립특약파일명']].values:\n",
    "    fn_dict[row[0]] = row[1]"
   ]
  },
  {
   "cell_type": "code",
   "execution_count": 18,
   "metadata": {},
   "outputs": [],
   "source": [
    "prod_mapping = {}\n",
    "df = df[['주계약상품명', '독립특약상품명']]\n",
    "for row in df.values:\n",
    "    main_prod, ind_prod = row\n",
    "    if not main_prod in prod_mapping.keys():\n",
    "        prod_mapping[main_prod] = [main_prod]\n",
    "    if ind_prod != '-':\n",
    "        prod_mapping[main_prod].append(ind_prod)"
   ]
  },
  {
   "cell_type": "code",
   "execution_count": 19,
   "metadata": {},
   "outputs": [
    {
     "name": "stdout",
     "output_type": "stream",
     "text": [
      "{'무배당 알파Plus보장보험': '001_6ACIO,6ACIP_무배당 알파Plus보장보험2401_사업방법서 별지_v1.0.hwp', '무배당 갱신형 암 검사및치료추가보장 특별약관': '001_6ACNB,6ACNC_무배당 갱신형 암 검사및치료추가보장 특별약관2401_사업방법서 별지_v1.0.hwp', '무배당 3대질병진단비보장(A) 특별약관': '001_6ACND,6ACNE_무배당 3대질병진단비보장(A) 특별약관2401_사업방법서 별지_v1.0.hwp', '무배당 수술비(1_7종, 연간3회한)(질병)보장 특별약관': '001_6ACOH-L_무배당 수술비(1~7종, 연간3회한)(질병)보장 특별약관2401_사업방법서 별지_v1.0.hwp', '무배당 2대질환수술비보장 특별약관': '001_6ACOS-OW_무배당 2대질환수술비보장 특별약관2401_사업방법서 별지_v1.0.hwp', '무배당 갱신형 간병인지원 일반상해입원일당(Ⅱ)(1일이상 180일한도)보장 특별약관': '001_6ACLX-Z_무배당 갱신형 간병인지원 일반상해입원일당(Ⅱ)(1일이상 180일한도)보장 특별약관2401_사업방법서별지_v1.0.hwp', '무배당 갱신형 간병인지원 질병입원일당(Ⅱ)(1일이상 180일한도)보장 특별약관': '001_6ACMA-C_무배당 갱신형 간병인지원 질병입원일당(Ⅱ)(1일이상 180일한도)보장 특별약관2401_사업방법서별지_v1.0.hwp', '무배당 가전제품 고장수리비용보장 특별약관': '001_6ACMF,G_무배당 가전제품 고장수리비용보장 특별약관2401_사업방법서별지_v1.0.hwp', '무배당 갱신형 산정특례 진단비보장 특별약관': '001_6ACQG,6ACQH,6ACQI_무배당 갱신형 산정특례 진단비보장 특별약관2401_사업방법서 별지_v1.0.hwp', '무배당 갱신형 6대심장질환진단비보장 특별약관': '001_6ACQZ_무배당 갱신형 6대심장질환진단비보장 특별약관2401_사업방법서별지_v1.0.hwp', '무배당 운전자 비용 및 상해보장 특별약관': '001_6ACRF_무배당 운전자 비용 및 상해보장 특별약관2401_사업방법서 별지_v1.0.hwp', '무배당 갱신형 신간병인지원 일반상해입원일당(Ⅳ)보장 특별약관': '001_6ACRH-J_무배당 갱신형 신간병인지원 일반상해입원일당(Ⅳ)보장 특별약관2401_사업방법서별지_v1.0.hwp', '무배당 갱신형 신간병인지원 질병입원일당(Ⅳ)보장 특별약관': '001_6ACRK-M_무배당 갱신형 신간병인지원 질병입원일당(Ⅳ)보장 특별약관2401_사업방법서별지_v1.0.hwp', '무배당 질병수술비보장(A) 특별약관': '001_6ACNT,U_무배당 질병수술비보장(A) 특별약관2401_사업방법서 별지_v1.0.hwp', '무배당 갱신형 뇌질환진단비보장 특별약관': '001_6ACSA,6ACSB_무배당 갱신형 뇌질환진단비보장 특별약관2401_사업방법서별지_v1.4_기타. 가. 삭제.hwp'}\n",
      "\n",
      "\n",
      "{'무배당 알파Plus보장보험': ['무배당 알파Plus보장보험', '무배당 갱신형 암 검사및치료추가보장 특별약관', '무배당 3대질병진단비보장(A) 특별약관', '무배당 수술비(1_7종, 연간3회한)(질병)보장 특별약관', '무배당 2대질환수술비보장 특별약관', '무배당 갱신형 간병인지원 일반상해입원일당(Ⅱ)(1일이상 180일한도)보장 특별약관', '무배당 갱신형 간병인지원 질병입원일당(Ⅱ)(1일이상 180일한도)보장 특별약관', '무배당 가전제품 고장수리비용보장 특별약관', '무배당 갱신형 산정특례 진단비보장 특별약관', '무배당 갱신형 6대심장질환진단비보장 특별약관', '무배당 운전자 비용 및 상해보장 특별약관', '무배당 갱신형 신간병인지원 일반상해입원일당(Ⅳ)보장 특별약관', '무배당 갱신형 신간병인지원 질병입원일당(Ⅳ)보장 특별약관', '무배당 질병수술비보장(A) 특별약관', '무배당 갱신형 뇌질환진단비보장 특별약관']}\n"
     ]
    }
   ],
   "source": [
    "print(fn_dict)\n",
    "print(\"\\n\")\n",
    "print(prod_mapping)"
   ]
  },
  {
   "cell_type": "markdown",
   "metadata": {},
   "source": [
    "## RPA Job"
   ]
  },
  {
   "cell_type": "markdown",
   "metadata": {},
   "source": [
    "#### Check Whether Document Exists Or Not "
   ]
  },
  {
   "cell_type": "code",
   "execution_count": 20,
   "metadata": {},
   "outputs": [],
   "source": [
    "for (prod_name, file_name) in fn_dict.items():\n",
    "    if not os.path.exists(f\"{INPUT_DIR}/{file_name}\"):\n",
    "        raise FileNotFoundError(f\"[ERROR] No document for [{prod_name}]\")"
   ]
  },
  {
   "cell_type": "markdown",
   "metadata": {},
   "source": [
    "#### Convert hwp doc to pdf"
   ]
  },
  {
   "cell_type": "code",
   "execution_count": 21,
   "metadata": {},
   "outputs": [
    {
     "name": "stderr",
     "output_type": "stream",
     "text": [
      "100%|██████████| 15/15 [01:15<00:00,  5.03s/it]\n"
     ]
    }
   ],
   "source": [
    "for prod_name in tqdm(fn_dict):\n",
    "\n",
    "    # path to save pdf\n",
    "    file_name = fn_dict[prod_name]\n",
    "    file_path = f\"{INPUT_DIR}/{file_name}\"\n",
    "    save_path = f\"{TEMP_DIR}/{file_name}\".replace('hwp', 'pdf')\n",
    "\n",
    "    # open hwp document\n",
    "    hwp_doc = rpa.open_hwp_doc(file_path, is_visible=True)\n",
    "\n",
    "    # change its color to black\n",
    "    rpa.change_text_color(hwp_doc)\n",
    "\n",
    "    # convet from hwp to pdf and save it\n",
    "    rpa.convert_hwp_to_pdf(hwp_doc, save_path)\n",
    "\n",
    "    # close hwp document without save\n",
    "    rpa.close_hwp_doc(hwp_doc)"
   ]
  },
  {
   "cell_type": "markdown",
   "metadata": {},
   "source": [
    "#### Merge Pdf"
   ]
  },
  {
   "cell_type": "code",
   "execution_count": 23,
   "metadata": {},
   "outputs": [
    {
     "name": "stderr",
     "output_type": "stream",
     "text": [
      "100%|██████████| 1/1 [00:00<00:00,  1.11it/s]\n"
     ]
    }
   ],
   "source": [
    "for main_prod in tqdm(prod_mapping):\n",
    "    pdf_files = [f'{TEMP_DIR}/{fn_dict[prod_name]}'.replace('hwp', 'pdf')  for prod_name in prod_mapping[main_prod]]\n",
    "    pdf_files = [os.path.abspath(pf) for pf in pdf_files]\n",
    "    rpa.merge_pdf(save_file_path=f'{OUPUT_DIR}/{main_prod}.pdf', pdf_files=pdf_files)"
   ]
  },
  {
   "cell_type": "markdown",
   "metadata": {},
   "source": [
    "$ The \\quad End $"
   ]
  }
 ],
 "metadata": {
  "kernelspec": {
   "display_name": ".venv",
   "language": "python",
   "name": "python3"
  },
  "language_info": {
   "codemirror_mode": {
    "name": "ipython",
    "version": 3
   },
   "file_extension": ".py",
   "mimetype": "text/x-python",
   "name": "python",
   "nbconvert_exporter": "python",
   "pygments_lexer": "ipython3",
   "version": "3.11.0"
  }
 },
 "nbformat": 4,
 "nbformat_minor": 2
}

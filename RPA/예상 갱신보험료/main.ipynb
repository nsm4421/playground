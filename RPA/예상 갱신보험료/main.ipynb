{
 "cells": [
  {
   "cell_type": "markdown",
   "metadata": {},
   "source": [
    "# 예상 갱신보험료 자동화"
   ]
  },
  {
   "cell_type": "markdown",
   "metadata": {},
   "source": [
    "#### 모듈 불러오기\n",
    "\n",
    "- RenewalPremium : RPA용으로 만든 모듈\n",
    "- pandas : 예상갱신 보험료를 데이터 프레임 형태로 다루기 위한 라이브러리\n",
    "- tqdm : 반복문을 돌릴 때 진척사항을 보기 위한 라이브러리"
   ]
  },
  {
   "cell_type": "code",
   "execution_count": 1,
   "metadata": {},
   "outputs": [
    {
     "name": "stderr",
     "output_type": "stream",
     "text": [
      "C:\\Users\\N\\AppData\\Local\\Temp\\ipykernel_10508\\465278554.py:2: DeprecationWarning: \n",
      "Pyarrow will become a required dependency of pandas in the next major release of pandas (pandas 3.0),\n",
      "(to allow more performant data types, such as the Arrow string type, and better interoperability with other libraries)\n",
      "but was not found to be installed on your system.\n",
      "If this would cause problems for you,\n",
      "please provide us feedback at https://github.com/pandas-dev/pandas/issues/54466\n",
      "        \n",
      "  import pandas as pd\n"
     ]
    }
   ],
   "source": [
    "from rpa_renewal_pemium import ProductModel, RenewalPremium\n",
    "import pandas as pd\n",
    "from tqdm import tqdm\n",
    "import os"
   ]
  },
  {
   "cell_type": "markdown",
   "metadata": {},
   "source": [
    "#### 설정값\n",
    "\n",
    "- RENEWAL_PREMIUM_LIST_PATH : 예상 갱신보험료 파일 경로\n",
    "- TEMP_DIR : HTML 파일을 저장할 폴더 경로\n",
    "- OUTPUT_DIR : PDF 파일을 저장할 폴더 경로"
   ]
  },
  {
   "cell_type": "code",
   "execution_count": 2,
   "metadata": {},
   "outputs": [],
   "source": [
    "RENEWAL_PREMIUM_LIST_PATH = './input/renewal_premium.txt'\n",
    "TEMP_DIR = './output/temp'\n",
    "OUTPUT_DIR = './output'"
   ]
  },
  {
   "cell_type": "code",
   "execution_count": 3,
   "metadata": {},
   "outputs": [],
   "source": [
    "rpa = RenewalPremium()      # RPA 인스턴스\n",
    "os.makedirs(os.path.abspath(TEMP_DIR), exist_ok=True)\n",
    "os.makedirs(os.path.abspath(OUTPUT_DIR), exist_ok=True)"
   ]
  },
  {
   "cell_type": "markdown",
   "metadata": {},
   "source": [
    "#### 예상 갱신보험료 정보 읽어오기"
   ]
  },
  {
   "cell_type": "code",
   "execution_count": 4,
   "metadata": {},
   "outputs": [
    {
     "name": "stdout",
     "output_type": "stream",
     "text": [
      "11개의 행을 불러옴\n"
     ]
    },
    {
     "data": {
      "text/html": [
       "<div>\n",
       "<style scoped>\n",
       "    .dataframe tbody tr th:only-of-type {\n",
       "        vertical-align: middle;\n",
       "    }\n",
       "\n",
       "    .dataframe tbody tr th {\n",
       "        vertical-align: top;\n",
       "    }\n",
       "\n",
       "    .dataframe thead th {\n",
       "        text-align: right;\n",
       "    }\n",
       "</style>\n",
       "<table border=\"1\" class=\"dataframe\">\n",
       "  <thead>\n",
       "    <tr style=\"text-align: right;\">\n",
       "      <th></th>\n",
       "      <th>상품명</th>\n",
       "      <th>급여명</th>\n",
       "      <th>연령</th>\n",
       "      <th>보험료</th>\n",
       "      <th>기준</th>\n",
       "    </tr>\n",
       "  </thead>\n",
       "  <tbody>\n",
       "    <tr>\n",
       "      <th>0</th>\n",
       "      <td>(무) 메리츠 The좋은 케어프리보험 M-Basket2401(1종)(1형)</td>\n",
       "      <td>갱신형 뇌출혈진단비</td>\n",
       "      <td>60</td>\n",
       "      <td>3740</td>\n",
       "      <td>남자, 40세, 상해1급</td>\n",
       "    </tr>\n",
       "    <tr>\n",
       "      <th>1</th>\n",
       "      <td>(무) 메리츠 The좋은 케어프리보험 M-Basket2401(1종)(1형)</td>\n",
       "      <td>갱신형 일반상해80%이상후유장해</td>\n",
       "      <td>60</td>\n",
       "      <td>840</td>\n",
       "      <td>남자, 40세, 상해1급</td>\n",
       "    </tr>\n",
       "    <tr>\n",
       "      <th>2</th>\n",
       "      <td>(무) 메리츠 The좋은 케어프리보험 M-Basket2401(1종)(1형)</td>\n",
       "      <td>갱신형 일반상해사망</td>\n",
       "      <td>60</td>\n",
       "      <td>8300</td>\n",
       "      <td>남자, 40세, 상해1급</td>\n",
       "    </tr>\n",
       "    <tr>\n",
       "      <th>3</th>\n",
       "      <td>(무) 메리츠 The좋은 케어프리보험 M-Basket2401(1종)(1형)</td>\n",
       "      <td>갱신형 질병80%이상후유장해</td>\n",
       "      <td>60</td>\n",
       "      <td>3594</td>\n",
       "      <td>남자, 40세, 상해1급</td>\n",
       "    </tr>\n",
       "    <tr>\n",
       "      <th>4</th>\n",
       "      <td>(무) 메리츠 The좋은 케어프리보험 M-Basket2401(1종)(1형)</td>\n",
       "      <td>갱신형 질병사망</td>\n",
       "      <td>60</td>\n",
       "      <td>23240</td>\n",
       "      <td>남자, 40세, 상해1급</td>\n",
       "    </tr>\n",
       "  </tbody>\n",
       "</table>\n",
       "</div>"
      ],
      "text/plain": [
       "                                         상품명                급여명  연령    보험료  \\\n",
       "0  (무) 메리츠 The좋은 케어프리보험 M-Basket2401(1종)(1형)         갱신형 뇌출혈진단비  60   3740   \n",
       "1  (무) 메리츠 The좋은 케어프리보험 M-Basket2401(1종)(1형)  갱신형 일반상해80%이상후유장해  60    840   \n",
       "2  (무) 메리츠 The좋은 케어프리보험 M-Basket2401(1종)(1형)         갱신형 일반상해사망  60   8300   \n",
       "3  (무) 메리츠 The좋은 케어프리보험 M-Basket2401(1종)(1형)    갱신형 질병80%이상후유장해  60   3594   \n",
       "4  (무) 메리츠 The좋은 케어프리보험 M-Basket2401(1종)(1형)           갱신형 질병사망  60  23240   \n",
       "\n",
       "              기준  \n",
       "0  남자, 40세, 상해1급  \n",
       "1  남자, 40세, 상해1급  \n",
       "2  남자, 40세, 상해1급  \n",
       "3  남자, 40세, 상해1급  \n",
       "4  남자, 40세, 상해1급  "
      ]
     },
     "execution_count": 4,
     "metadata": {},
     "output_type": "execute_result"
    }
   ],
   "source": [
    "df_renewal = pd.read_csv(RENEWAL_PREMIUM_LIST_PATH, sep='\\t')\n",
    "print(f\"{df_renewal.shape[0]}개의 행을 불러옴\")\n",
    "df_renewal.head()"
   ]
  },
  {
   "cell_type": "markdown",
   "metadata": {},
   "source": [
    "#### 예상 갱신보험료 업로드용 파일 생성하기\n",
    "\n",
    "- 상품별로 예상갱신보험료 파일을 HTML 형태 저장\n",
    "- HTML을 PDF로 변환하기"
   ]
  },
  {
   "cell_type": "code",
   "execution_count": 5,
   "metadata": {},
   "outputs": [
    {
     "name": "stderr",
     "output_type": "stream",
     "text": [
      "100%|██████████| 1/1 [00:11<00:00, 11.71s/it]\n"
     ]
    }
   ],
   "source": [
    "for (product_name, df) in tqdm(df_renewal.groupby(['상품명'])):\n",
    "\n",
    "    product_name = product_name[0]\n",
    "\n",
    "    try:                                    \n",
    "    \n",
    "        # 상품정보 세팅하기\n",
    "        product = ProductModel(product_name=product_name)\n",
    "        for row in df.values:\n",
    "            _, coverage_name, age, premium, condition = row\n",
    "            product.update(\n",
    "                coverage_name=coverage_name,\n",
    "                age=age,\n",
    "                premium=premium,\n",
    "                condition=condition\n",
    "            )\n",
    "        rpa.set_product(product=product)\n",
    " \n",
    "        # HTML 문서 생성\n",
    "        rpa.save_html(TEMP_DIR)\n",
    "\n",
    "        # HTML → PDF로 변환\n",
    "        rpa.html_to_pdf(html_dir=TEMP_DIR, pdf_dir=OUTPUT_DIR, product_name=product_name)\n",
    "\n",
    "    # 오류 처리\n",
    "    except:\n",
    "        print(f\"[ERROR] {product_name} 작업 中 오류가 발생했습니다\")"
   ]
  },
  {
   "cell_type": "code",
   "execution_count": null,
   "metadata": {},
   "outputs": [],
   "source": []
  }
 ],
 "metadata": {
  "kernelspec": {
   "display_name": ".venv",
   "language": "python",
   "name": "python3"
  },
  "language_info": {
   "codemirror_mode": {
    "name": "ipython",
    "version": 3
   },
   "file_extension": ".py",
   "mimetype": "text/x-python",
   "name": "python",
   "nbconvert_exporter": "python",
   "pygments_lexer": "ipython3",
   "version": "3.11.0"
  }
 },
 "nbformat": 4,
 "nbformat_minor": 2
}

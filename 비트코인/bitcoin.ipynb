{
 "cells": [
  {
   "cell_type": "markdown",
   "metadata": {},
   "source": [
    "# Set Up"
   ]
  },
  {
   "cell_type": "markdown",
   "metadata": {},
   "source": [
    "### Install Libraries\n",
    "\n",
    "pip install -r reqiurements.txt"
   ]
  },
  {
   "cell_type": "code",
   "execution_count": 1,
   "metadata": {},
   "outputs": [],
   "source": [
    "import requests\n",
    "import sqlite3\n",
    "from datetime import datetime, date, timedelta\n",
    "from time import mktime, sleep\n",
    "from stable_baselines3 import PPO\n",
    "import gym\n",
    "from gym import spaces\n",
    "import numpy as np\n",
    "from matplotlib import pyplot as plt\n",
    "from matplotlib import ticker"
   ]
  },
  {
   "cell_type": "markdown",
   "metadata": {},
   "source": [
    "# Get Data"
   ]
  },
  {
   "cell_type": "markdown",
   "metadata": {},
   "source": [
    "### Create local database and tables\n",
    "\n",
    "> bitcoin_data\n",
    "\n",
    "- 비트코인 데이터를 저장할 테이블\n",
    "- Columns\n",
    "    - timestamp\n",
    "    - price\n",
    "    - volume\n",
    "\n",
    "> validation\n",
    "\n",
    "- 시뮬레이션 결과를 데이터를 저장할 테이블\n",
    "- Columns\n",
    "    - step\n",
    "    - price\n",
    "    - volume\n",
    "    - balance\n",
    "    - reward"
   ]
  },
  {
   "cell_type": "code",
   "execution_count": null,
   "metadata": {},
   "outputs": [],
   "source": [
    "conn = sqlite3.connect('./bitcoin_data.db')\n",
    "cursor = conn.cursor()\n",
    "\n",
    "cursor.execute('''\n",
    "CREATE TABLE IF NOT EXISTS bitcoin_data (\n",
    "    timestamp INTEGER PRIMARY KEY,\n",
    "    price REAL,\n",
    "    volume REAL\n",
    ")\n",
    "''')\n",
    "\n",
    "cursor.execute('''\n",
    "CREATE TABLE IF NOT EXISTS validation (\n",
    "    step INTEGER PRIMARY KEY,\n",
    "    action REAL,\n",
    "    price REAL,\n",
    "    volume REAL,\n",
    "    balance REAL,\n",
    "    reward REAL\n",
    ")\n",
    "''')"
   ]
  },
  {
   "cell_type": "markdown",
   "metadata": {},
   "source": [
    "### Fetch Data\n",
    "\n",
    "> API\n",
    "\n",
    "- EndPoint : https://api.coingecko.com/api/v3/coins/bitcoin/market_chart/range\n",
    "- Params\n",
    "    - vs_currency\n",
    "    - krw\n",
    "    - from\n",
    "    - to\n",
    "\n",
    "> Remark\n",
    "\n",
    "- 최대 1분에 5번까지 요청가능하므로, 하루치 데이터를 가져올 때 마다 12초간 쉬었다가 다시 데이터를 적재\n",
    "- 최대 1년전 데이터까지 조회 가능"
   ]
  },
  {
   "cell_type": "code",
   "execution_count": 3,
   "metadata": {},
   "outputs": [],
   "source": [
    "vs_currency = 'krw'             # 원화표시\n",
    "ids = 'bitcoin'                 # 비트코인\n",
    "start_date = date(2024, 3, 1)   # 크롤링 시작일자 (최대 1년전)\n",
    "end_date = date(2025, 2, 1)     # 오늘날짜 (크롤링 종료일자)"
   ]
  },
  {
   "cell_type": "code",
   "execution_count": null,
   "metadata": {},
   "outputs": [],
   "source": [
    "current_date = start_date\n",
    "while current_date < end_date:\n",
    "    try:\n",
    "        # 하루치씩 비트코인 가격 크롤링\n",
    "        timestamp_start = int(mktime(current_date.timetuple()))\n",
    "        timestamp_end = timestamp_start + 86400 - 1\n",
    "\n",
    "        response = requests.get('https://api.coingecko.com/api/v3/coins/bitcoin/market_chart/range',\n",
    "                                params={'vs_currency': vs_currency, 'ids': ids, 'from': timestamp_start, 'to': timestamp_end})\n",
    "\n",
    "        # status code가 200(정상)이 아닌 경우 다음날짜 크롤링\n",
    "        if response.status_code != 200:\n",
    "            print(f'\\rError: {response.status_code} - {response.text}', end='')\n",
    "            continue\n",
    "\n",
    "        data = response.json()\n",
    "\n",
    "        # 데이터 형식이 이상한 경우 다음날짜 크롤링\n",
    "        if not 'prices' in data or not 'total_volumes' in data:\n",
    "            print(f'\\r price & volume not given', end='')\n",
    "            continue\n",
    "        \n",
    "        print(f\"\\rFetching data for {current_date}\", end=\"\")\n",
    "        for price_data, volume_data in zip(data['prices'], data['total_volumes']):\n",
    "            timestamp = price_data[0]\n",
    "            price = price_data[1]\n",
    "            volume = volume_data[1]\n",
    "            \n",
    "            # 데이터베이스에 시간/가격/거래량 정보 추가\n",
    "            cursor.execute('''\n",
    "                INSERT OR REPLACE INTO bitcoin_data (timestamp, price, volume)\n",
    "                VALUES (?, ?, ?)\n",
    "                ''', (timestamp, price, volume))\n",
    "        \n",
    "        conn.commit()\n",
    "        \n",
    "        sleep(12)  # 분당 5번만 요청 가능하므로 한번 요청시마다 12초 쉼\n",
    "    except:\n",
    "        sleep(12)\n",
    "    finally:\n",
    "        current_date += timedelta(days=1)"
   ]
  },
  {
   "cell_type": "markdown",
   "metadata": {},
   "source": [
    "# Environemnt"
   ]
  },
  {
   "cell_type": "code",
   "execution_count": 77,
   "metadata": {},
   "outputs": [],
   "source": [
    "class CoinEnv(gym.Env):\n",
    "    metadata = {'render.modes': ['human']}  # 사람이 이해하기 쉬운 방식으로 출력\n",
    "\n",
    "    def __init__(self, data, seed:int):\n",
    "        \"\"\"\n",
    "        params\n",
    "        - data : [(price, volume)]\n",
    "        - seed : 초기자금\n",
    "        \"\"\"\n",
    "        super(CoinEnv, self).__init__()\n",
    "        assert len(data)>0 and seed>0\n",
    "        self.data = data                   # (가격, 거래량) 시계열 데이터\n",
    "        self._shares_held = 0              # 보유 코인수\n",
    "        self.current_step = 0\n",
    "        self._seed = seed\n",
    "        self._balance = self._seed\n",
    "        self.n_step = len(self.data)\n",
    "        self._fee = 0.001\n",
    "        \"\"\"\n",
    "        observation_space : 관찰공간\n",
    "        - price : 가격\n",
    "        - volume : 거래량\n",
    "        - balance : 잔고\n",
    "        - reward : 보상 (= 잔고 + 보유코인가치 - 시드)\n",
    "        \"\"\"\n",
    "        self.observation_space = spaces.Box(low=0, high=np.inf, shape=(4,), dtype=np.float32)    \n",
    "        \"\"\"\n",
    "        action_space : 행동공간\n",
    "        - 현재 잔고액의 몇 %를 매수금액으로 사용할 것인지(음수면 매도)\n",
    "        \"\"\"\n",
    "        self.action_space = spaces.Box(low=-1, high=1, shape=(1,), dtype=np.float32)\n",
    "\n",
    "    def reset(self):\n",
    "        \"\"\" 상태공간을 초기화하는 함수 \"\"\"\n",
    "        self._balance = self._seed\n",
    "        self._shares_held = 0\n",
    "        self.current_step = 0\n",
    "        (price, volume) = self.data[self.current_step]\n",
    "        return np.array([price, volume, self._shares_held, self._balance], dtype=np.float32)\n",
    "\n",
    "    def step(self, action):\n",
    "        \"\"\" \n",
    "        잔고액의 action만큼 매수(음수면 매도)하는 경우, 다음 스텝의 상태공간을 반환하는 함수\n",
    "        - 코인 구입수는 소수점 밑으로 가능하다 가정 (비트코인 1개에 1억이 넘어서 이게 현실적임)\n",
    "        - 최대 매도 가능 코인수는 현재 보유 코인수로 가정 (공매도는 못한다고 가정)\n",
    "        - 거래 수수료는 없다고 가정\n",
    "        - 효용함수는 이익금액과 양의 선형관계 가정\n",
    "        \"\"\"\n",
    "        current_price, _ = self.data[self.current_step]\n",
    "\n",
    "        max_possible_buy = self._balance / current_price        # 최대 구입 가능 코인수\n",
    "        max_possible_sell = self._shares_held \n",
    "        action_scaled = action[0] * max(max_possible_buy, max_possible_sell)    \n",
    "        if action_scaled > 0:  # 매수시\n",
    "            shares_to_buy = min(action_scaled, max_possible_buy)\n",
    "            next_balance = self._balance - shares_to_buy * current_price * (1+self._fee)\n",
    "            next_shares_held = self._shares_held + shares_to_buy\n",
    "        elif action_scaled < 0:  # 매도시\n",
    "            shares_to_sell = min(-action_scaled, max_possible_sell)\n",
    "            next_balance = self._balance + shares_to_sell * current_price * (1-self._fee)\n",
    "            next_shares_held = self._shares_held - shares_to_sell\n",
    "        else:   # 보유시\n",
    "            next_balance = self._balance\n",
    "            next_shares_held = self._shares_held\n",
    "\n",
    "        next_step = min(self.current_step + 1, self.n_step - 1)\n",
    "        next_price, next_volume = self.data[next_step]\n",
    "        next_state = np.array([next_price, next_volume, next_shares_held, next_balance], dtype=np.float32)\n",
    "        reward = next_balance + next_shares_held * next_price - self._seed\n",
    "        done = self.current_step >= self.n_step - 1\n",
    "\n",
    "        # 상태 업데이트\n",
    "        self.current_step = next_step\n",
    "        self._balance = next_balance\n",
    "        self._shares_held = next_shares_held        \n",
    "\n",
    "        # 다음 상태, 보상, 완료여부, 추가정보\n",
    "        return next_state, reward, done, {}\n",
    "\n",
    "    @property\n",
    "    def reward(self) -> float:\n",
    "        # 보상 = 잔고 + 코인가격 x 보유코인수 - 시드\n",
    "        price, _ = self.data[self.current_step]\n",
    "        return self._balance + self._shares_held * price - self._seed\n",
    "\n",
    "    def __repr__(self):\n",
    "        current_price, _ = self.data[self.current_step]\n",
    "        return f\"Step:{self.current_step}|가격:{current_price}|잔고액:{self._balance}|보유코인수:{self._shares_held}\""
   ]
  },
  {
   "cell_type": "markdown",
   "metadata": {},
   "source": [
    "### Train\n",
    "\n",
    "훈련데이터 기간 : 2024-02-01~2024-11-30"
   ]
  },
  {
   "cell_type": "code",
   "execution_count": null,
   "metadata": {},
   "outputs": [],
   "source": [
    "dt = datetime(2025,1,1)\n",
    "ts = int(dt.timestamp())*1000\n",
    "cursor.execute('SELECT price, volume FROM bitcoin_data WHERE timestamp < ? order by timestamp', (ts,))\n",
    "train_data = cursor.fetchall()\n",
    "print(f'{len(train_data)}개의 시계열 데이터를 훈련데이터 사용')"
   ]
  },
  {
   "cell_type": "code",
   "execution_count": 79,
   "metadata": {},
   "outputs": [],
   "source": [
    "seed = 1000000      # 초기자금 백만원\n",
    "n_epochs = 1000     # 천번 훈련"
   ]
  },
  {
   "cell_type": "code",
   "execution_count": null,
   "metadata": {},
   "outputs": [],
   "source": [
    "train_env = CoinEnv(train_data, seed)                               # 훈련환경 구성\n",
    "model = PPO(\"MlpPolicy\", env=train_env, n_epochs = n_epochs)        # PPO모델 불러오기\n",
    "model.learn(total_timesteps=train_env.n_step)                       # 모델 학습\n",
    "model.save('./model')                                               # 모델 저장"
   ]
  },
  {
   "cell_type": "markdown",
   "metadata": {},
   "source": [
    "# Validation\n",
    "\n",
    "검증데이터 기간 : 2024-12-01~2024-12-31"
   ]
  },
  {
   "cell_type": "code",
   "execution_count": null,
   "metadata": {},
   "outputs": [],
   "source": [
    "validation_start_ts = int(datetime(2025,1,1).timestamp())*1000\n",
    "\n",
    "cursor.execute('SELECT price, volume FROM bitcoin_data WHERE timestamp > ? order by timestamp', \\\n",
    "    (validation_start_ts, ))\n",
    "validation_data = cursor.fetchall()\n",
    "print(f'{len(validation_data)}개의 시계열 데이터를 검증데이터 사용')"
   ]
  },
  {
   "cell_type": "code",
   "execution_count": 82,
   "metadata": {},
   "outputs": [],
   "source": [
    "cursor.execute('delete from validation where 1=1')\n",
    "\n",
    "validation_env = CoinEnv(validation_data, seed=seed)\n",
    "obs = validation_env.reset()\n",
    "for i in range(validation_env.n_step-1):\n",
    "    action, _ = model.predict(obs)\n",
    "    obs, reward, done, _ = validation_env.step(action)\n",
    "    price, volume, _, balance = obs\n",
    "    cursor.execute('''\n",
    "        INSERT INTO validation (step, action, price, volume, balance, reward)\n",
    "        VALUES (?, ?, ?, ?, ?, ?)\n",
    "        ''', (validation_env.current_step, float(action[0]), float(price), float(volume), float(balance), float(reward)))\n",
    "    if done:break\n",
    "conn.commit()"
   ]
  },
  {
   "cell_type": "markdown",
   "metadata": {},
   "source": [
    "# Plotting"
   ]
  },
  {
   "cell_type": "code",
   "execution_count": 83,
   "metadata": {},
   "outputs": [],
   "source": [
    "cursor.execute('SELECT step, price, reward, action FROM validation')\n",
    "data = cursor.fetchall()\n",
    "\n",
    "x = [i[0] for i in data]\n",
    "price = [float(i[1]) for i in data]\n",
    "reward = [i[2] for i in data]\n",
    "action = [float(i[-1]) for i in data]"
   ]
  },
  {
   "cell_type": "code",
   "execution_count": null,
   "metadata": {},
   "outputs": [],
   "source": [
    "fig, axes = plt.subplots(3, 1, figsize=(15, 5))\n",
    "\n",
    "# 첫 번째 그래프: price\n",
    "axes[0].plot(x, price, label='Price', color='b')\n",
    "axes[0].set_title('Price')\n",
    "axes[0].set_xlabel('Step')\n",
    "axes[0].set_ylabel('Price')\n",
    "axes[0].grid(True)\n",
    "\n",
    "# 두 번째 그래프: reward\n",
    "axes[1].plot(x, reward, label='Reward', color='r')\n",
    "axes[1].set_title('Reward')\n",
    "axes[1].set_xlabel('Step')\n",
    "axes[1].set_ylabel('Reward')\n",
    "axes[1].axhline(0, color='red', linestyle='--', linewidth=1)\n",
    "axes[1].grid(True)\n",
    "\n",
    "# 세 번째 그래프: action\n",
    "axes[2].plot(x, action, label='Action', color='g')\n",
    "axes[2].set_title('Action')\n",
    "axes[2].set_xlabel('Step')\n",
    "axes[2].set_ylabel('Action')\n",
    "axes[2].grid(True)\n",
    "\n",
    "plt.tight_layout()\n",
    "plt.show()"
   ]
  },
  {
   "cell_type": "code",
   "execution_count": null,
   "metadata": {},
   "outputs": [],
   "source": [
    "fig, ax = plt.subplots(1, 1, figsize=(15, 5))\n",
    "ax.plot(x, reward)\n",
    "ax.axhline(0, color='red', linestyle='--', linewidth=1)\n",
    "plt.show()"
   ]
  },
  {
   "cell_type": "code",
   "execution_count": null,
   "metadata": {},
   "outputs": [],
   "source": []
  }
 ],
 "metadata": {
  "kernelspec": {
   "display_name": ".venv",
   "language": "python",
   "name": "python3"
  },
  "language_info": {
   "codemirror_mode": {
    "name": "ipython",
    "version": 3
   },
   "file_extension": ".py",
   "mimetype": "text/x-python",
   "name": "python",
   "nbconvert_exporter": "python",
   "pygments_lexer": "ipython3",
   "version": "3.13.0"
  }
 },
 "nbformat": 4,
 "nbformat_minor": 2
}

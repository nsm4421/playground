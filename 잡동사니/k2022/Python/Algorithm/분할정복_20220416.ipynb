{
 "cells": [
  {
   "cell_type": "markdown",
   "metadata": {},
   "source": [
    "색종이 만들기\n",
    "\n",
    "    https://www.acmicpc.net/problem/2630"
   ]
  },
  {
   "cell_type": "code",
   "execution_count": null,
   "metadata": {},
   "outputs": [],
   "source": [
    "M = int(input())\n",
    "    \n",
    "tab = [list(map(int, input().split())) for _ in range(M)]\n",
    "\n",
    "def sum_2d(arr):\n",
    "    res = 0\n",
    "    for a in arr:\n",
    "        res += sum(a)\n",
    "    return res\n",
    "\n",
    "def sol_blue(n, t):\n",
    "    if sum_2d(t) == n**2:\n",
    "        return 1\n",
    "    elif sum_2d(t) == 0:\n",
    "        return 0\n",
    "    else:\n",
    "        n_ = n//2         \n",
    "        t1 = [t[i][:n_] for i in range(n_)]\n",
    "        t2 = [t[i][n_:] for i in range(n_)]\n",
    "        t3 = [t[i][:n_] for i in range(n_, n)]\n",
    "        t4 = [t[i][n_:] for i in range(n_, n)]       \n",
    "        return sol_blue(n_, t1)+sol_blue(n_, t2)+sol_blue(n_, t3)+sol_blue(n_, t4)      \n",
    "\n",
    "def sol_white(n, t):\n",
    "    if sum_2d(t) == n**2:\n",
    "        return 0\n",
    "    elif sum_2d(t) == 0:\n",
    "        return 1\n",
    "    else:\n",
    "        n_ = n//2         \n",
    "        t1 = [t[i][:n_] for i in range(n_)]\n",
    "        t2 = [t[i][n_:] for i in range(n_)]\n",
    "        t3 = [t[i][:n_] for i in range(n_, n)]\n",
    "        t4 = [t[i][n_:] for i in range(n_, n)]\n",
    "        return sol_white(n_, t1)+sol_white(n_, t2)+sol_white(n_, t3)+sol_white(n_, t4)      \n",
    "\n",
    "\n",
    "print(sol_white(M, tab))\n",
    "print(sol_blue(M, tab))"
   ]
  },
  {
   "cell_type": "markdown",
   "metadata": {},
   "source": [
    "쿼드트리\n",
    "\n",
    "    https://www.acmicpc.net/problem/1992"
   ]
  },
  {
   "cell_type": "code",
   "execution_count": 13,
   "metadata": {},
   "outputs": [
    {
     "name": "stdout",
     "output_type": "stream",
     "text": [
      "10\n",
      "12\n",
      "11\n"
     ]
    }
   ],
   "source": [
    "N = int(input())\n",
    "\n",
    "TAB = [list(map(int, input().split())) for _ in range(N)]\n",
    "\n",
    "cnt_minus1, cnt_zero, cnt_one = 0, 0, 0\n",
    "\n",
    "def criterion(length, table):\n",
    "    global cnt_minus1, cnt_zero, cnt_one\n",
    "    for i in range(length):\n",
    "        for j in range(length):\n",
    "            if table[i][j] != table[0][0]:\n",
    "                return False\n",
    "    if table[0][0] == -1:cnt_minus1+=1\n",
    "    elif table[0][0] ==0:cnt_zero+=1\n",
    "    else:cnt_one+=1\n",
    "    return True   \n",
    "\n",
    "def sol(length, table):\n",
    "    if length == 0:\n",
    "        return\n",
    "    if not criterion(length, table):\n",
    "        n = length//3\n",
    "        for i in range(3):\n",
    "            for j in range(3):\n",
    "                divided_table = [row[j*n:(j+1)*n] for row in table[i*n:(i+1)*n]]\n",
    "                sol(n, divided_table)\n",
    "\n",
    "sol(N, TAB)\n",
    "\n",
    "print(cnt_minus1) \n",
    "print(cnt_zero)\n",
    "print(cnt_one)"
   ]
  },
  {
   "cell_type": "code",
   "execution_count": 17,
   "metadata": {},
   "outputs": [
    {
     "ename": "NameError",
     "evalue": "name 't' is not defined",
     "output_type": "error",
     "traceback": [
      "\u001b[1;31m---------------------------------------------------------------------------\u001b[0m",
      "\u001b[1;31mNameError\u001b[0m                                 Traceback (most recent call last)",
      "\u001b[1;32m~\\AppData\\Local\\Temp/ipykernel_22412/3790515489.py\u001b[0m in \u001b[0;36m<module>\u001b[1;34m\u001b[0m\n\u001b[1;32m----> 1\u001b[1;33m \u001b[0mt\u001b[0m\u001b[1;33m\u001b[0m\u001b[1;33m\u001b[0m\u001b[0m\n\u001b[0m",
      "\u001b[1;31mNameError\u001b[0m: name 't' is not defined"
     ]
    }
   ],
   "source": [
    "t"
   ]
  },
  {
   "cell_type": "code",
   "execution_count": 14,
   "metadata": {},
   "outputs": [
    {
     "data": {
      "text/plain": [
       "[1, 2, 3]"
      ]
     },
     "execution_count": 14,
     "metadata": {},
     "output_type": "execute_result"
    }
   ],
   "source": [
    "a = [1,2,3]\n",
    "a[:3] "
   ]
  },
  {
   "cell_type": "code",
   "execution_count": null,
   "metadata": {},
   "outputs": [],
   "source": []
  },
  {
   "cell_type": "code",
   "execution_count": null,
   "metadata": {},
   "outputs": [],
   "source": []
  },
  {
   "cell_type": "code",
   "execution_count": null,
   "metadata": {},
   "outputs": [],
   "source": []
  }
 ],
 "metadata": {
  "interpreter": {
   "hash": "c82d94a48fd9619577fe9dd8e53e417893df5dc2bb0ea967f6feabc6bcdf8f2e"
  },
  "kernelspec": {
   "display_name": "Python 3.10.1 64-bit",
   "language": "python",
   "name": "python3"
  },
  "language_info": {
   "codemirror_mode": {
    "name": "ipython",
    "version": 3
   },
   "file_extension": ".py",
   "mimetype": "text/x-python",
   "name": "python",
   "nbconvert_exporter": "python",
   "pygments_lexer": "ipython3",
   "version": "3.10.1"
  },
  "orig_nbformat": 4
 },
 "nbformat": 4,
 "nbformat_minor": 2
}

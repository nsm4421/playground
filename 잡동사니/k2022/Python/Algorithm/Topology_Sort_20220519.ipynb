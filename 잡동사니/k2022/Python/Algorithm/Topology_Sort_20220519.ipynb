{
 "cells": [
  {
   "cell_type": "markdown",
   "metadata": {},
   "source": [
    "# 위상정렬"
   ]
  },
  {
   "cell_type": "markdown",
   "metadata": {},
   "source": [
    "위상정렬\n",
    "\n",
    "    https://www.acmicpc.net/problem/2252"
   ]
  },
  {
   "cell_type": "code",
   "execution_count": 2,
   "metadata": {},
   "outputs": [
    {
     "name": "stdout",
     "output_type": "stream",
     "text": [
      "3\n"
     ]
    }
   ],
   "source": [
    "N, M = map(int, input().split())\n",
    "graph = [[] for _ in range(N+1)]\n",
    "degree = [0 for _ in range(N+1)]\n",
    "for _ in range(M):\n",
    "    s, e = map(int, input().split())\n",
    "    graph[s].append(e)\n",
    "    degree[e] += 1\n",
    "\n",
    "from collections import deque\n",
    "\n",
    "result = []\n",
    "q = deque()\n",
    "for i in range(1, N+1):\n",
    "    if degree[i] == 0:\n",
    "        q.append(i)\n",
    "\n",
    "while q:\n",
    "    now = q.popleft()\n",
    "    result.append(now)\n",
    "\n",
    "    for adj in graph[now]:\n",
    "        degree[adj] -= 1\n",
    "        if degree[adj] == 0:\n",
    "            q.append(adj)\n",
    "\n",
    "print(*result)"
   ]
  },
  {
   "cell_type": "markdown",
   "metadata": {},
   "source": [
    "문제집\n",
    "\n",
    "    https://www.acmicpc.net/problem/1766"
   ]
  },
  {
   "cell_type": "code",
   "execution_count": 14,
   "metadata": {},
   "outputs": [
    {
     "name": "stdout",
     "output_type": "stream",
     "text": [
      "3 4 1 2\n"
     ]
    }
   ],
   "source": [
    "N, M = map(int, input().split())\n",
    "graph = [[] for _ in range(N+1)]\n",
    "degree = [0 for _ in range(N+1)]\n",
    "q = []\n",
    "\n",
    "for _ in range(M):\n",
    "    A, B = map(int, input().split())\n",
    "    graph[A].append(B)\n",
    "    degree[B] += 1\n",
    "\n",
    "import heapq\n",
    "\n",
    "for i in range(1, N+1):\n",
    "    if degree[i] == 0:\n",
    "        heapq.heappush(q, i)\n",
    "\n",
    "result = []\n",
    "while q:\n",
    "    now = heapq.heappop(q)\n",
    "    result.append(now)\n",
    "    for adj in graph[now]:\n",
    "        degree[adj] -= 1\n",
    "        if degree[adj] == 0:\n",
    "            heapq.heappush(q, adj)\n",
    "\n",
    "print(*result)"
   ]
  },
  {
   "cell_type": "markdown",
   "metadata": {},
   "source": [
    "https://tech.kakao.com/2020/07/01/2020-internship-test/"
   ]
  },
  {
   "cell_type": "markdown",
   "metadata": {},
   "source": [
    "전화번호"
   ]
  },
  {
   "cell_type": "code",
   "execution_count": 21,
   "metadata": {},
   "outputs": [],
   "source": [
    "def get_coord(x):\n",
    "    if x == \"*\":return (3, 0)\n",
    "    elif x == 0:return (3, 1)\n",
    "    elif x == \"#\":return (3, 2)\n",
    "    else:return((x-1)//3, (x-1)%3)\n",
    "\n",
    "def dist(x, y):\n",
    "    coord_x, coord_y = get_coord(x), get_coord(y)\n",
    "    return abs(coord_x[0]-coord_y[0])+abs(coord_x[1]-coord_y[1])\n",
    "\n",
    "def solution(numbers, hand):\n",
    "    answer = ''\n",
    "    tmp_left=\"*\"\n",
    "    tmp_right=\"#\"\n",
    "\n",
    "    for num in numbers:\n",
    "\n",
    "        if num in [1, 4, 7]:\n",
    "            action = \"L\"\n",
    "        elif num in [2, 5, 8]:\n",
    "            action = \"R\"\n",
    "        else:\n",
    "            dist_l = dist(tmp_left, num)\n",
    "            dist_r = dist(tmp_right, num)\n",
    "            if dist_l == dist_r:\n",
    "                action = \"R\" if hand=='right' else \"L\"\n",
    "            elif dist_l<dist_r:\n",
    "                action = \"L\"\n",
    "            else:\n",
    "                action = \"R\"\n",
    "                \n",
    "        if action == \"L\":\n",
    "            answer = answer+\"L\"\n",
    "            tmp_left = num\n",
    "        else:\n",
    "            answer = answer+\"R\"\n",
    "            tmp_right = num\n",
    "\n",
    "    return answer"
   ]
  },
  {
   "cell_type": "code",
   "execution_count": null,
   "metadata": {},
   "outputs": [],
   "source": []
  }
 ],
 "metadata": {
  "interpreter": {
   "hash": "db62b982d770fbbb238736d52661e6c8992a187d6ada533c1e14407ba82b5d74"
  },
  "kernelspec": {
   "display_name": "Python 3.10.1 64-bit",
   "language": "python",
   "name": "python3"
  },
  "language_info": {
   "codemirror_mode": {
    "name": "ipython",
    "version": 3
   },
   "file_extension": ".py",
   "mimetype": "text/x-python",
   "name": "python",
   "nbconvert_exporter": "python",
   "pygments_lexer": "ipython3",
   "version": "3.10.1"
  },
  "orig_nbformat": 4
 },
 "nbformat": 4,
 "nbformat_minor": 2
}

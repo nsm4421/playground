{
 "cells": [
  {
   "cell_type": "markdown",
   "metadata": {},
   "source": [
    "# Dijkstra Algorihm"
   ]
  },
  {
   "cell_type": "markdown",
   "metadata": {},
   "source": [
    "최단경로\n",
    "\n",
    "    https://www.acmicpc.net/problem/1753"
   ]
  },
  {
   "cell_type": "code",
   "execution_count": null,
   "metadata": {},
   "outputs": [],
   "source": [
    "# 입력값 받기\n",
    "V, E = map(int, input().split())    # 노드개수, 간선개수\n",
    "K = int(input())                    # 시작점\n",
    "graph = [[] for _ in range(V+1)]    \n",
    "for _ in range(E):\n",
    "    u, v, w = map(int, input().split())\n",
    "    graph[u].append((w, v))\n",
    "\n",
    "import heapq\n",
    "\n",
    "INF = 1e6\n",
    "dist_tab = [INF]*(V+1)          # 거리를 기록할 table\n",
    "dist_tab[K] = 0\n",
    "\n",
    "# 다익스트라 알고리즘\n",
    "def dijkstra(start : int):\n",
    "    q = []\n",
    "    heapq.heappush(q, (0, start))\n",
    "    while q:\n",
    "        dist, node = heapq.heappop(q)\n",
    "        if dist_tab[node]<dist:\n",
    "            continue\n",
    "        else:\n",
    "            for (dist_adj, node_adj) in graph[node]:\n",
    "                cost = dist_adj+dist\n",
    "                if cost<dist_tab[node_adj]:\n",
    "                    dist_tab[node_adj] = cost\n",
    "                    heapq.heappush(q, (cost, node_adj))\n",
    "\n",
    "dijkstra(K)\n",
    "\n",
    "# 결과 출력\n",
    "for i in range(1, V+1):\n",
    "    if dist_tab[i] == INF:\n",
    "        print(\"INF\")\n",
    "    else:\n",
    "        print(dist_tab[i])"
   ]
  },
  {
   "cell_type": "markdown",
   "metadata": {},
   "source": [
    "최소비용 구하기\n",
    "\n",
    "    https://www.acmicpc.net/problem/1916"
   ]
  },
  {
   "cell_type": "code",
   "execution_count": null,
   "metadata": {},
   "outputs": [],
   "source": [
    "# 입력값 받기\n",
    "N = int(input())    # 도시개수\n",
    "M = int(input())    # 버스개수\n",
    "graph = [[] for _ in range(N+1)]\n",
    "for _ in range(M):\n",
    "    s, e, d = map(int, input().split())\n",
    "    graph[s].append((d, e))\n",
    "S, E = map(int, input().split())    # 시작점, 종점\n",
    "\n",
    "import heapq\n",
    "\n",
    "INF = 1e8\n",
    "dist_tab = [INF]*(N+1)          # 거리를 기록할 table\n",
    "\n",
    "# 다익스트라 알고리즘\n",
    "def dijkstra(start : int):\n",
    "    q = []\n",
    "    dist_tab[start] = 0\n",
    "    heapq.heappush(q, (0, start))\n",
    "    while q:\n",
    "        dist, node = heapq.heappop(q)\n",
    "        if dist_tab[node]<dist:\n",
    "            continue\n",
    "        else:\n",
    "            for (dist_adj, node_adj) in graph[node]:\n",
    "                cost = dist_adj+dist\n",
    "                if cost<dist_tab[node_adj]:\n",
    "                    dist_tab[node_adj] = cost\n",
    "                    heapq.heappush(q, (cost, node_adj))\n",
    "\n",
    "dijkstra(S)\n",
    "\n",
    "print(dist_tab[E])"
   ]
  },
  {
   "cell_type": "markdown",
   "metadata": {},
   "source": [
    "특정한 최단경로\n",
    "\n",
    "    https://www.acmicpc.net/problem/1504"
   ]
  },
  {
   "cell_type": "code",
   "execution_count": null,
   "metadata": {},
   "outputs": [],
   "source": [
    "# 입력\n",
    "N, E = map(int, input().split())\n",
    "graph = [[] for _ in range(N+1)]\n",
    "for _ in range(E):\n",
    "    a, b, c = map(int, input().split())\n",
    "    graph[a].append((b, c))\n",
    "    graph[b].append((a, c))             # 양방향 그래프\n",
    "v1, v2 = map(int, input().split())\n",
    "\n",
    "import heapq\n",
    "INF = 1e7\n",
    "\n",
    "# 다익스트라 알고리즘\n",
    "def dijkstra(start : int, end : int)->int:\n",
    "\n",
    "    \"\"\"\n",
    "    start~end 최단거리 return\n",
    "    \"\"\"\n",
    "\n",
    "    global graph, INF\n",
    "\n",
    "    dist_tab = [INF]*(N+1)\n",
    "    \n",
    "    dist_tab[start] = 0\n",
    "    q = []\n",
    "    heapq.heappush(q, (0, start))\n",
    "\n",
    "    while q:\n",
    "        dist, now = heapq.heappop(q)\n",
    "        if dist_tab[now]<dist:\n",
    "            continue\n",
    "        for (adj_node, adj_dist) in graph[now]:\n",
    "            cost = dist + adj_dist\n",
    "            if cost<dist_tab[adj_node]:\n",
    "                dist_tab[adj_node] = cost\n",
    "                heapq.heappush(q, (cost, adj_node))\n",
    "    return dist_tab[end]\n",
    "\n",
    "# 1->v1->v2->N\n",
    "d1 = dijkstra(1, v1)+dijkstra(v1, v2) + dijkstra(v2,N)\n",
    "# 1->v2->v1->N\n",
    "d2 = dijkstra(1, v2)+dijkstra(v2, v1) + dijkstra(v1,N)\n",
    "# 최단거리\n",
    "min_d = min(d1, d2)\n",
    "\n",
    "if min_d >= INF:\n",
    "    print(-1)           # 도달 못하는 경우 -1\n",
    "else:\n",
    "    print(min_d)        # 도달 가능한 경우 최단거리"
   ]
  },
  {
   "cell_type": "markdown",
   "metadata": {},
   "source": [
    "숨박꼭질\n",
    "\n",
    "    https://www.acmicpc.net/problem/13549"
   ]
  },
  {
   "cell_type": "code",
   "execution_count": null,
   "metadata": {},
   "outputs": [],
   "source": [
    "N, K = map(int, input().split())\n",
    "INF = 100000\n",
    "graph = [[] for _ in range(INF+1)]\n",
    "for i in range(INF+1):\n",
    "    if 2*i<INF+1:\n",
    "        graph[i].append((2*i,0))\n",
    "    if i<INF:\n",
    "        graph[i].append((i+1,1))\n",
    "    if 0<i:\n",
    "        graph[i].append((i-1,1))\n",
    "\n",
    "import heapq\n",
    "\n",
    "dist_tab = [INF]*(INF+1)\n",
    "dist_tab[N] = 0\n",
    "q = []\n",
    "heapq.heappush(q, (0, N))\n",
    "while q:\n",
    "    dist, now = heapq.heappop(q)\n",
    "    if dist_tab[now]<dist:\n",
    "        continue\n",
    "    else:\n",
    "        for (adj_node, adj_dist) in graph[now]:\n",
    "            cost = adj_dist+dist\n",
    "            if cost<dist_tab[adj_node]:\n",
    "                dist_tab[adj_node] = cost\n",
    "                heapq.heappush(q, (cost, adj_node))\n",
    "\n",
    "print(dist_tab[K])"
   ]
  }
 ],
 "metadata": {
  "interpreter": {
   "hash": "c82d94a48fd9619577fe9dd8e53e417893df5dc2bb0ea967f6feabc6bcdf8f2e"
  },
  "kernelspec": {
   "display_name": "Python 3.10.1 64-bit",
   "language": "python",
   "name": "python3"
  },
  "language_info": {
   "codemirror_mode": {
    "name": "ipython",
    "version": 3
   },
   "file_extension": ".py",
   "mimetype": "text/x-python",
   "name": "python",
   "nbconvert_exporter": "python",
   "pygments_lexer": "ipython3",
   "version": "3.10.1"
  },
  "orig_nbformat": 4
 },
 "nbformat": 4,
 "nbformat_minor": 2
}

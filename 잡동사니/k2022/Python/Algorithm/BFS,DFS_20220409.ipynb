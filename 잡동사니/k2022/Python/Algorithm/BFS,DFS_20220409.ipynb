{
 "cells": [
  {
   "cell_type": "markdown",
   "metadata": {},
   "source": [
    "# DFS / BFS "
   ]
  },
  {
   "cell_type": "markdown",
   "metadata": {},
   "source": [
    "> DFS와 BFS\n",
    "\n",
    "    https://www.acmicpc.net/problem/1260"
   ]
  },
  {
   "cell_type": "code",
   "execution_count": null,
   "metadata": {},
   "outputs": [],
   "source": [
    "# input\n",
    "N, M, V = map(int, input().split())\n",
    "graph = [[0]*(N+1) for _ in range(N+1)]\n",
    "for _ in range(M):\n",
    "    s, e = map(int, input().split())\n",
    "    graph[s][e] = 1 \n",
    "    graph[e][s] = 1\n",
    "\n",
    "\n",
    "# dfs\n",
    "visited = [False]*(N+1)\n",
    "def dfs(start):\n",
    "    print(start, end = \" \")\n",
    "    visited[start] = True                                  \n",
    "    for i in range(1, N+1):\n",
    "        if graph[start][i] == 1 and visited[i] ==  False:   \n",
    "            dfs(i)\n",
    "\n",
    "# bfs\n",
    "from collections import deque\n",
    "visited = [False]*(N+1)\n",
    "def bfs(start):\n",
    "    queue = deque([start])\n",
    "    visited[start] = True\n",
    "    while queue:\n",
    "        v = queue.popleft()\n",
    "        print(v, end = \" \")\n",
    "        for i in range(1, N+1):\n",
    "            if graph[v][i] == 1 and visited[i] == False:\n",
    "                visited[i] = True\n",
    "                queue.append(i)"
   ]
  },
  {
   "cell_type": "markdown",
   "metadata": {},
   "source": [
    "> 미로탐색\n",
    "\n",
    "    https://www.acmicpc.net/problem/2178"
   ]
  },
  {
   "cell_type": "code",
   "execution_count": null,
   "metadata": {},
   "outputs": [],
   "source": [
    "N, M = map(int, input().split())\n",
    "graph = [list(map(int, input())) for _ in range(N)]"
   ]
  },
  {
   "cell_type": "code",
   "execution_count": null,
   "metadata": {},
   "outputs": [],
   "source": [
    "from collections import deque\n",
    "def bfs(x, y):\n",
    "    queue = deque()\n",
    "    queue.append((x, y))\n",
    "    while queue:\n",
    "        x, y = queue.popleft()\n",
    "\n",
    "        next_steps = [(x, y+1), (x, y-1), \\\n",
    "                (x+1, y), (x-1, y)]\n",
    "        \n",
    "        for (nx, ny) in next_steps:\n",
    "            if nx>=N or ny>=M or nx<0 or ny<0:\n",
    "                continue\n",
    "            elif graph[nx][ny] == 0:\n",
    "                continue\n",
    "            elif graph[nx][ny] == 1:\n",
    "                queue.append((nx, ny))\n",
    "                graph[nx][ny] = graph[x][y]+1\n",
    "bfs(0,0)\n",
    "print(graph[N-1][M-1])"
   ]
  },
  {
   "cell_type": "markdown",
   "metadata": {},
   "source": [
    "> 바이러스\n",
    "    \n",
    "    https://www.acmicpc.net/problem/2606"
   ]
  },
  {
   "cell_type": "code",
   "execution_count": null,
   "metadata": {},
   "outputs": [],
   "source": [
    "N = int(input())\n",
    "M = int(input())\n",
    "graph = [[]*(N+1) for _ in range(N+1)]\n",
    "for _ in range(M):\n",
    "    s, e = map(int, input().split())\n",
    "    graph[s].append(e)\n",
    "    graph[e].append(s)\n",
    "\n",
    "cnt = 0\n",
    "visited = [False]*(N+1)\n",
    "\n",
    "def dfs(v):\n",
    "    global cnt\n",
    "    visited[v] = True\n",
    "    for adj in graph[v]:        \n",
    "        if not visited[adj]:\n",
    "            dfs(adj)\n",
    "            cnt += 1\n",
    "\n",
    "dfs(1)\n",
    "print(cnt)"
   ]
  },
  {
   "cell_type": "markdown",
   "metadata": {},
   "source": [
    "> 섬의 개수\n",
    "\n",
    "    https://www.acmicpc.net/problem/4963"
   ]
  },
  {
   "cell_type": "code",
   "execution_count": null,
   "metadata": {},
   "outputs": [],
   "source": [
    "import sys\n",
    "sys.setrecursionlimit(10000)\n",
    "\n",
    "def dfs(x, y):\n",
    "    visited[x][y] = True\n",
    "    next_steps = [(x+1, y+1), (x+1, y), (x+1, y-1), \\\n",
    "        (x, y+1), (x, y-1), (x-1, y+1), (x-1, y), (x-1, y-1)]\n",
    "    for (nx, ny) in next_steps:\n",
    "        if nx<0 or nx>=h or ny<0 or ny>=w:\n",
    "            continue\n",
    "        if graph[nx][ny] == 1 and not visited[nx][ny]:\n",
    "            dfs(nx, ny)\n",
    "\n",
    "while True:\n",
    "\n",
    "    w, h = map(int, input().split())\n",
    "    if w == 0 and h == 0:\n",
    "        break\n",
    "    graph = [list(map(int, input().split())) for _ in range(h)]\n",
    "    visited = [[False for _ in range(w)] for _ in range(h)]\n",
    "    cnt = 0\n",
    "\n",
    "    for i in range(h):\n",
    "        for j in range(w):\n",
    "            if graph[i][j] == 1 and not visited[i][j]:\n",
    "                dfs(i, j)\n",
    "                cnt +=1\n",
    "    \n",
    "    print(cnt)"
   ]
  },
  {
   "cell_type": "code",
   "execution_count": null,
   "metadata": {},
   "outputs": [],
   "source": []
  }
 ],
 "metadata": {
  "interpreter": {
   "hash": "c82d94a48fd9619577fe9dd8e53e417893df5dc2bb0ea967f6feabc6bcdf8f2e"
  },
  "kernelspec": {
   "display_name": "Python 3.10.1 64-bit",
   "language": "python",
   "name": "python3"
  },
  "language_info": {
   "codemirror_mode": {
    "name": "ipython",
    "version": 3
   },
   "file_extension": ".py",
   "mimetype": "text/x-python",
   "name": "python",
   "nbconvert_exporter": "python",
   "pygments_lexer": "ipython3",
   "version": "3.10.1"
  },
  "orig_nbformat": 4
 },
 "nbformat": 4,
 "nbformat_minor": 2
}

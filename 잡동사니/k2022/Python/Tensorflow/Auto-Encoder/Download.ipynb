{
 "cells": [
  {
   "cell_type": "markdown",
   "metadata": {},
   "source": [
    "Load modules"
   ]
  },
  {
   "cell_type": "code",
   "execution_count": 1,
   "metadata": {},
   "outputs": [],
   "source": [
    "from pytube import YouTube as yt\n",
    "import os\n",
    "import cv2\n",
    "from tqdm import tqdm\n",
    "import numpy as np\n",
    "from PIL import Image"
   ]
  },
  {
   "cell_type": "markdown",
   "metadata": {},
   "source": [
    "URL"
   ]
  },
  {
   "cell_type": "code",
   "execution_count": 2,
   "metadata": {},
   "outputs": [],
   "source": [
    "train_url = \"https://www.youtube.com/watch?v=5EXgtz_seFA\"    # 극장판 1기 예고편 (무한열차편)\n",
    "test_url = \"https://www.youtube.com/watch?v=MQ9KbWtur5U\"     # 극장판 2기 예고편 (유곽편)"
   ]
  },
  {
   "cell_type": "markdown",
   "metadata": {},
   "source": [
    "Download"
   ]
  },
  {
   "cell_type": "code",
   "execution_count": 3,
   "metadata": {},
   "outputs": [
    {
     "name": "stdout",
     "output_type": "stream",
     "text": [
      "Down 성공\n",
      "Down 성공\n"
     ]
    }
   ],
   "source": [
    "def download(url : str):\n",
    "  streams = yt(url).streams\n",
    "  best_stream = streams.get_highest_resolution()\n",
    "  if best_stream == None:\n",
    "    raise Exception(\"Down 실패\")\n",
    "  else:\n",
    "    best_stream.download()\n",
    "    print(\"Down 성공\")\n",
    "\n",
    "train_stream = download(train_url)\n",
    "test_stream = download(test_url)"
   ]
  },
  {
   "cell_type": "markdown",
   "metadata": {},
   "source": [
    "Get gray clip"
   ]
  },
  {
   "cell_type": "code",
   "execution_count": 4,
   "metadata": {},
   "outputs": [],
   "source": [
    "train_clip_path = '[한글자막] 귀멸의칼날 무한열차편 4차 PV 예고편.mp4'\n",
    "test_clip_path = '【풀버전】 귀멸의 칼날 2기(유곽편) 예고편(PVTrailer) 한국어 번역 KORENGJPN.mp4'"
   ]
  },
  {
   "cell_type": "code",
   "execution_count": 7,
   "metadata": {},
   "outputs": [],
   "source": [
    "def preprocess(cilp_path : str):\n",
    "\n",
    "    capture = cv2.VideoCapture(cilp_path) \n",
    "    \n",
    "    n_frame = int(capture.get(cv2.CAP_PROP_FRAME_COUNT))\n",
    "    height = 360  \n",
    "    width = 640    \n",
    "\n",
    "    color_stack = []\n",
    "    gray_stack = []\n",
    "\n",
    "    for idx in tqdm(range(n_frame)):\n",
    "      \n",
    "      ret, original_frame = capture.read()\n",
    "      \n",
    "      if not ret:\n",
    "        break\n",
    "\n",
    "      resized_frame = cv2.resize(original_frame, (width, height), interpolation = cv2.INTER_AREA)\n",
    "      rgb_frame = cv2.cvtColor(resized_frame, cv2.COLOR_BGR2RGB)\n",
    "      gray_frame = cv2.cvtColor(rgb_frame, cv2.COLOR_BGR2GRAY)\n",
    "\n",
    "      color_stack.append(rgb_frame)\n",
    "      gray_stack.append(gray_frame)\n",
    "\n",
    "    return  np.stack(gray_stack),np.stack(color_stack)"
   ]
  },
  {
   "cell_type": "code",
   "execution_count": 8,
   "metadata": {},
   "outputs": [
    {
     "name": "stderr",
     "output_type": "stream",
     "text": [
      "100%|██████████| 2562/2562 [00:09<00:00, 277.33it/s]\n"
     ]
    }
   ],
   "source": [
    "train_x, train_y = preprocess(train_clip_path)"
   ]
  },
  {
   "cell_type": "code",
   "execution_count": null,
   "metadata": {},
   "outputs": [
    {
     "data": {
      "text/plain": [
       "numpy.ndarray"
      ]
     },
     "execution_count": 18,
     "metadata": {},
     "output_type": "execute_result"
    }
   ],
   "source": [
    "test_x, test_y = preprocess(test_clip_path)"
   ]
  },
  {
   "cell_type": "code",
   "execution_count": null,
   "metadata": {},
   "outputs": [],
   "source": []
  },
  {
   "cell_type": "code",
   "execution_count": 9,
   "metadata": {},
   "outputs": [],
   "source": [
    "np.savez_compressed('train.npz', train_x = train_x, train_y = train_y)"
   ]
  },
  {
   "cell_type": "code",
   "execution_count": null,
   "metadata": {},
   "outputs": [],
   "source": [
    "np.savez_compressed('test.npz', test_x = test_x, test_y = test_y)"
   ]
  }
 ],
 "metadata": {
  "interpreter": {
   "hash": "c82d94a48fd9619577fe9dd8e53e417893df5dc2bb0ea967f6feabc6bcdf8f2e"
  },
  "kernelspec": {
   "display_name": "Python 3.10.1 64-bit",
   "language": "python",
   "name": "python3"
  },
  "language_info": {
   "codemirror_mode": {
    "name": "ipython",
    "version": 3
   },
   "file_extension": ".py",
   "mimetype": "text/x-python",
   "name": "python",
   "nbconvert_exporter": "python",
   "pygments_lexer": "ipython3",
   "version": "3.10.1"
  },
  "orig_nbformat": 4
 },
 "nbformat": 4,
 "nbformat_minor": 2
}

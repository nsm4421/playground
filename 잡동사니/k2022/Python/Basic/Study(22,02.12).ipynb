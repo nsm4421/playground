{
 "cells": [
  {
   "cell_type": "markdown",
   "metadata": {},
   "source": [
    "# 속성명"
   ]
  },
  {
   "cell_type": "markdown",
   "metadata": {},
   "source": [
    "    __call__"
   ]
  },
  {
   "cell_type": "code",
   "execution_count": 18,
   "metadata": {},
   "outputs": [],
   "source": [
    "import random\n",
    "\n",
    "class MyOrder:\n",
    "    \"\"\"\n",
    "    순번을 정해주는 class\n",
    "    \"\"\"\n",
    "\n",
    "    def __init__(self, friends : list):\n",
    "        self.friends = friends      # 친구이름 list\n",
    "        random.shuffle(self.friends)\n",
    "        \n",
    "    def whosNext(self):\n",
    "        try:\n",
    "            who = self.friends.pop()\n",
    "            return who\n",
    "        except:\n",
    "            raise LookupError(\"남은 사람 無\")\n",
    "\n",
    "    def __call__(self):\n",
    "        return self.whosNext()"
   ]
  },
  {
   "cell_type": "code",
   "execution_count": 25,
   "metadata": {},
   "outputs": [],
   "source": [
    "order = MyOrder(['철수', '영희', '바둑이'])"
   ]
  },
  {
   "cell_type": "code",
   "execution_count": 26,
   "metadata": {},
   "outputs": [
    {
     "name": "stdout",
     "output_type": "stream",
     "text": [
      "바둑이\n",
      "영희\n",
      "철수\n"
     ]
    }
   ],
   "source": [
    "for _ in range(3):\n",
    "    print(order())"
   ]
  },
  {
   "cell_type": "code",
   "execution_count": 27,
   "metadata": {},
   "outputs": [
    {
     "ename": "LookupError",
     "evalue": "남은 사람 無",
     "output_type": "error",
     "traceback": [
      "\u001b[1;31m---------------------------------------------------------------------------\u001b[0m",
      "\u001b[1;31mIndexError\u001b[0m                                Traceback (most recent call last)",
      "\u001b[1;32m~\\AppData\\Local\\Temp/ipykernel_34600/1523708727.py\u001b[0m in \u001b[0;36mwhosNext\u001b[1;34m(self)\u001b[0m\n\u001b[0;32m     13\u001b[0m         \u001b[1;32mtry\u001b[0m\u001b[1;33m:\u001b[0m\u001b[1;33m\u001b[0m\u001b[1;33m\u001b[0m\u001b[0m\n\u001b[1;32m---> 14\u001b[1;33m             \u001b[0mwho\u001b[0m \u001b[1;33m=\u001b[0m \u001b[0mself\u001b[0m\u001b[1;33m.\u001b[0m\u001b[0mfriends\u001b[0m\u001b[1;33m.\u001b[0m\u001b[0mpop\u001b[0m\u001b[1;33m(\u001b[0m\u001b[1;33m)\u001b[0m\u001b[1;33m\u001b[0m\u001b[1;33m\u001b[0m\u001b[0m\n\u001b[0m\u001b[0;32m     15\u001b[0m             \u001b[1;32mreturn\u001b[0m \u001b[0mwho\u001b[0m\u001b[1;33m\u001b[0m\u001b[1;33m\u001b[0m\u001b[0m\n",
      "\u001b[1;31mIndexError\u001b[0m: pop from empty list",
      "\nDuring handling of the above exception, another exception occurred:\n",
      "\u001b[1;31mLookupError\u001b[0m                               Traceback (most recent call last)",
      "\u001b[1;32m~\\AppData\\Local\\Temp/ipykernel_34600/2515278169.py\u001b[0m in \u001b[0;36m<module>\u001b[1;34m\u001b[0m\n\u001b[1;32m----> 1\u001b[1;33m \u001b[0morder\u001b[0m\u001b[1;33m(\u001b[0m\u001b[1;33m)\u001b[0m\u001b[1;33m\u001b[0m\u001b[1;33m\u001b[0m\u001b[0m\n\u001b[0m",
      "\u001b[1;32m~\\AppData\\Local\\Temp/ipykernel_34600/1523708727.py\u001b[0m in \u001b[0;36m__call__\u001b[1;34m(self)\u001b[0m\n\u001b[0;32m     18\u001b[0m \u001b[1;33m\u001b[0m\u001b[0m\n\u001b[0;32m     19\u001b[0m     \u001b[1;32mdef\u001b[0m \u001b[0m__call__\u001b[0m\u001b[1;33m(\u001b[0m\u001b[0mself\u001b[0m\u001b[1;33m)\u001b[0m\u001b[1;33m:\u001b[0m\u001b[1;33m\u001b[0m\u001b[1;33m\u001b[0m\u001b[0m\n\u001b[1;32m---> 20\u001b[1;33m         \u001b[1;32mreturn\u001b[0m \u001b[0mself\u001b[0m\u001b[1;33m.\u001b[0m\u001b[0mwhosNext\u001b[0m\u001b[1;33m(\u001b[0m\u001b[1;33m)\u001b[0m\u001b[1;33m\u001b[0m\u001b[1;33m\u001b[0m\u001b[0m\n\u001b[0m",
      "\u001b[1;32m~\\AppData\\Local\\Temp/ipykernel_34600/1523708727.py\u001b[0m in \u001b[0;36mwhosNext\u001b[1;34m(self)\u001b[0m\n\u001b[0;32m     15\u001b[0m             \u001b[1;32mreturn\u001b[0m \u001b[0mwho\u001b[0m\u001b[1;33m\u001b[0m\u001b[1;33m\u001b[0m\u001b[0m\n\u001b[0;32m     16\u001b[0m         \u001b[1;32mexcept\u001b[0m\u001b[1;33m:\u001b[0m\u001b[1;33m\u001b[0m\u001b[1;33m\u001b[0m\u001b[0m\n\u001b[1;32m---> 17\u001b[1;33m             \u001b[1;32mraise\u001b[0m \u001b[0mLookupError\u001b[0m\u001b[1;33m(\u001b[0m\u001b[1;34m\"남은 사람 無\"\u001b[0m\u001b[1;33m)\u001b[0m\u001b[1;33m\u001b[0m\u001b[1;33m\u001b[0m\u001b[0m\n\u001b[0m\u001b[0;32m     18\u001b[0m \u001b[1;33m\u001b[0m\u001b[0m\n\u001b[0;32m     19\u001b[0m     \u001b[1;32mdef\u001b[0m \u001b[0m__call__\u001b[0m\u001b[1;33m(\u001b[0m\u001b[0mself\u001b[0m\u001b[1;33m)\u001b[0m\u001b[1;33m:\u001b[0m\u001b[1;33m\u001b[0m\u001b[1;33m\u001b[0m\u001b[0m\n",
      "\u001b[1;31mLookupError\u001b[0m: 남은 사람 無"
     ]
    }
   ],
   "source": [
    "order() # <--- Look up error"
   ]
  },
  {
   "cell_type": "markdown",
   "metadata": {},
   "source": [
    "    __anontations__\n",
    "\n",
    "    __doc__"
   ]
  },
  {
   "cell_type": "code",
   "execution_count": 45,
   "metadata": {},
   "outputs": [],
   "source": [
    "def test(a : int, b : 'int>0' = 1, c : int|float = None):\n",
    "    \"\"\"\n",
    "    Annoatation : ~~~~\n",
    "    \"\"\"\n",
    "    pass"
   ]
  },
  {
   "cell_type": "code",
   "execution_count": 47,
   "metadata": {},
   "outputs": [
    {
     "name": "stdout",
     "output_type": "stream",
     "text": [
      "\n",
      "    Annoatation : ~~~~\n",
      "    \n"
     ]
    }
   ],
   "source": [
    "print(test.__doc__)"
   ]
  },
  {
   "cell_type": "code",
   "execution_count": 49,
   "metadata": {},
   "outputs": [
    {
     "name": "stdout",
     "output_type": "stream",
     "text": [
      "a : <class 'int'>\n",
      "b : int>0\n",
      "c : int | float\n"
     ]
    }
   ],
   "source": [
    "for (k, v) in test.__annotations__.items():\n",
    "    print(f\"{k} : {v}\")"
   ]
  },
  {
   "cell_type": "markdown",
   "metadata": {},
   "source": [
    "# Operator module"
   ]
  },
  {
   "cell_type": "markdown",
   "metadata": {},
   "source": [
    "### reduce method"
   ]
  },
  {
   "cell_type": "markdown",
   "metadata": {},
   "source": [
    "> Factorial"
   ]
  },
  {
   "cell_type": "code",
   "execution_count": 43,
   "metadata": {},
   "outputs": [],
   "source": [
    "from functools import reduce\n",
    "from operator import mul\n",
    "\n",
    "def factorial1(n : int):\n",
    "    return reduce(lambda x,y :x*y, range(1, n+1))\n",
    "\n",
    "def factorial2(n : int):\n",
    "    return reduce(mul, range(1, n+1))"
   ]
  },
  {
   "cell_type": "code",
   "execution_count": 44,
   "metadata": {},
   "outputs": [
    {
     "name": "stdout",
     "output_type": "stream",
     "text": [
      "n=5 --> n! = 120 | n! = 120\n",
      "n=6 --> n! = 720 | n! = 720\n",
      "n=7 --> n! = 5040 | n! = 5040\n",
      "n=8 --> n! = 40320 | n! = 40320\n",
      "n=9 --> n! = 362880 | n! = 362880\n"
     ]
    }
   ],
   "source": [
    "for i in range(5,10):\n",
    "    print(f\"n={i} --> n! = {factorial1(i)} | n! = {factorial2(i)}\")"
   ]
  },
  {
   "cell_type": "markdown",
   "metadata": {},
   "source": [
    "### itemgetter method\n",
    "\n",
    "    functools.itemgetter()"
   ]
  },
  {
   "cell_type": "markdown",
   "metadata": {},
   "source": [
    "> sort list of tuple"
   ]
  },
  {
   "cell_type": "code",
   "execution_count": 50,
   "metadata": {},
   "outputs": [],
   "source": [
    "example = [\n",
    "    ('1','C','가'),\n",
    "    ('2','E','바'),\n",
    "    ('3','A','다'),\n",
    "    ('4','B','마'),\n",
    "    ('5','F','라'),\n",
    "]"
   ]
  },
  {
   "cell_type": "code",
   "execution_count": 55,
   "metadata": {},
   "outputs": [
    {
     "name": "stdout",
     "output_type": "stream",
     "text": [
      "('3', 'A', '다')\n",
      "('4', 'B', '라')\n",
      "('1', 'C', '바')\n",
      "('2', 'E', '아')\n",
      "('5', 'F', '마')\n"
     ]
    }
   ],
   "source": [
    "from operator import itemgetter\n",
    "\n",
    "sorted_1th_index = sorted(example, key=itemgetter(1))     # <---- tuple의 1번째 index를 기준으로 sort\n",
    "\n",
    "for item in sorted_1th_index:\n",
    "    print(item)"
   ]
  },
  {
   "cell_type": "markdown",
   "metadata": {},
   "source": [
    "> Slicing specific index"
   ]
  },
  {
   "cell_type": "code",
   "execution_count": 61,
   "metadata": {},
   "outputs": [
    {
     "name": "stdout",
     "output_type": "stream",
     "text": [
      "원래 원소 : ('1', 'C', '바') / 1, 0번째 index 원소만 뽑은거 : ('C', '1')\n",
      "원래 원소 : ('2', 'E', '아') / 1, 0번째 index 원소만 뽑은거 : ('E', '2')\n",
      "원래 원소 : ('3', 'A', '다') / 1, 0번째 index 원소만 뽑은거 : ('A', '3')\n",
      "원래 원소 : ('4', 'B', '라') / 1, 0번째 index 원소만 뽑은거 : ('B', '4')\n",
      "원래 원소 : ('5', 'F', '마') / 1, 0번째 index 원소만 뽑은거 : ('F', '5')\n"
     ]
    }
   ],
   "source": [
    "example_sliced = [itemgetter(1, 0)(item) for item in example]\n",
    "\n",
    "for original, sliced in zip(example, example_sliced):\n",
    "    print(f\"원래 원소 : {original} / 1, 0번째 index 원소만 뽑은거 : {sliced}\")"
   ]
  },
  {
   "cell_type": "code",
   "execution_count": 57,
   "metadata": {},
   "outputs": [
    {
     "name": "stdout",
     "output_type": "stream",
     "text": [
      "A\n",
      "AA\n",
      "AAA\n",
      "AAAAA\n",
      "AAAAAA\n"
     ]
    }
   ],
   "source": [
    "example2 = ['AAA', 'AAAAA', 'A', 'AA', 'AAAAAA']\n",
    "\n",
    "sorted_len = sorted(example2, key = len)    # <--- 길이 순으로 정렬\n",
    "\n",
    "for item in sorted_len:\n",
    "    print(item) "
   ]
  },
  {
   "cell_type": "markdown",
   "metadata": {},
   "source": [
    "### Partial method\n",
    "\n",
    "    functools.partial()"
   ]
  },
  {
   "cell_type": "code",
   "execution_count": 73,
   "metadata": {},
   "outputs": [],
   "source": [
    "# bad approach\n",
    "def power(x:float, n : int):\n",
    "    return x**n\n",
    "\n",
    "def square(x:float):\n",
    "    return power(x, 2)\n",
    "def cube(x:float):\n",
    "    return power(x, 3)\n",
    "def quad(x:float):\n",
    "    return power(x, 4)"
   ]
  },
  {
   "cell_type": "code",
   "execution_count": 74,
   "metadata": {},
   "outputs": [],
   "source": [
    "from functools import partial\n",
    "\n",
    "power = lambda x, n : x**n      # x^n\n",
    "square = partial(power, n=2)\n",
    "cube = partial(power, n=3)\n",
    "quad = partial(power, n=4)"
   ]
  },
  {
   "cell_type": "code",
   "execution_count": 75,
   "metadata": {},
   "outputs": [
    {
     "name": "stdout",
     "output_type": "stream",
     "text": [
      "x = 5 --> square : 25 | cube : 125 | quad : 625\n",
      "x = 6 --> square : 36 | cube : 216 | quad : 1296\n",
      "x = 7 --> square : 49 | cube : 343 | quad : 2401\n",
      "x = 8 --> square : 64 | cube : 512 | quad : 4096\n",
      "x = 9 --> square : 81 | cube : 729 | quad : 6561\n"
     ]
    }
   ],
   "source": [
    "for i in range(5,10):\n",
    "    print(f\"x = {i} --> square : {square(i)} | cube : {cube(i)} | quad : {quad(i)}\")"
   ]
  }
 ],
 "metadata": {
  "interpreter": {
   "hash": "c82d94a48fd9619577fe9dd8e53e417893df5dc2bb0ea967f6feabc6bcdf8f2e"
  },
  "kernelspec": {
   "display_name": "Python 3.10.1 64-bit",
   "language": "python",
   "name": "python3"
  },
  "language_info": {
   "codemirror_mode": {
    "name": "ipython",
    "version": 3
   },
   "file_extension": ".py",
   "mimetype": "text/x-python",
   "name": "python",
   "nbconvert_exporter": "python",
   "pygments_lexer": "ipython3",
   "version": "3.10.1"
  },
  "orig_nbformat": 4
 },
 "nbformat": 4,
 "nbformat_minor": 2
}
